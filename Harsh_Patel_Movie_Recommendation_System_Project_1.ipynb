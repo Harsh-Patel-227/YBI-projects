{
  "nbformat": 4,
  "nbformat_minor": 0,
  "metadata": {
    "colab": {
      "provenance": [],
      "authorship_tag": "ABX9TyO7knDL7i070S83mzTfDiwk",
      "include_colab_link": true
    },
    "kernelspec": {
      "name": "python3",
      "display_name": "Python 3"
    },
    "language_info": {
      "name": "python"
    }
  },
  "cells": [
    {
      "cell_type": "markdown",
      "metadata": {
        "id": "view-in-github",
        "colab_type": "text"
      },
      "source": [
        "<a href=\"https://colab.research.google.com/github/Harsh-Patel-227/YBI-projects/blob/main/Harsh_Patel_Movie_Recommendation_System_Project_1.ipynb\" target=\"_parent\"><img src=\"https://colab.research.google.com/assets/colab-badge.svg\" alt=\"Open In Colab\"/></a>"
      ]
    },
    {
      "cell_type": "markdown",
      "source": [
        "Import Library"
      ],
      "metadata": {
        "id": "jxOri63N-XXy"
      }
    },
    {
      "cell_type": "code",
      "execution_count": null,
      "metadata": {
        "id": "yPMDSNT59XEO"
      },
      "outputs": [],
      "source": [
        "import pandas as pd"
      ]
    },
    {
      "cell_type": "code",
      "source": [
        "import numpy as np"
      ],
      "metadata": {
        "id": "4hGXTeT1-aCB"
      },
      "execution_count": null,
      "outputs": []
    },
    {
      "cell_type": "markdown",
      "source": [
        "Import Data"
      ],
      "metadata": {
        "id": "FX4j9Ydq_gEd"
      }
    },
    {
      "cell_type": "code",
      "source": [
        "df = pd.read_csv('https://github.com/YBI-Foundation/Dataset/raw/main/Movies%20Recommendation.csv')"
      ],
      "metadata": {
        "id": "Lc59JHMp-cfD"
      },
      "execution_count": null,
      "outputs": []
    },
    {
      "cell_type": "code",
      "source": [
        "df.head()"
      ],
      "metadata": {
        "colab": {
          "base_uri": "https://localhost:8080/",
          "height": 672
        },
        "id": "37u7J-7m-chh",
        "outputId": "7e1de720-2243-44bc-a7b5-bc7876ea8b55"
      },
      "execution_count": null,
      "outputs": [
        {
          "output_type": "execute_result",
          "data": {
            "text/plain": [
              "   Movie_ID      Movie_Title                       Movie_Genre Movie_Language  \\\n",
              "0         1       Four Rooms                      Crime Comedy             en   \n",
              "1         2        Star Wars  Adventure Action Science Fiction             en   \n",
              "2         3     Finding Nemo                  Animation Family             en   \n",
              "3         4     Forrest Gump              Comedy Drama Romance             en   \n",
              "4         5  American Beauty                             Drama             en   \n",
              "\n",
              "   Movie_Budget  Movie_Popularity Movie_Release_Date  Movie_Revenue  \\\n",
              "0       4000000         22.876230         09-12-1995        4300000   \n",
              "1      11000000        126.393695         25-05-1977      775398007   \n",
              "2      94000000         85.688789         30-05-2003      940335536   \n",
              "3      55000000        138.133331         06-07-1994      677945399   \n",
              "4      15000000         80.878605         15-09-1999      356296601   \n",
              "\n",
              "   Movie_Runtime  Movie_Vote  ...  \\\n",
              "0           98.0         6.5  ...   \n",
              "1          121.0         8.1  ...   \n",
              "2          100.0         7.6  ...   \n",
              "3          142.0         8.2  ...   \n",
              "4          122.0         7.9  ...   \n",
              "\n",
              "                                      Movie_Homepage  \\\n",
              "0                                                NaN   \n",
              "1  http://www.starwars.com/films/star-wars-episod...   \n",
              "2              http://movies.disney.com/finding-nemo   \n",
              "3                                                NaN   \n",
              "4                      http://www.dreamworks.com/ab/   \n",
              "\n",
              "                                      Movie_Keywords  \\\n",
              "0          hotel new year's eve witch bet hotel room   \n",
              "1        android galaxy hermit death star lightsaber   \n",
              "2  father son relationship harbor underwater fish...   \n",
              "3  vietnam veteran hippie mentally disabled runni...   \n",
              "4  male nudity female nudity adultery midlife cri...   \n",
              "\n",
              "                                      Movie_Overview  \\\n",
              "0  It's Ted the Bellhop's first night on the job....   \n",
              "1  Princess Leia is captured and held hostage by ...   \n",
              "2  Nemo, an adventurous young clownfish, is unexp...   \n",
              "3  A man with a low IQ has accomplished great thi...   \n",
              "4  Lester Burnham, a depressed suburban father in...   \n",
              "\n",
              "                              Movie_Production_House  \\\n",
              "0  [{\"name\": \"Miramax Films\", \"id\": 14}, {\"name\":...   \n",
              "1  [{\"name\": \"Lucasfilm\", \"id\": 1}, {\"name\": \"Twe...   \n",
              "2     [{\"name\": \"Pixar Animation Studios\", \"id\": 3}]   \n",
              "3          [{\"name\": \"Paramount Pictures\", \"id\": 4}]   \n",
              "4  [{\"name\": \"DreamWorks SKG\", \"id\": 27}, {\"name\"...   \n",
              "\n",
              "                            Movie_Production_Country  \\\n",
              "0  [{\"iso_3166_1\": \"US\", \"name\": \"United States o...   \n",
              "1  [{\"iso_3166_1\": \"US\", \"name\": \"United States o...   \n",
              "2  [{\"iso_3166_1\": \"US\", \"name\": \"United States o...   \n",
              "3  [{\"iso_3166_1\": \"US\", \"name\": \"United States o...   \n",
              "4  [{\"iso_3166_1\": \"US\", \"name\": \"United States o...   \n",
              "\n",
              "                      Movie_Spoken_Language  \\\n",
              "0  [{\"iso_639_1\": \"en\", \"name\": \"English\"}]   \n",
              "1  [{\"iso_639_1\": \"en\", \"name\": \"English\"}]   \n",
              "2  [{\"iso_639_1\": \"en\", \"name\": \"English\"}]   \n",
              "3  [{\"iso_639_1\": \"en\", \"name\": \"English\"}]   \n",
              "4  [{\"iso_639_1\": \"en\", \"name\": \"English\"}]   \n",
              "\n",
              "                                       Movie_Tagline  \\\n",
              "0  Twelve outrageous guests. Four scandalous requ...   \n",
              "1       A long time ago in a galaxy far, far away...   \n",
              "2  There are 3.7 trillion fish in the ocean, they...   \n",
              "3  The world will never be the same, once you've ...   \n",
              "4                                       Look closer.   \n",
              "\n",
              "                                          Movie_Cast  \\\n",
              "0  Tim Roth Antonio Banderas Jennifer Beals Madon...   \n",
              "1  Mark Hamill Harrison Ford Carrie Fisher Peter ...   \n",
              "2  Albert Brooks Ellen DeGeneres Alexander Gould ...   \n",
              "3  Tom Hanks Robin Wright Gary Sinise Mykelti Wil...   \n",
              "4  Kevin Spacey Annette Bening Thora Birch Wes Be...   \n",
              "\n",
              "                                          Movie_Crew   Movie_Director  \n",
              "0  [{'name': 'Allison Anders', 'gender': 1, 'depa...   Allison Anders  \n",
              "1  [{'name': 'George Lucas', 'gender': 2, 'depart...     George Lucas  \n",
              "2  [{'name': 'Andrew Stanton', 'gender': 2, 'depa...   Andrew Stanton  \n",
              "3  [{'name': 'Alan Silvestri', 'gender': 2, 'depa...  Robert Zemeckis  \n",
              "4  [{'name': 'Thomas Newman', 'gender': 2, 'depar...       Sam Mendes  \n",
              "\n",
              "[5 rows x 21 columns]"
            ],
            "text/html": [
              "\n",
              "  <div id=\"df-943dbc47-5d13-4d21-bdd4-9222f38acf03\" class=\"colab-df-container\">\n",
              "    <div>\n",
              "<style scoped>\n",
              "    .dataframe tbody tr th:only-of-type {\n",
              "        vertical-align: middle;\n",
              "    }\n",
              "\n",
              "    .dataframe tbody tr th {\n",
              "        vertical-align: top;\n",
              "    }\n",
              "\n",
              "    .dataframe thead th {\n",
              "        text-align: right;\n",
              "    }\n",
              "</style>\n",
              "<table border=\"1\" class=\"dataframe\">\n",
              "  <thead>\n",
              "    <tr style=\"text-align: right;\">\n",
              "      <th></th>\n",
              "      <th>Movie_ID</th>\n",
              "      <th>Movie_Title</th>\n",
              "      <th>Movie_Genre</th>\n",
              "      <th>Movie_Language</th>\n",
              "      <th>Movie_Budget</th>\n",
              "      <th>Movie_Popularity</th>\n",
              "      <th>Movie_Release_Date</th>\n",
              "      <th>Movie_Revenue</th>\n",
              "      <th>Movie_Runtime</th>\n",
              "      <th>Movie_Vote</th>\n",
              "      <th>...</th>\n",
              "      <th>Movie_Homepage</th>\n",
              "      <th>Movie_Keywords</th>\n",
              "      <th>Movie_Overview</th>\n",
              "      <th>Movie_Production_House</th>\n",
              "      <th>Movie_Production_Country</th>\n",
              "      <th>Movie_Spoken_Language</th>\n",
              "      <th>Movie_Tagline</th>\n",
              "      <th>Movie_Cast</th>\n",
              "      <th>Movie_Crew</th>\n",
              "      <th>Movie_Director</th>\n",
              "    </tr>\n",
              "  </thead>\n",
              "  <tbody>\n",
              "    <tr>\n",
              "      <th>0</th>\n",
              "      <td>1</td>\n",
              "      <td>Four Rooms</td>\n",
              "      <td>Crime Comedy</td>\n",
              "      <td>en</td>\n",
              "      <td>4000000</td>\n",
              "      <td>22.876230</td>\n",
              "      <td>09-12-1995</td>\n",
              "      <td>4300000</td>\n",
              "      <td>98.0</td>\n",
              "      <td>6.5</td>\n",
              "      <td>...</td>\n",
              "      <td>NaN</td>\n",
              "      <td>hotel new year's eve witch bet hotel room</td>\n",
              "      <td>It's Ted the Bellhop's first night on the job....</td>\n",
              "      <td>[{\"name\": \"Miramax Films\", \"id\": 14}, {\"name\":...</td>\n",
              "      <td>[{\"iso_3166_1\": \"US\", \"name\": \"United States o...</td>\n",
              "      <td>[{\"iso_639_1\": \"en\", \"name\": \"English\"}]</td>\n",
              "      <td>Twelve outrageous guests. Four scandalous requ...</td>\n",
              "      <td>Tim Roth Antonio Banderas Jennifer Beals Madon...</td>\n",
              "      <td>[{'name': 'Allison Anders', 'gender': 1, 'depa...</td>\n",
              "      <td>Allison Anders</td>\n",
              "    </tr>\n",
              "    <tr>\n",
              "      <th>1</th>\n",
              "      <td>2</td>\n",
              "      <td>Star Wars</td>\n",
              "      <td>Adventure Action Science Fiction</td>\n",
              "      <td>en</td>\n",
              "      <td>11000000</td>\n",
              "      <td>126.393695</td>\n",
              "      <td>25-05-1977</td>\n",
              "      <td>775398007</td>\n",
              "      <td>121.0</td>\n",
              "      <td>8.1</td>\n",
              "      <td>...</td>\n",
              "      <td>http://www.starwars.com/films/star-wars-episod...</td>\n",
              "      <td>android galaxy hermit death star lightsaber</td>\n",
              "      <td>Princess Leia is captured and held hostage by ...</td>\n",
              "      <td>[{\"name\": \"Lucasfilm\", \"id\": 1}, {\"name\": \"Twe...</td>\n",
              "      <td>[{\"iso_3166_1\": \"US\", \"name\": \"United States o...</td>\n",
              "      <td>[{\"iso_639_1\": \"en\", \"name\": \"English\"}]</td>\n",
              "      <td>A long time ago in a galaxy far, far away...</td>\n",
              "      <td>Mark Hamill Harrison Ford Carrie Fisher Peter ...</td>\n",
              "      <td>[{'name': 'George Lucas', 'gender': 2, 'depart...</td>\n",
              "      <td>George Lucas</td>\n",
              "    </tr>\n",
              "    <tr>\n",
              "      <th>2</th>\n",
              "      <td>3</td>\n",
              "      <td>Finding Nemo</td>\n",
              "      <td>Animation Family</td>\n",
              "      <td>en</td>\n",
              "      <td>94000000</td>\n",
              "      <td>85.688789</td>\n",
              "      <td>30-05-2003</td>\n",
              "      <td>940335536</td>\n",
              "      <td>100.0</td>\n",
              "      <td>7.6</td>\n",
              "      <td>...</td>\n",
              "      <td>http://movies.disney.com/finding-nemo</td>\n",
              "      <td>father son relationship harbor underwater fish...</td>\n",
              "      <td>Nemo, an adventurous young clownfish, is unexp...</td>\n",
              "      <td>[{\"name\": \"Pixar Animation Studios\", \"id\": 3}]</td>\n",
              "      <td>[{\"iso_3166_1\": \"US\", \"name\": \"United States o...</td>\n",
              "      <td>[{\"iso_639_1\": \"en\", \"name\": \"English\"}]</td>\n",
              "      <td>There are 3.7 trillion fish in the ocean, they...</td>\n",
              "      <td>Albert Brooks Ellen DeGeneres Alexander Gould ...</td>\n",
              "      <td>[{'name': 'Andrew Stanton', 'gender': 2, 'depa...</td>\n",
              "      <td>Andrew Stanton</td>\n",
              "    </tr>\n",
              "    <tr>\n",
              "      <th>3</th>\n",
              "      <td>4</td>\n",
              "      <td>Forrest Gump</td>\n",
              "      <td>Comedy Drama Romance</td>\n",
              "      <td>en</td>\n",
              "      <td>55000000</td>\n",
              "      <td>138.133331</td>\n",
              "      <td>06-07-1994</td>\n",
              "      <td>677945399</td>\n",
              "      <td>142.0</td>\n",
              "      <td>8.2</td>\n",
              "      <td>...</td>\n",
              "      <td>NaN</td>\n",
              "      <td>vietnam veteran hippie mentally disabled runni...</td>\n",
              "      <td>A man with a low IQ has accomplished great thi...</td>\n",
              "      <td>[{\"name\": \"Paramount Pictures\", \"id\": 4}]</td>\n",
              "      <td>[{\"iso_3166_1\": \"US\", \"name\": \"United States o...</td>\n",
              "      <td>[{\"iso_639_1\": \"en\", \"name\": \"English\"}]</td>\n",
              "      <td>The world will never be the same, once you've ...</td>\n",
              "      <td>Tom Hanks Robin Wright Gary Sinise Mykelti Wil...</td>\n",
              "      <td>[{'name': 'Alan Silvestri', 'gender': 2, 'depa...</td>\n",
              "      <td>Robert Zemeckis</td>\n",
              "    </tr>\n",
              "    <tr>\n",
              "      <th>4</th>\n",
              "      <td>5</td>\n",
              "      <td>American Beauty</td>\n",
              "      <td>Drama</td>\n",
              "      <td>en</td>\n",
              "      <td>15000000</td>\n",
              "      <td>80.878605</td>\n",
              "      <td>15-09-1999</td>\n",
              "      <td>356296601</td>\n",
              "      <td>122.0</td>\n",
              "      <td>7.9</td>\n",
              "      <td>...</td>\n",
              "      <td>http://www.dreamworks.com/ab/</td>\n",
              "      <td>male nudity female nudity adultery midlife cri...</td>\n",
              "      <td>Lester Burnham, a depressed suburban father in...</td>\n",
              "      <td>[{\"name\": \"DreamWorks SKG\", \"id\": 27}, {\"name\"...</td>\n",
              "      <td>[{\"iso_3166_1\": \"US\", \"name\": \"United States o...</td>\n",
              "      <td>[{\"iso_639_1\": \"en\", \"name\": \"English\"}]</td>\n",
              "      <td>Look closer.</td>\n",
              "      <td>Kevin Spacey Annette Bening Thora Birch Wes Be...</td>\n",
              "      <td>[{'name': 'Thomas Newman', 'gender': 2, 'depar...</td>\n",
              "      <td>Sam Mendes</td>\n",
              "    </tr>\n",
              "  </tbody>\n",
              "</table>\n",
              "<p>5 rows × 21 columns</p>\n",
              "</div>\n",
              "    <div class=\"colab-df-buttons\">\n",
              "\n",
              "  <div class=\"colab-df-container\">\n",
              "    <button class=\"colab-df-convert\" onclick=\"convertToInteractive('df-943dbc47-5d13-4d21-bdd4-9222f38acf03')\"\n",
              "            title=\"Convert this dataframe to an interactive table.\"\n",
              "            style=\"display:none;\">\n",
              "\n",
              "  <svg xmlns=\"http://www.w3.org/2000/svg\" height=\"24px\" viewBox=\"0 -960 960 960\">\n",
              "    <path d=\"M120-120v-720h720v720H120Zm60-500h600v-160H180v160Zm220 220h160v-160H400v160Zm0 220h160v-160H400v160ZM180-400h160v-160H180v160Zm440 0h160v-160H620v160ZM180-180h160v-160H180v160Zm440 0h160v-160H620v160Z\"/>\n",
              "  </svg>\n",
              "    </button>\n",
              "\n",
              "  <style>\n",
              "    .colab-df-container {\n",
              "      display:flex;\n",
              "      gap: 12px;\n",
              "    }\n",
              "\n",
              "    .colab-df-convert {\n",
              "      background-color: #E8F0FE;\n",
              "      border: none;\n",
              "      border-radius: 50%;\n",
              "      cursor: pointer;\n",
              "      display: none;\n",
              "      fill: #1967D2;\n",
              "      height: 32px;\n",
              "      padding: 0 0 0 0;\n",
              "      width: 32px;\n",
              "    }\n",
              "\n",
              "    .colab-df-convert:hover {\n",
              "      background-color: #E2EBFA;\n",
              "      box-shadow: 0px 1px 2px rgba(60, 64, 67, 0.3), 0px 1px 3px 1px rgba(60, 64, 67, 0.15);\n",
              "      fill: #174EA6;\n",
              "    }\n",
              "\n",
              "    .colab-df-buttons div {\n",
              "      margin-bottom: 4px;\n",
              "    }\n",
              "\n",
              "    [theme=dark] .colab-df-convert {\n",
              "      background-color: #3B4455;\n",
              "      fill: #D2E3FC;\n",
              "    }\n",
              "\n",
              "    [theme=dark] .colab-df-convert:hover {\n",
              "      background-color: #434B5C;\n",
              "      box-shadow: 0px 1px 3px 1px rgba(0, 0, 0, 0.15);\n",
              "      filter: drop-shadow(0px 1px 2px rgba(0, 0, 0, 0.3));\n",
              "      fill: #FFFFFF;\n",
              "    }\n",
              "  </style>\n",
              "\n",
              "    <script>\n",
              "      const buttonEl =\n",
              "        document.querySelector('#df-943dbc47-5d13-4d21-bdd4-9222f38acf03 button.colab-df-convert');\n",
              "      buttonEl.style.display =\n",
              "        google.colab.kernel.accessAllowed ? 'block' : 'none';\n",
              "\n",
              "      async function convertToInteractive(key) {\n",
              "        const element = document.querySelector('#df-943dbc47-5d13-4d21-bdd4-9222f38acf03');\n",
              "        const dataTable =\n",
              "          await google.colab.kernel.invokeFunction('convertToInteractive',\n",
              "                                                    [key], {});\n",
              "        if (!dataTable) return;\n",
              "\n",
              "        const docLinkHtml = 'Like what you see? Visit the ' +\n",
              "          '<a target=\"_blank\" href=https://colab.research.google.com/notebooks/data_table.ipynb>data table notebook</a>'\n",
              "          + ' to learn more about interactive tables.';\n",
              "        element.innerHTML = '';\n",
              "        dataTable['output_type'] = 'display_data';\n",
              "        await google.colab.output.renderOutput(dataTable, element);\n",
              "        const docLink = document.createElement('div');\n",
              "        docLink.innerHTML = docLinkHtml;\n",
              "        element.appendChild(docLink);\n",
              "      }\n",
              "    </script>\n",
              "  </div>\n",
              "\n",
              "\n",
              "<div id=\"df-9e5f975a-66db-4258-b877-867e554711a9\">\n",
              "  <button class=\"colab-df-quickchart\" onclick=\"quickchart('df-9e5f975a-66db-4258-b877-867e554711a9')\"\n",
              "            title=\"Suggest charts\"\n",
              "            style=\"display:none;\">\n",
              "\n",
              "<svg xmlns=\"http://www.w3.org/2000/svg\" height=\"24px\"viewBox=\"0 0 24 24\"\n",
              "     width=\"24px\">\n",
              "    <g>\n",
              "        <path d=\"M19 3H5c-1.1 0-2 .9-2 2v14c0 1.1.9 2 2 2h14c1.1 0 2-.9 2-2V5c0-1.1-.9-2-2-2zM9 17H7v-7h2v7zm4 0h-2V7h2v10zm4 0h-2v-4h2v4z\"/>\n",
              "    </g>\n",
              "</svg>\n",
              "  </button>\n",
              "\n",
              "<style>\n",
              "  .colab-df-quickchart {\n",
              "      --bg-color: #E8F0FE;\n",
              "      --fill-color: #1967D2;\n",
              "      --hover-bg-color: #E2EBFA;\n",
              "      --hover-fill-color: #174EA6;\n",
              "      --disabled-fill-color: #AAA;\n",
              "      --disabled-bg-color: #DDD;\n",
              "  }\n",
              "\n",
              "  [theme=dark] .colab-df-quickchart {\n",
              "      --bg-color: #3B4455;\n",
              "      --fill-color: #D2E3FC;\n",
              "      --hover-bg-color: #434B5C;\n",
              "      --hover-fill-color: #FFFFFF;\n",
              "      --disabled-bg-color: #3B4455;\n",
              "      --disabled-fill-color: #666;\n",
              "  }\n",
              "\n",
              "  .colab-df-quickchart {\n",
              "    background-color: var(--bg-color);\n",
              "    border: none;\n",
              "    border-radius: 50%;\n",
              "    cursor: pointer;\n",
              "    display: none;\n",
              "    fill: var(--fill-color);\n",
              "    height: 32px;\n",
              "    padding: 0;\n",
              "    width: 32px;\n",
              "  }\n",
              "\n",
              "  .colab-df-quickchart:hover {\n",
              "    background-color: var(--hover-bg-color);\n",
              "    box-shadow: 0 1px 2px rgba(60, 64, 67, 0.3), 0 1px 3px 1px rgba(60, 64, 67, 0.15);\n",
              "    fill: var(--button-hover-fill-color);\n",
              "  }\n",
              "\n",
              "  .colab-df-quickchart-complete:disabled,\n",
              "  .colab-df-quickchart-complete:disabled:hover {\n",
              "    background-color: var(--disabled-bg-color);\n",
              "    fill: var(--disabled-fill-color);\n",
              "    box-shadow: none;\n",
              "  }\n",
              "\n",
              "  .colab-df-spinner {\n",
              "    border: 2px solid var(--fill-color);\n",
              "    border-color: transparent;\n",
              "    border-bottom-color: var(--fill-color);\n",
              "    animation:\n",
              "      spin 1s steps(1) infinite;\n",
              "  }\n",
              "\n",
              "  @keyframes spin {\n",
              "    0% {\n",
              "      border-color: transparent;\n",
              "      border-bottom-color: var(--fill-color);\n",
              "      border-left-color: var(--fill-color);\n",
              "    }\n",
              "    20% {\n",
              "      border-color: transparent;\n",
              "      border-left-color: var(--fill-color);\n",
              "      border-top-color: var(--fill-color);\n",
              "    }\n",
              "    30% {\n",
              "      border-color: transparent;\n",
              "      border-left-color: var(--fill-color);\n",
              "      border-top-color: var(--fill-color);\n",
              "      border-right-color: var(--fill-color);\n",
              "    }\n",
              "    40% {\n",
              "      border-color: transparent;\n",
              "      border-right-color: var(--fill-color);\n",
              "      border-top-color: var(--fill-color);\n",
              "    }\n",
              "    60% {\n",
              "      border-color: transparent;\n",
              "      border-right-color: var(--fill-color);\n",
              "    }\n",
              "    80% {\n",
              "      border-color: transparent;\n",
              "      border-right-color: var(--fill-color);\n",
              "      border-bottom-color: var(--fill-color);\n",
              "    }\n",
              "    90% {\n",
              "      border-color: transparent;\n",
              "      border-bottom-color: var(--fill-color);\n",
              "    }\n",
              "  }\n",
              "</style>\n",
              "\n",
              "  <script>\n",
              "    async function quickchart(key) {\n",
              "      const quickchartButtonEl =\n",
              "        document.querySelector('#' + key + ' button');\n",
              "      quickchartButtonEl.disabled = true;  // To prevent multiple clicks.\n",
              "      quickchartButtonEl.classList.add('colab-df-spinner');\n",
              "      try {\n",
              "        const charts = await google.colab.kernel.invokeFunction(\n",
              "            'suggestCharts', [key], {});\n",
              "      } catch (error) {\n",
              "        console.error('Error during call to suggestCharts:', error);\n",
              "      }\n",
              "      quickchartButtonEl.classList.remove('colab-df-spinner');\n",
              "      quickchartButtonEl.classList.add('colab-df-quickchart-complete');\n",
              "    }\n",
              "    (() => {\n",
              "      let quickchartButtonEl =\n",
              "        document.querySelector('#df-9e5f975a-66db-4258-b877-867e554711a9 button');\n",
              "      quickchartButtonEl.style.display =\n",
              "        google.colab.kernel.accessAllowed ? 'block' : 'none';\n",
              "    })();\n",
              "  </script>\n",
              "</div>\n",
              "\n",
              "    </div>\n",
              "  </div>\n"
            ],
            "application/vnd.google.colaboratory.intrinsic+json": {
              "type": "dataframe",
              "variable_name": "df"
            }
          },
          "metadata": {},
          "execution_count": 124
        }
      ]
    },
    {
      "cell_type": "code",
      "source": [
        "df.info()"
      ],
      "metadata": {
        "id": "vAc2CoLk-ckB",
        "colab": {
          "base_uri": "https://localhost:8080/"
        },
        "outputId": "c16b78b9-8cc6-429b-eec1-04a37e4dc3a6"
      },
      "execution_count": null,
      "outputs": [
        {
          "output_type": "stream",
          "name": "stdout",
          "text": [
            "<class 'pandas.core.frame.DataFrame'>\n",
            "RangeIndex: 4760 entries, 0 to 4759\n",
            "Data columns (total 21 columns):\n",
            " #   Column                    Non-Null Count  Dtype  \n",
            "---  ------                    --------------  -----  \n",
            " 0   Movie_ID                  4760 non-null   int64  \n",
            " 1   Movie_Title               4760 non-null   object \n",
            " 2   Movie_Genre               4760 non-null   object \n",
            " 3   Movie_Language            4760 non-null   object \n",
            " 4   Movie_Budget              4760 non-null   int64  \n",
            " 5   Movie_Popularity          4760 non-null   float64\n",
            " 6   Movie_Release_Date        4760 non-null   object \n",
            " 7   Movie_Revenue             4760 non-null   int64  \n",
            " 8   Movie_Runtime             4758 non-null   float64\n",
            " 9   Movie_Vote                4760 non-null   float64\n",
            " 10  Movie_Vote_Count          4760 non-null   int64  \n",
            " 11  Movie_Homepage            1699 non-null   object \n",
            " 12  Movie_Keywords            4373 non-null   object \n",
            " 13  Movie_Overview            4757 non-null   object \n",
            " 14  Movie_Production_House    4760 non-null   object \n",
            " 15  Movie_Production_Country  4760 non-null   object \n",
            " 16  Movie_Spoken_Language     4760 non-null   object \n",
            " 17  Movie_Tagline             3942 non-null   object \n",
            " 18  Movie_Cast                4733 non-null   object \n",
            " 19  Movie_Crew                4760 non-null   object \n",
            " 20  Movie_Director            4738 non-null   object \n",
            "dtypes: float64(3), int64(4), object(14)\n",
            "memory usage: 781.1+ KB\n"
          ]
        }
      ]
    },
    {
      "cell_type": "code",
      "source": [
        "df.shape"
      ],
      "metadata": {
        "id": "x-BQ4xA--cmr",
        "colab": {
          "base_uri": "https://localhost:8080/"
        },
        "outputId": "1d68b2f1-faa3-40bb-a5cc-43cd49e5b133"
      },
      "execution_count": null,
      "outputs": [
        {
          "output_type": "execute_result",
          "data": {
            "text/plain": [
              "(4760, 21)"
            ]
          },
          "metadata": {},
          "execution_count": 126
        }
      ]
    },
    {
      "cell_type": "code",
      "source": [
        "df.columns"
      ],
      "metadata": {
        "id": "PszdOzsm-cpK",
        "colab": {
          "base_uri": "https://localhost:8080/"
        },
        "outputId": "6995ab70-884f-4a58-9988-379e832f3f05"
      },
      "execution_count": null,
      "outputs": [
        {
          "output_type": "execute_result",
          "data": {
            "text/plain": [
              "Index(['Movie_ID', 'Movie_Title', 'Movie_Genre', 'Movie_Language',\n",
              "       'Movie_Budget', 'Movie_Popularity', 'Movie_Release_Date',\n",
              "       'Movie_Revenue', 'Movie_Runtime', 'Movie_Vote', 'Movie_Vote_Count',\n",
              "       'Movie_Homepage', 'Movie_Keywords', 'Movie_Overview',\n",
              "       'Movie_Production_House', 'Movie_Production_Country',\n",
              "       'Movie_Spoken_Language', 'Movie_Tagline', 'Movie_Cast', 'Movie_Crew',\n",
              "       'Movie_Director'],\n",
              "      dtype='object')"
            ]
          },
          "metadata": {},
          "execution_count": 127
        }
      ]
    },
    {
      "cell_type": "code",
      "source": [
        "df_features = df[['Movie_Genre', 'Movie_Keywords', 'Movie_Tagline', 'Movie_Cast', 'Movie_Director']].fillna('')"
      ],
      "metadata": {
        "id": "WZLfFlfY-csH"
      },
      "execution_count": null,
      "outputs": []
    },
    {
      "cell_type": "code",
      "source": [
        "df_features.shape"
      ],
      "metadata": {
        "id": "fw6vAhiK-cuu",
        "colab": {
          "base_uri": "https://localhost:8080/"
        },
        "outputId": "ea4734ea-f33b-427b-bd74-512dd8b7210c"
      },
      "execution_count": null,
      "outputs": [
        {
          "output_type": "execute_result",
          "data": {
            "text/plain": [
              "(4760, 5)"
            ]
          },
          "metadata": {},
          "execution_count": 129
        }
      ]
    },
    {
      "cell_type": "code",
      "source": [
        "df_features"
      ],
      "metadata": {
        "id": "LwEREYGl-cxX",
        "colab": {
          "base_uri": "https://localhost:8080/",
          "height": 493
        },
        "outputId": "de6bc2b6-19aa-4c17-9b57-6fc203c5ab57"
      },
      "execution_count": null,
      "outputs": [
        {
          "output_type": "execute_result",
          "data": {
            "text/plain": [
              "                           Movie_Genre  \\\n",
              "0                         Crime Comedy   \n",
              "1     Adventure Action Science Fiction   \n",
              "2                     Animation Family   \n",
              "3                 Comedy Drama Romance   \n",
              "4                                Drama   \n",
              "...                                ...   \n",
              "4755                            Horror   \n",
              "4756               Comedy Family Drama   \n",
              "4757                    Thriller Drama   \n",
              "4758                            Family   \n",
              "4759                       Documentary   \n",
              "\n",
              "                                         Movie_Keywords  \\\n",
              "0             hotel new year's eve witch bet hotel room   \n",
              "1           android galaxy hermit death star lightsaber   \n",
              "2     father son relationship harbor underwater fish...   \n",
              "3     vietnam veteran hippie mentally disabled runni...   \n",
              "4     male nudity female nudity adultery midlife cri...   \n",
              "...                                                 ...   \n",
              "4755                                                      \n",
              "4756                                                      \n",
              "4757                     christian film sex trafficking   \n",
              "4758                                                      \n",
              "4759  music actors legendary perfomer classic hollyw...   \n",
              "\n",
              "                                          Movie_Tagline  \\\n",
              "0     Twelve outrageous guests. Four scandalous requ...   \n",
              "1          A long time ago in a galaxy far, far away...   \n",
              "2     There are 3.7 trillion fish in the ocean, they...   \n",
              "3     The world will never be the same, once you've ...   \n",
              "4                                          Look closer.   \n",
              "...                                                 ...   \n",
              "4755                The hot spot where Satan's waitin'.   \n",
              "4756           It’s better to stand out than to fit in.   \n",
              "4757           She never knew it could happen to her...   \n",
              "4758                                                      \n",
              "4759                                                      \n",
              "\n",
              "                                             Movie_Cast     Movie_Director  \n",
              "0     Tim Roth Antonio Banderas Jennifer Beals Madon...     Allison Anders  \n",
              "1     Mark Hamill Harrison Ford Carrie Fisher Peter ...       George Lucas  \n",
              "2     Albert Brooks Ellen DeGeneres Alexander Gould ...     Andrew Stanton  \n",
              "3     Tom Hanks Robin Wright Gary Sinise Mykelti Wil...    Robert Zemeckis  \n",
              "4     Kevin Spacey Annette Bening Thora Birch Wes Be...         Sam Mendes  \n",
              "...                                                 ...                ...  \n",
              "4755  Lisa Hart Carroll Michael Des Barres Paul Drak...         Pece Dingo  \n",
              "4756  Roni Akurati Brighton Sharbino Jason Lee Anjul...       Frank Lotito  \n",
              "4757  Nicole Smolen Kim Baldwin Ariana Stephens Brys...       Jaco Booyens  \n",
              "4758                                                                        \n",
              "4759                                    Tony Oppedisano  Simon Napier-Bell  \n",
              "\n",
              "[4760 rows x 5 columns]"
            ],
            "text/html": [
              "\n",
              "  <div id=\"df-8c289ad2-bb67-45f7-8b4d-0b15697acd81\" class=\"colab-df-container\">\n",
              "    <div>\n",
              "<style scoped>\n",
              "    .dataframe tbody tr th:only-of-type {\n",
              "        vertical-align: middle;\n",
              "    }\n",
              "\n",
              "    .dataframe tbody tr th {\n",
              "        vertical-align: top;\n",
              "    }\n",
              "\n",
              "    .dataframe thead th {\n",
              "        text-align: right;\n",
              "    }\n",
              "</style>\n",
              "<table border=\"1\" class=\"dataframe\">\n",
              "  <thead>\n",
              "    <tr style=\"text-align: right;\">\n",
              "      <th></th>\n",
              "      <th>Movie_Genre</th>\n",
              "      <th>Movie_Keywords</th>\n",
              "      <th>Movie_Tagline</th>\n",
              "      <th>Movie_Cast</th>\n",
              "      <th>Movie_Director</th>\n",
              "    </tr>\n",
              "  </thead>\n",
              "  <tbody>\n",
              "    <tr>\n",
              "      <th>0</th>\n",
              "      <td>Crime Comedy</td>\n",
              "      <td>hotel new year's eve witch bet hotel room</td>\n",
              "      <td>Twelve outrageous guests. Four scandalous requ...</td>\n",
              "      <td>Tim Roth Antonio Banderas Jennifer Beals Madon...</td>\n",
              "      <td>Allison Anders</td>\n",
              "    </tr>\n",
              "    <tr>\n",
              "      <th>1</th>\n",
              "      <td>Adventure Action Science Fiction</td>\n",
              "      <td>android galaxy hermit death star lightsaber</td>\n",
              "      <td>A long time ago in a galaxy far, far away...</td>\n",
              "      <td>Mark Hamill Harrison Ford Carrie Fisher Peter ...</td>\n",
              "      <td>George Lucas</td>\n",
              "    </tr>\n",
              "    <tr>\n",
              "      <th>2</th>\n",
              "      <td>Animation Family</td>\n",
              "      <td>father son relationship harbor underwater fish...</td>\n",
              "      <td>There are 3.7 trillion fish in the ocean, they...</td>\n",
              "      <td>Albert Brooks Ellen DeGeneres Alexander Gould ...</td>\n",
              "      <td>Andrew Stanton</td>\n",
              "    </tr>\n",
              "    <tr>\n",
              "      <th>3</th>\n",
              "      <td>Comedy Drama Romance</td>\n",
              "      <td>vietnam veteran hippie mentally disabled runni...</td>\n",
              "      <td>The world will never be the same, once you've ...</td>\n",
              "      <td>Tom Hanks Robin Wright Gary Sinise Mykelti Wil...</td>\n",
              "      <td>Robert Zemeckis</td>\n",
              "    </tr>\n",
              "    <tr>\n",
              "      <th>4</th>\n",
              "      <td>Drama</td>\n",
              "      <td>male nudity female nudity adultery midlife cri...</td>\n",
              "      <td>Look closer.</td>\n",
              "      <td>Kevin Spacey Annette Bening Thora Birch Wes Be...</td>\n",
              "      <td>Sam Mendes</td>\n",
              "    </tr>\n",
              "    <tr>\n",
              "      <th>...</th>\n",
              "      <td>...</td>\n",
              "      <td>...</td>\n",
              "      <td>...</td>\n",
              "      <td>...</td>\n",
              "      <td>...</td>\n",
              "    </tr>\n",
              "    <tr>\n",
              "      <th>4755</th>\n",
              "      <td>Horror</td>\n",
              "      <td></td>\n",
              "      <td>The hot spot where Satan's waitin'.</td>\n",
              "      <td>Lisa Hart Carroll Michael Des Barres Paul Drak...</td>\n",
              "      <td>Pece Dingo</td>\n",
              "    </tr>\n",
              "    <tr>\n",
              "      <th>4756</th>\n",
              "      <td>Comedy Family Drama</td>\n",
              "      <td></td>\n",
              "      <td>It’s better to stand out than to fit in.</td>\n",
              "      <td>Roni Akurati Brighton Sharbino Jason Lee Anjul...</td>\n",
              "      <td>Frank Lotito</td>\n",
              "    </tr>\n",
              "    <tr>\n",
              "      <th>4757</th>\n",
              "      <td>Thriller Drama</td>\n",
              "      <td>christian film sex trafficking</td>\n",
              "      <td>She never knew it could happen to her...</td>\n",
              "      <td>Nicole Smolen Kim Baldwin Ariana Stephens Brys...</td>\n",
              "      <td>Jaco Booyens</td>\n",
              "    </tr>\n",
              "    <tr>\n",
              "      <th>4758</th>\n",
              "      <td>Family</td>\n",
              "      <td></td>\n",
              "      <td></td>\n",
              "      <td></td>\n",
              "      <td></td>\n",
              "    </tr>\n",
              "    <tr>\n",
              "      <th>4759</th>\n",
              "      <td>Documentary</td>\n",
              "      <td>music actors legendary perfomer classic hollyw...</td>\n",
              "      <td></td>\n",
              "      <td>Tony Oppedisano</td>\n",
              "      <td>Simon Napier-Bell</td>\n",
              "    </tr>\n",
              "  </tbody>\n",
              "</table>\n",
              "<p>4760 rows × 5 columns</p>\n",
              "</div>\n",
              "    <div class=\"colab-df-buttons\">\n",
              "\n",
              "  <div class=\"colab-df-container\">\n",
              "    <button class=\"colab-df-convert\" onclick=\"convertToInteractive('df-8c289ad2-bb67-45f7-8b4d-0b15697acd81')\"\n",
              "            title=\"Convert this dataframe to an interactive table.\"\n",
              "            style=\"display:none;\">\n",
              "\n",
              "  <svg xmlns=\"http://www.w3.org/2000/svg\" height=\"24px\" viewBox=\"0 -960 960 960\">\n",
              "    <path d=\"M120-120v-720h720v720H120Zm60-500h600v-160H180v160Zm220 220h160v-160H400v160Zm0 220h160v-160H400v160ZM180-400h160v-160H180v160Zm440 0h160v-160H620v160ZM180-180h160v-160H180v160Zm440 0h160v-160H620v160Z\"/>\n",
              "  </svg>\n",
              "    </button>\n",
              "\n",
              "  <style>\n",
              "    .colab-df-container {\n",
              "      display:flex;\n",
              "      gap: 12px;\n",
              "    }\n",
              "\n",
              "    .colab-df-convert {\n",
              "      background-color: #E8F0FE;\n",
              "      border: none;\n",
              "      border-radius: 50%;\n",
              "      cursor: pointer;\n",
              "      display: none;\n",
              "      fill: #1967D2;\n",
              "      height: 32px;\n",
              "      padding: 0 0 0 0;\n",
              "      width: 32px;\n",
              "    }\n",
              "\n",
              "    .colab-df-convert:hover {\n",
              "      background-color: #E2EBFA;\n",
              "      box-shadow: 0px 1px 2px rgba(60, 64, 67, 0.3), 0px 1px 3px 1px rgba(60, 64, 67, 0.15);\n",
              "      fill: #174EA6;\n",
              "    }\n",
              "\n",
              "    .colab-df-buttons div {\n",
              "      margin-bottom: 4px;\n",
              "    }\n",
              "\n",
              "    [theme=dark] .colab-df-convert {\n",
              "      background-color: #3B4455;\n",
              "      fill: #D2E3FC;\n",
              "    }\n",
              "\n",
              "    [theme=dark] .colab-df-convert:hover {\n",
              "      background-color: #434B5C;\n",
              "      box-shadow: 0px 1px 3px 1px rgba(0, 0, 0, 0.15);\n",
              "      filter: drop-shadow(0px 1px 2px rgba(0, 0, 0, 0.3));\n",
              "      fill: #FFFFFF;\n",
              "    }\n",
              "  </style>\n",
              "\n",
              "    <script>\n",
              "      const buttonEl =\n",
              "        document.querySelector('#df-8c289ad2-bb67-45f7-8b4d-0b15697acd81 button.colab-df-convert');\n",
              "      buttonEl.style.display =\n",
              "        google.colab.kernel.accessAllowed ? 'block' : 'none';\n",
              "\n",
              "      async function convertToInteractive(key) {\n",
              "        const element = document.querySelector('#df-8c289ad2-bb67-45f7-8b4d-0b15697acd81');\n",
              "        const dataTable =\n",
              "          await google.colab.kernel.invokeFunction('convertToInteractive',\n",
              "                                                    [key], {});\n",
              "        if (!dataTable) return;\n",
              "\n",
              "        const docLinkHtml = 'Like what you see? Visit the ' +\n",
              "          '<a target=\"_blank\" href=https://colab.research.google.com/notebooks/data_table.ipynb>data table notebook</a>'\n",
              "          + ' to learn more about interactive tables.';\n",
              "        element.innerHTML = '';\n",
              "        dataTable['output_type'] = 'display_data';\n",
              "        await google.colab.output.renderOutput(dataTable, element);\n",
              "        const docLink = document.createElement('div');\n",
              "        docLink.innerHTML = docLinkHtml;\n",
              "        element.appendChild(docLink);\n",
              "      }\n",
              "    </script>\n",
              "  </div>\n",
              "\n",
              "\n",
              "<div id=\"df-07ac8023-5be7-4867-bb4c-549196b98041\">\n",
              "  <button class=\"colab-df-quickchart\" onclick=\"quickchart('df-07ac8023-5be7-4867-bb4c-549196b98041')\"\n",
              "            title=\"Suggest charts\"\n",
              "            style=\"display:none;\">\n",
              "\n",
              "<svg xmlns=\"http://www.w3.org/2000/svg\" height=\"24px\"viewBox=\"0 0 24 24\"\n",
              "     width=\"24px\">\n",
              "    <g>\n",
              "        <path d=\"M19 3H5c-1.1 0-2 .9-2 2v14c0 1.1.9 2 2 2h14c1.1 0 2-.9 2-2V5c0-1.1-.9-2-2-2zM9 17H7v-7h2v7zm4 0h-2V7h2v10zm4 0h-2v-4h2v4z\"/>\n",
              "    </g>\n",
              "</svg>\n",
              "  </button>\n",
              "\n",
              "<style>\n",
              "  .colab-df-quickchart {\n",
              "      --bg-color: #E8F0FE;\n",
              "      --fill-color: #1967D2;\n",
              "      --hover-bg-color: #E2EBFA;\n",
              "      --hover-fill-color: #174EA6;\n",
              "      --disabled-fill-color: #AAA;\n",
              "      --disabled-bg-color: #DDD;\n",
              "  }\n",
              "\n",
              "  [theme=dark] .colab-df-quickchart {\n",
              "      --bg-color: #3B4455;\n",
              "      --fill-color: #D2E3FC;\n",
              "      --hover-bg-color: #434B5C;\n",
              "      --hover-fill-color: #FFFFFF;\n",
              "      --disabled-bg-color: #3B4455;\n",
              "      --disabled-fill-color: #666;\n",
              "  }\n",
              "\n",
              "  .colab-df-quickchart {\n",
              "    background-color: var(--bg-color);\n",
              "    border: none;\n",
              "    border-radius: 50%;\n",
              "    cursor: pointer;\n",
              "    display: none;\n",
              "    fill: var(--fill-color);\n",
              "    height: 32px;\n",
              "    padding: 0;\n",
              "    width: 32px;\n",
              "  }\n",
              "\n",
              "  .colab-df-quickchart:hover {\n",
              "    background-color: var(--hover-bg-color);\n",
              "    box-shadow: 0 1px 2px rgba(60, 64, 67, 0.3), 0 1px 3px 1px rgba(60, 64, 67, 0.15);\n",
              "    fill: var(--button-hover-fill-color);\n",
              "  }\n",
              "\n",
              "  .colab-df-quickchart-complete:disabled,\n",
              "  .colab-df-quickchart-complete:disabled:hover {\n",
              "    background-color: var(--disabled-bg-color);\n",
              "    fill: var(--disabled-fill-color);\n",
              "    box-shadow: none;\n",
              "  }\n",
              "\n",
              "  .colab-df-spinner {\n",
              "    border: 2px solid var(--fill-color);\n",
              "    border-color: transparent;\n",
              "    border-bottom-color: var(--fill-color);\n",
              "    animation:\n",
              "      spin 1s steps(1) infinite;\n",
              "  }\n",
              "\n",
              "  @keyframes spin {\n",
              "    0% {\n",
              "      border-color: transparent;\n",
              "      border-bottom-color: var(--fill-color);\n",
              "      border-left-color: var(--fill-color);\n",
              "    }\n",
              "    20% {\n",
              "      border-color: transparent;\n",
              "      border-left-color: var(--fill-color);\n",
              "      border-top-color: var(--fill-color);\n",
              "    }\n",
              "    30% {\n",
              "      border-color: transparent;\n",
              "      border-left-color: var(--fill-color);\n",
              "      border-top-color: var(--fill-color);\n",
              "      border-right-color: var(--fill-color);\n",
              "    }\n",
              "    40% {\n",
              "      border-color: transparent;\n",
              "      border-right-color: var(--fill-color);\n",
              "      border-top-color: var(--fill-color);\n",
              "    }\n",
              "    60% {\n",
              "      border-color: transparent;\n",
              "      border-right-color: var(--fill-color);\n",
              "    }\n",
              "    80% {\n",
              "      border-color: transparent;\n",
              "      border-right-color: var(--fill-color);\n",
              "      border-bottom-color: var(--fill-color);\n",
              "    }\n",
              "    90% {\n",
              "      border-color: transparent;\n",
              "      border-bottom-color: var(--fill-color);\n",
              "    }\n",
              "  }\n",
              "</style>\n",
              "\n",
              "  <script>\n",
              "    async function quickchart(key) {\n",
              "      const quickchartButtonEl =\n",
              "        document.querySelector('#' + key + ' button');\n",
              "      quickchartButtonEl.disabled = true;  // To prevent multiple clicks.\n",
              "      quickchartButtonEl.classList.add('colab-df-spinner');\n",
              "      try {\n",
              "        const charts = await google.colab.kernel.invokeFunction(\n",
              "            'suggestCharts', [key], {});\n",
              "      } catch (error) {\n",
              "        console.error('Error during call to suggestCharts:', error);\n",
              "      }\n",
              "      quickchartButtonEl.classList.remove('colab-df-spinner');\n",
              "      quickchartButtonEl.classList.add('colab-df-quickchart-complete');\n",
              "    }\n",
              "    (() => {\n",
              "      let quickchartButtonEl =\n",
              "        document.querySelector('#df-07ac8023-5be7-4867-bb4c-549196b98041 button');\n",
              "      quickchartButtonEl.style.display =\n",
              "        google.colab.kernel.accessAllowed ? 'block' : 'none';\n",
              "    })();\n",
              "  </script>\n",
              "</div>\n",
              "\n",
              "  <div id=\"id_e5a77363-5be9-4ae0-986c-be09a5cfe38b\">\n",
              "    <style>\n",
              "      .colab-df-generate {\n",
              "        background-color: #E8F0FE;\n",
              "        border: none;\n",
              "        border-radius: 50%;\n",
              "        cursor: pointer;\n",
              "        display: none;\n",
              "        fill: #1967D2;\n",
              "        height: 32px;\n",
              "        padding: 0 0 0 0;\n",
              "        width: 32px;\n",
              "      }\n",
              "\n",
              "      .colab-df-generate:hover {\n",
              "        background-color: #E2EBFA;\n",
              "        box-shadow: 0px 1px 2px rgba(60, 64, 67, 0.3), 0px 1px 3px 1px rgba(60, 64, 67, 0.15);\n",
              "        fill: #174EA6;\n",
              "      }\n",
              "\n",
              "      [theme=dark] .colab-df-generate {\n",
              "        background-color: #3B4455;\n",
              "        fill: #D2E3FC;\n",
              "      }\n",
              "\n",
              "      [theme=dark] .colab-df-generate:hover {\n",
              "        background-color: #434B5C;\n",
              "        box-shadow: 0px 1px 3px 1px rgba(0, 0, 0, 0.15);\n",
              "        filter: drop-shadow(0px 1px 2px rgba(0, 0, 0, 0.3));\n",
              "        fill: #FFFFFF;\n",
              "      }\n",
              "    </style>\n",
              "    <button class=\"colab-df-generate\" onclick=\"generateWithVariable('df_features')\"\n",
              "            title=\"Generate code using this dataframe.\"\n",
              "            style=\"display:none;\">\n",
              "\n",
              "  <svg xmlns=\"http://www.w3.org/2000/svg\" height=\"24px\"viewBox=\"0 0 24 24\"\n",
              "       width=\"24px\">\n",
              "    <path d=\"M7,19H8.4L18.45,9,17,7.55,7,17.6ZM5,21V16.75L18.45,3.32a2,2,0,0,1,2.83,0l1.4,1.43a1.91,1.91,0,0,1,.58,1.4,1.91,1.91,0,0,1-.58,1.4L9.25,21ZM18.45,9,17,7.55Zm-12,3A5.31,5.31,0,0,0,4.9,8.1,5.31,5.31,0,0,0,1,6.5,5.31,5.31,0,0,0,4.9,4.9,5.31,5.31,0,0,0,6.5,1,5.31,5.31,0,0,0,8.1,4.9,5.31,5.31,0,0,0,12,6.5,5.46,5.46,0,0,0,6.5,12Z\"/>\n",
              "  </svg>\n",
              "    </button>\n",
              "    <script>\n",
              "      (() => {\n",
              "      const buttonEl =\n",
              "        document.querySelector('#id_e5a77363-5be9-4ae0-986c-be09a5cfe38b button.colab-df-generate');\n",
              "      buttonEl.style.display =\n",
              "        google.colab.kernel.accessAllowed ? 'block' : 'none';\n",
              "\n",
              "      buttonEl.onclick = () => {\n",
              "        google.colab.notebook.generateWithVariable('df_features');\n",
              "      }\n",
              "      })();\n",
              "    </script>\n",
              "  </div>\n",
              "\n",
              "    </div>\n",
              "  </div>\n"
            ],
            "application/vnd.google.colaboratory.intrinsic+json": {
              "type": "dataframe",
              "variable_name": "df_features",
              "summary": "{\n  \"name\": \"df_features\",\n  \"rows\": 4760,\n  \"fields\": [\n    {\n      \"column\": \"Movie_Genre\",\n      \"properties\": {\n        \"dtype\": \"category\",\n        \"num_unique_values\": 1164,\n        \"samples\": [\n          \"Family Animation Adventure\",\n          \"Adventure Science Fiction Action\",\n          \"Action Crime Drama Romance Thriller\"\n        ],\n        \"semantic_type\": \"\",\n        \"description\": \"\"\n      }\n    },\n    {\n      \"column\": \"Movie_Keywords\",\n      \"properties\": {\n        \"dtype\": \"string\",\n        \"num_unique_values\": 4203,\n        \"samples\": [\n          \"canada nazis sequel spin off ancient evil\",\n          \"sex professor wedding woman director columbia university\",\n          \"prophecy sea beach gold small town\"\n        ],\n        \"semantic_type\": \"\",\n        \"description\": \"\"\n      }\n    },\n    {\n      \"column\": \"Movie_Tagline\",\n      \"properties\": {\n        \"dtype\": \"string\",\n        \"num_unique_values\": 3928,\n        \"samples\": [\n          \"The messenger must be silenced.\",\n          \"It's not the house that's haunted.\",\n          \"The final hunt begins.\"\n        ],\n        \"semantic_type\": \"\",\n        \"description\": \"\"\n      }\n    },\n    {\n      \"column\": \"Movie_Cast\",\n      \"properties\": {\n        \"dtype\": \"string\",\n        \"num_unique_values\": 4715,\n        \"samples\": [\n          \"Robin Tunney Fairuza Balk Neve Campbell Rachel True Skeet Ulrich\",\n          \"Peter Sellers Christopher Plummer Herbert Lom Catherine Schell Peter Arne\",\n          \"John Wayne Laraine Day Cedric Hardwicke Judith Anderson Anthony Quinn\"\n        ],\n        \"semantic_type\": \"\",\n        \"description\": \"\"\n      }\n    },\n    {\n      \"column\": \"Movie_Director\",\n      \"properties\": {\n        \"dtype\": \"category\",\n        \"num_unique_values\": 2332,\n        \"samples\": [\n          \"Rob McKittrick\",\n          \"Terron R. Parsons\",\n          \"Cyrus Nowrasteh\"\n        ],\n        \"semantic_type\": \"\",\n        \"description\": \"\"\n      }\n    }\n  ]\n}"
            }
          },
          "metadata": {},
          "execution_count": 130
        }
      ]
    },
    {
      "cell_type": "code",
      "source": [
        "X = df_features['Movie_Genre'] + ''+df_features['Movie_Keywords'] + '' + df_features['Movie_Tagline'] + '' + df_features['Movie_Cast'] + '' + df_features['Movie_Director']"
      ],
      "metadata": {
        "id": "-mtrYSIS-cz6"
      },
      "execution_count": null,
      "outputs": []
    },
    {
      "cell_type": "code",
      "source": [
        "X.shape"
      ],
      "metadata": {
        "id": "SKOHkiOh-c2P",
        "colab": {
          "base_uri": "https://localhost:8080/"
        },
        "outputId": "e2f5019b-dca6-419c-dc69-717891aab24b"
      },
      "execution_count": null,
      "outputs": [
        {
          "output_type": "execute_result",
          "data": {
            "text/plain": [
              "(4760,)"
            ]
          },
          "metadata": {},
          "execution_count": 132
        }
      ]
    },
    {
      "cell_type": "code",
      "source": [
        "from sklearn.feature_extraction.text import TfidfVectorizer"
      ],
      "metadata": {
        "id": "bF2wVcLO-c5N"
      },
      "execution_count": null,
      "outputs": []
    },
    {
      "cell_type": "code",
      "source": [
        "tfidf = TfidfVectorizer()"
      ],
      "metadata": {
        "id": "t2YAFSNA-c7u"
      },
      "execution_count": null,
      "outputs": []
    },
    {
      "cell_type": "code",
      "source": [
        "X = tfidf.fit_transform(X)"
      ],
      "metadata": {
        "id": "--tRuLgFyrss"
      },
      "execution_count": null,
      "outputs": []
    },
    {
      "cell_type": "code",
      "source": [
        "X.shape"
      ],
      "metadata": {
        "id": "mKONaRV3-c-C",
        "colab": {
          "base_uri": "https://localhost:8080/"
        },
        "outputId": "cae8f002-93f0-45ee-b5a4-608b6c45ee02"
      },
      "execution_count": null,
      "outputs": [
        {
          "output_type": "execute_result",
          "data": {
            "text/plain": [
              "(4760, 27466)"
            ]
          },
          "metadata": {},
          "execution_count": 136
        }
      ]
    },
    {
      "cell_type": "code",
      "source": [
        "print(X)"
      ],
      "metadata": {
        "colab": {
          "base_uri": "https://localhost:8080/"
        },
        "id": "r8ECwOCcyMpy",
        "outputId": "bc087035-ccc6-484d-a3e1-d8c6ef9fb512"
      },
      "execution_count": null,
      "outputs": [
        {
          "output_type": "stream",
          "name": "stdout",
          "text": [
            "  (0, 1028)\t0.16196019146631543\n",
            "  (0, 24785)\t0.1954632929283795\n",
            "  (0, 15844)\t0.14205053053187272\n",
            "  (0, 15553)\t0.17099186675469502\n",
            "  (0, 2132)\t0.18002354204307464\n",
            "  (0, 13312)\t0.09914387783149516\n",
            "  (0, 1887)\t0.14106037409792174\n",
            "  (0, 1216)\t0.13920306109638164\n",
            "  (0, 21158)\t0.14205053053187272\n",
            "  (0, 24701)\t0.11357423942624927\n",
            "  (0, 14943)\t0.091376722056839\n",
            "  (0, 18098)\t0.06200430666985742\n",
            "  (0, 26738)\t0.175053052455033\n",
            "  (0, 9790)\t0.08712552095655665\n",
            "  (0, 26675)\t0.1116831168780693\n",
            "  (0, 13401)\t0.13748876529263096\n",
            "  (0, 24105)\t0.10726395493180996\n",
            "  (0, 18192)\t0.07278761942152372\n",
            "  (0, 6172)\t0.11970212451073885\n",
            "  (0, 9626)\t0.11757910435818826\n",
            "  (0, 11960)\t0.20134029899961134\n",
            "  (0, 12801)\t0.1530338818199682\n",
            "  (0, 2292)\t0.1954632929283795\n",
            "  (0, 15172)\t0.1537691763994982\n",
            "  (0, 18196)\t0.08579029869987485\n",
            "  :\t:\n",
            "  (4757, 1839)\t0.19327629083107672\n",
            "  (4757, 5410)\t0.19734759150400596\n",
            "  (4757, 11350)\t0.21582294886514122\n",
            "  (4757, 22017)\t0.1646400247918531\n",
            "  (4757, 17789)\t0.18881341937258544\n",
            "  (4757, 9484)\t0.1411164779725638\n",
            "  (4757, 14176)\t0.2330831990045816\n",
            "  (4757, 11762)\t0.17321388936472645\n",
            "  (4757, 14052)\t0.1776312353410007\n",
            "  (4757, 24232)\t0.10947784435203887\n",
            "  (4757, 24746)\t0.09744940789814222\n",
            "  (4757, 13079)\t0.12400374714145113\n",
            "  (4757, 17721)\t0.1489085353667712\n",
            "  (4758, 8651)\t1.0\n",
            "  (4759, 18229)\t0.33527342183765224\n",
            "  (4759, 22434)\t0.33527342183765224\n",
            "  (4759, 18841)\t0.33527342183765224\n",
            "  (4759, 6950)\t0.33527342183765224\n",
            "  (4759, 345)\t0.31978160936741457\n",
            "  (4759, 14742)\t0.31978160936741457\n",
            "  (4759, 12139)\t0.2778063685558062\n",
            "  (4759, 4446)\t0.282306565154911\n",
            "  (4759, 17552)\t0.3087899934962816\n",
            "  (4759, 9955)\t0.21805075638656476\n",
            "  (4759, 2285)\t0.21465229435984196\n"
          ]
        }
      ]
    },
    {
      "cell_type": "code",
      "source": [
        "from sklearn.metrics.pairwise import cosine_similarity"
      ],
      "metadata": {
        "id": "dY3Le8DvzgNX"
      },
      "execution_count": null,
      "outputs": []
    },
    {
      "cell_type": "code",
      "source": [
        "similarity_score = cosine_similarity(X)"
      ],
      "metadata": {
        "id": "k8BIE9PJzgaR"
      },
      "execution_count": null,
      "outputs": []
    },
    {
      "cell_type": "code",
      "source": [
        "similarity_score"
      ],
      "metadata": {
        "colab": {
          "base_uri": "https://localhost:8080/"
        },
        "id": "23aQzzPFzgmS",
        "outputId": "82a64edf-a17a-4dcd-cd76-1576a844d679"
      },
      "execution_count": null,
      "outputs": [
        {
          "output_type": "execute_result",
          "data": {
            "text/plain": [
              "array([[1.        , 0.01438634, 0.03807033, ..., 0.        , 0.        ,\n",
              "        0.        ],\n",
              "       [0.01438634, 1.        , 0.00844858, ..., 0.        , 0.        ,\n",
              "        0.        ],\n",
              "       [0.03807033, 0.00844858, 1.        , ..., 0.        , 0.        ,\n",
              "        0.        ],\n",
              "       ...,\n",
              "       [0.        , 0.        , 0.        , ..., 1.        , 0.        ,\n",
              "        0.        ],\n",
              "       [0.        , 0.        , 0.        , ..., 0.        , 1.        ,\n",
              "        0.        ],\n",
              "       [0.        , 0.        , 0.        , ..., 0.        , 0.        ,\n",
              "        1.        ]])"
            ]
          },
          "metadata": {},
          "execution_count": 140
        }
      ]
    },
    {
      "cell_type": "code",
      "source": [
        "similarity_score.shape"
      ],
      "metadata": {
        "colab": {
          "base_uri": "https://localhost:8080/"
        },
        "id": "GBCOgbY0zgpT",
        "outputId": "bd01e9ed-133a-40fc-8602-c67240fff171"
      },
      "execution_count": null,
      "outputs": [
        {
          "output_type": "execute_result",
          "data": {
            "text/plain": [
              "(4760, 4760)"
            ]
          },
          "metadata": {},
          "execution_count": 141
        }
      ]
    },
    {
      "cell_type": "code",
      "source": [
        "Favorite_Movie_Name = input('Enter your favorite movie name:')"
      ],
      "metadata": {
        "id": "15EpzGIwzgsK",
        "outputId": "9e14c530-2f0c-47bf-a8f6-1eaeb10e71b4",
        "colab": {
          "base_uri": "https://localhost:8080/"
        }
      },
      "execution_count": null,
      "outputs": [
        {
          "name": "stdout",
          "output_type": "stream",
          "text": [
            "Enter your favorite movie name:hera pheri\n"
          ]
        }
      ]
    },
    {
      "cell_type": "code",
      "source": [
        "All_Movies_Title_List = df['Movie_Title'].tolist()"
      ],
      "metadata": {
        "id": "dJ9p4Hkizgul"
      },
      "execution_count": null,
      "outputs": []
    },
    {
      "cell_type": "code",
      "source": [
        "import difflib"
      ],
      "metadata": {
        "id": "eXEyRu5PzgxE"
      },
      "execution_count": null,
      "outputs": []
    },
    {
      "cell_type": "code",
      "source": [
        "Movie_Recommendation = difflib.get_close_matches(Favorite_Movie_Name, All_Movies_Title_List)\n",
        "print(Movie_Recommendation)"
      ],
      "metadata": {
        "id": "cYWBnju2zgzg",
        "outputId": "a8b94cec-0d0e-40f2-c73a-80f15675b335",
        "colab": {
          "base_uri": "https://localhost:8080/"
        }
      },
      "execution_count": null,
      "outputs": [
        {
          "output_type": "stream",
          "name": "stdout",
          "text": [
            "['Cheap Thrills', 'The Spirit']\n"
          ]
        }
      ]
    },
    {
      "cell_type": "code",
      "source": [
        "Close_Match = Movie_Recommendation[0]\n",
        "print(Close_Match)"
      ],
      "metadata": {
        "id": "wtmdH2Wlzg12",
        "outputId": "1c590a14-0987-4286-a36b-0f3c03156cfb",
        "colab": {
          "base_uri": "https://localhost:8080/"
        }
      },
      "execution_count": null,
      "outputs": [
        {
          "output_type": "stream",
          "name": "stdout",
          "text": [
            "Cheap Thrills\n"
          ]
        }
      ]
    },
    {
      "cell_type": "code",
      "source": [
        "Index_of_Close_Match_Movie = df[df.Movie_Title == Close_Match]['Movie_ID'].values[0]\n",
        "print(Index_of_Close_Match_Movie)"
      ],
      "metadata": {
        "id": "lUHJdj3jzg4h",
        "outputId": "8af75e4b-ac55-472c-cd6b-fafe57609772",
        "colab": {
          "base_uri": "https://localhost:8080/"
        }
      },
      "execution_count": null,
      "outputs": [
        {
          "output_type": "stream",
          "name": "stdout",
          "text": [
            "4209\n"
          ]
        }
      ]
    },
    {
      "cell_type": "code",
      "source": [
        "Recommendation_score = list(enumerate(similarity_score[Index_of_Close_Match_Movie]))\n",
        "print(Recommendation_score)"
      ],
      "metadata": {
        "id": "emPr7Cwazg7T",
        "outputId": "97f1bbf3-12b5-46bf-e78c-44c9bbd61000",
        "colab": {
          "base_uri": "https://localhost:8080/"
        }
      },
      "execution_count": null,
      "outputs": [
        {
          "output_type": "stream",
          "name": "stdout",
          "text": [
            "[(0, 0.0), (1, 0.0), (2, 0.0), (3, 0.0), (4, 0.0), (5, 0.0), (6, 0.011871399373401854), (7, 0.0), (8, 0.0), (9, 0.0), (10, 0.0), (11, 0.0), (12, 0.011916418841967903), (13, 0.0), (14, 0.0), (15, 0.009856733459608644), (16, 0.0), (17, 0.011338151684504224), (18, 0.0), (19, 0.0), (20, 0.011255145080823651), (21, 0.0), (22, 0.0), (23, 0.01126224287906931), (24, 0.029922521091001558), (25, 0.018158833372951922), (26, 0.0), (27, 0.0), (28, 0.0), (29, 0.0), (30, 0.0), (31, 0.01507366258478777), (32, 0.0), (33, 0.0), (34, 0.0), (35, 0.0), (36, 0.0), (37, 0.009812852792913036), (38, 0.012027440273915687), (39, 0.0), (40, 0.0), (41, 0.0), (42, 0.0), (43, 0.0), (44, 0.0), (45, 0.0), (46, 0.0), (47, 0.0), (48, 0.011938060384273011), (49, 0.0), (50, 0.0), (51, 0.0), (52, 0.03218026547326695), (53, 0.01013397732782412), (54, 0.0), (55, 0.010941206848899486), (56, 0.011002870948745608), (57, 0.0), (58, 0.0), (59, 0.0), (60, 0.0), (61, 0.0), (62, 0.012018610234508651), (63, 0.0), (64, 0.009483882959842139), (65, 0.026138968533640575), (66, 0.0), (67, 0.014460461011972925), (68, 0.0), (69, 0.018112143908038076), (70, 0.0), (71, 0.0), (72, 0.010523354525902182), (73, 0.014919062256789177), (74, 0.0), (75, 0.014134776647386047), (76, 0.0), (77, 0.0), (78, 0.01355799059754098), (79, 0.015677200637494237), (80, 0.01429993723080782), (81, 0.0), (82, 0.0), (83, 0.038393263852962996), (84, 0.01033992630734172), (85, 0.010454056844706218), (86, 0.0), (87, 0.0), (88, 0.0), (89, 0.011872678107264008), (90, 0.0), (91, 0.0), (92, 0.0), (93, 0.010901238725266302), (94, 0.0), (95, 0.0), (96, 0.0), (97, 0.0), (98, 0.0), (99, 0.0), (100, 0.0), (101, 0.0), (102, 0.011718207944825941), (103, 0.0), (104, 0.0), (105, 0.0), (106, 0.0), (107, 0.012148879187697963), (108, 0.0), (109, 0.015720144883641884), (110, 0.0), (111, 0.0), (112, 0.0), (113, 0.0), (114, 0.0), (115, 0.0), (116, 0.0), (117, 0.0), (118, 0.044502426608368756), (119, 0.0), (120, 0.0), (121, 0.0), (122, 0.0), (123, 0.0), (124, 0.0), (125, 0.0), (126, 0.03638982417357382), (127, 0.010379455679425253), (128, 0.0), (129, 0.0), (130, 0.0), (131, 0.0), (132, 0.0), (133, 0.0), (134, 0.0), (135, 0.0), (136, 0.0), (137, 0.0), (138, 0.04308539242917917), (139, 0.0), (140, 0.0), (141, 0.0), (142, 0.013466779366283311), (143, 0.0), (144, 0.0), (145, 0.0), (146, 0.0), (147, 0.0), (148, 0.0), (149, 0.0), (150, 0.0), (151, 0.0), (152, 0.0), (153, 0.0), (154, 0.0), (155, 0.053097476591211314), (156, 0.0), (157, 0.0), (158, 0.03454727876672884), (159, 0.0), (160, 0.0), (161, 0.0), (162, 0.0), (163, 0.0), (164, 0.0), (165, 0.0), (166, 0.0), (167, 0.05514234246257867), (168, 0.008679939619520691), (169, 0.011043318362850803), (170, 0.0101038511847413), (171, 0.0), (172, 0.0), (173, 0.0), (174, 0.0), (175, 0.0), (176, 0.0), (177, 0.0), (178, 0.0), (179, 0.0), (180, 0.04073957452819893), (181, 0.0), (182, 0.0), (183, 0.0), (184, 0.0), (185, 0.0), (186, 0.0), (187, 0.03401610706432074), (188, 0.0), (189, 0.0), (190, 0.0), (191, 0.009745622525522165), (192, 0.0), (193, 0.011018936377981247), (194, 0.0), (195, 0.0), (196, 0.0), (197, 0.0), (198, 0.016054990717375824), (199, 0.0), (200, 0.0), (201, 0.0), (202, 0.0), (203, 0.0), (204, 0.0), (205, 0.035440447866127094), (206, 0.017229822482442165), (207, 0.0), (208, 0.0), (209, 0.0), (210, 0.0), (211, 0.0), (212, 0.0), (213, 0.0), (214, 0.0), (215, 0.0), (216, 0.016526119587788057), (217, 0.05123223710161902), (218, 0.0), (219, 0.011198559405129212), (220, 0.0), (221, 0.0), (222, 0.0), (223, 0.010522191633711668), (224, 0.0), (225, 0.012559823215188209), (226, 0.010993275995239159), (227, 0.0), (228, 0.008261888490106416), (229, 0.0), (230, 0.015411549196479994), (231, 0.016422986954509524), (232, 0.01684243031649502), (233, 0.0), (234, 0.009248191037291964), (235, 0.0), (236, 0.0), (237, 0.0), (238, 0.03833783289556883), (239, 0.0), (240, 0.0), (241, 0.0), (242, 0.009524629295174782), (243, 0.0), (244, 0.0), (245, 0.016759206167382898), (246, 0.0), (247, 0.0), (248, 0.0), (249, 0.06165419884303898), (250, 0.0), (251, 0.009560692605385111), (252, 0.0), (253, 0.0118608925936896), (254, 0.017564335194913613), (255, 0.0), (256, 0.0), (257, 0.06185035923368219), (258, 0.0), (259, 0.0), (260, 0.0), (261, 0.0), (262, 0.0), (263, 0.0), (264, 0.0), (265, 0.0), (266, 0.008333952287705724), (267, 0.0), (268, 0.0), (269, 0.0), (270, 0.0), (271, 0.0), (272, 0.011330588224101455), (273, 0.0), (274, 0.0), (275, 0.0), (276, 0.0), (277, 0.0), (278, 0.0), (279, 0.0), (280, 0.0), (281, 0.0), (282, 0.046643170301737966), (283, 0.05760602331687467), (284, 0.0), (285, 0.0), (286, 0.0), (287, 0.0), (288, 0.0), (289, 0.0), (290, 0.0), (291, 0.009975822971695577), (292, 0.0), (293, 0.0), (294, 0.008556968762023612), (295, 0.02309515416181488), (296, 0.0), (297, 0.0), (298, 0.01134255514063628), (299, 0.0), (300, 0.0), (301, 0.0), (302, 0.0), (303, 0.01727179328871208), (304, 0.0), (305, 0.03309193306889692), (306, 0.02469243697450974), (307, 0.014688590606078055), (308, 0.0), (309, 0.0), (310, 0.0), (311, 0.0), (312, 0.0), (313, 0.0), (314, 0.0), (315, 0.015545421989111179), (316, 0.0), (317, 0.0), (318, 0.0), (319, 0.0), (320, 0.01637551541963331), (321, 0.0), (322, 0.010645886444883786), (323, 0.0), (324, 0.034414643815916746), (325, 0.015227131365728615), (326, 0.0), (327, 0.02952308176457362), (328, 0.0), (329, 0.010373667735700408), (330, 0.0), (331, 0.0), (332, 0.0), (333, 0.0), (334, 0.009457358936665177), (335, 0.0), (336, 0.00806518815433464), (337, 0.0), (338, 0.0), (339, 0.0), (340, 0.0), (341, 0.0), (342, 0.0), (343, 0.0), (344, 0.0), (345, 0.0), (346, 0.0), (347, 0.010805438256649116), (348, 0.0), (349, 0.0), (350, 0.0), (351, 0.0), (352, 0.0), (353, 0.010753004691594495), (354, 0.009940489059240103), (355, 0.0), (356, 0.010260637322885183), (357, 0.0), (358, 0.015448406563956862), (359, 0.0), (360, 0.0), (361, 0.0), (362, 0.0), (363, 0.0), (364, 0.0), (365, 0.0), (366, 0.0), (367, 0.0), (368, 0.0), (369, 0.0), (370, 0.0), (371, 0.0), (372, 0.0), (373, 0.03661467669066463), (374, 0.01548999063748531), (375, 0.0), (376, 0.014015864040773525), (377, 0.034171405338400164), (378, 0.0), (379, 0.0), (380, 0.0), (381, 0.0), (382, 0.0), (383, 0.0), (384, 0.0), (385, 0.0), (386, 0.0), (387, 0.010904166090716724), (388, 0.0), (389, 0.01061966051634002), (390, 0.0), (391, 0.0), (392, 0.0), (393, 0.0), (394, 0.0), (395, 0.0), (396, 0.0), (397, 0.0), (398, 0.0), (399, 0.0), (400, 0.0), (401, 0.0), (402, 0.0), (403, 0.0), (404, 0.0), (405, 0.0), (406, 0.0), (407, 0.0), (408, 0.0), (409, 0.0), (410, 0.0), (411, 0.0), (412, 0.0), (413, 0.0), (414, 0.0), (415, 0.0), (416, 0.0), (417, 0.009925166310882015), (418, 0.0), (419, 0.0), (420, 0.0), (421, 0.008685148890196994), (422, 0.0), (423, 0.0), (424, 0.04154466930798338), (425, 0.0), (426, 0.0), (427, 0.0), (428, 0.0), (429, 0.0), (430, 0.0), (431, 0.0), (432, 0.0), (433, 0.0), (434, 0.0), (435, 0.0), (436, 0.01268425049043869), (437, 0.0), (438, 0.0), (439, 0.010693427449384101), (440, 0.026313275034750828), (441, 0.0), (442, 0.0), (443, 0.0), (444, 0.0), (445, 0.0), (446, 0.015869516121690335), (447, 0.0), (448, 0.01881455150257751), (449, 0.015041713135307418), (450, 0.0), (451, 0.010578695216630943), (452, 0.0), (453, 0.0), (454, 0.0), (455, 0.02285655943801965), (456, 0.0), (457, 0.0), (458, 0.0), (459, 0.0), (460, 0.0), (461, 0.0), (462, 0.04758774015245591), (463, 0.00974070377899797), (464, 0.0), (465, 0.0), (466, 0.0), (467, 0.0), (468, 0.03155375616039363), (469, 0.0), (470, 0.0), (471, 0.0), (472, 0.011420871261186117), (473, 0.0), (474, 0.0), (475, 0.0), (476, 0.01748293723630759), (477, 0.008837742151153597), (478, 0.018450054914940464), (479, 0.0), (480, 0.0), (481, 0.0), (482, 0.016780316756134835), (483, 0.0), (484, 0.0), (485, 0.0), (486, 0.0), (487, 0.0), (488, 0.0), (489, 0.0), (490, 0.015815100072615003), (491, 0.018939559910687125), (492, 0.0), (493, 0.011498824771821266), (494, 0.0), (495, 0.0), (496, 0.0), (497, 0.0), (498, 0.0), (499, 0.017340191147815806), (500, 0.0), (501, 0.0), (502, 0.0), (503, 0.0), (504, 0.0), (505, 0.0), (506, 0.0), (507, 0.0), (508, 0.0), (509, 0.0), (510, 0.0), (511, 0.0), (512, 0.012276500115425828), (513, 0.0), (514, 0.0), (515, 0.0), (516, 0.0), (517, 0.0), (518, 0.0), (519, 0.0), (520, 0.0), (521, 0.0), (522, 0.05151048135404314), (523, 0.045628953649734946), (524, 0.0), (525, 0.0), (526, 0.0), (527, 0.0), (528, 0.0), (529, 0.0), (530, 0.010523706941142012), (531, 0.0), (532, 0.0), (533, 0.018040032048172203), (534, 0.0), (535, 0.0), (536, 0.0), (537, 0.0), (538, 0.0), (539, 0.0), (540, 0.0), (541, 0.0), (542, 0.0), (543, 0.0), (544, 0.0), (545, 0.009434675780248779), (546, 0.0), (547, 0.0), (548, 0.009946557190677458), (549, 0.03203857726724566), (550, 0.017211479023195374), (551, 0.035294650827585615), (552, 0.0), (553, 0.019277628262470762), (554, 0.0), (555, 0.0), (556, 0.0), (557, 0.0), (558, 0.0), (559, 0.0), (560, 0.0), (561, 0.0), (562, 0.008418047458768667), (563, 0.014650095560165187), (564, 0.0), (565, 0.0), (566, 0.0), (567, 0.0), (568, 0.010444893588893294), (569, 0.009924661399289304), (570, 0.0), (571, 0.0), (572, 0.0), (573, 0.0), (574, 0.0), (575, 0.0), (576, 0.0), (577, 0.009876367008673243), (578, 0.0), (579, 0.0), (580, 0.0), (581, 0.0), (582, 0.0), (583, 0.0), (584, 0.0), (585, 0.0), (586, 0.0), (587, 0.0), (588, 0.011064728979631108), (589, 0.020354666258673257), (590, 0.0), (591, 0.0), (592, 0.0), (593, 0.0), (594, 0.0), (595, 0.0), (596, 0.0), (597, 0.0), (598, 0.0), (599, 0.0), (600, 0.0), (601, 0.0), (602, 0.0), (603, 0.011253923847402396), (604, 0.0), (605, 0.0), (606, 0.0), (607, 0.016866813931907594), (608, 0.0), (609, 0.0), (610, 0.0), (611, 0.0), (612, 0.0), (613, 0.0), (614, 0.0), (615, 0.0), (616, 0.0), (617, 0.04732151621324752), (618, 0.010496408690126737), (619, 0.0), (620, 0.0), (621, 0.0), (622, 0.0), (623, 0.0), (624, 0.0), (625, 0.0), (626, 0.0), (627, 0.0), (628, 0.0), (629, 0.0), (630, 0.05417798529270548), (631, 0.0), (632, 0.0), (633, 0.0), (634, 0.0), (635, 0.0), (636, 0.0), (637, 0.0), (638, 0.0), (639, 0.0), (640, 0.0), (641, 0.0), (642, 0.0), (643, 0.0), (644, 0.0), (645, 0.0), (646, 0.0), (647, 0.0), (648, 0.009937513265050784), (649, 0.0), (650, 0.0), (651, 0.0), (652, 0.0), (653, 0.009499805613672908), (654, 0.011242597534333288), (655, 0.0), (656, 0.016568311045107986), (657, 0.0), (658, 0.0), (659, 0.010129239785814578), (660, 0.010970635752316715), (661, 0.0), (662, 0.0), (663, 0.0), (664, 0.0), (665, 0.0), (666, 0.0), (667, 0.0), (668, 0.0), (669, 0.0), (670, 0.01912725716444576), (671, 0.0), (672, 0.0), (673, 0.039353980793263986), (674, 0.0), (675, 0.011563674836147148), (676, 0.04660080295810326), (677, 0.04091860890234934), (678, 0.011914534974411065), (679, 0.0), (680, 0.01125559792590158), (681, 0.0), (682, 0.0), (683, 0.011831784347151491), (684, 0.0), (685, 0.022097066959804196), (686, 0.0), (687, 0.011946633009120364), (688, 0.0), (689, 0.010589447969279197), (690, 0.0), (691, 0.0), (692, 0.0), (693, 0.0), (694, 0.0), (695, 0.0), (696, 0.0), (697, 0.0), (698, 0.0), (699, 0.03353847305477567), (700, 0.0), (701, 0.017865933122613906), (702, 0.0), (703, 0.0), (704, 0.0), (705, 0.0), (706, 0.031629757203878325), (707, 0.0), (708, 0.0), (709, 0.0), (710, 0.010147390698888235), (711, 0.0), (712, 0.0), (713, 0.010362101658669336), (714, 0.0), (715, 0.0), (716, 0.0), (717, 0.0), (718, 0.0), (719, 0.0), (720, 0.0), (721, 0.0), (722, 0.0), (723, 0.0), (724, 0.0), (725, 0.0), (726, 0.0), (727, 0.0), (728, 0.0), (729, 0.0), (730, 0.0), (731, 0.0), (732, 0.009324668730747155), (733, 0.00941310432584049), (734, 0.0), (735, 0.0), (736, 0.0), (737, 0.0), (738, 0.013039673275619766), (739, 0.0), (740, 0.007467134163271544), (741, 0.0), (742, 0.015008749013507629), (743, 0.0), (744, 0.014528269778887591), (745, 0.0), (746, 0.0), (747, 0.0), (748, 0.01119133512039939), (749, 0.0), (750, 0.0), (751, 0.0), (752, 0.0), (753, 0.0), (754, 0.0), (755, 0.0), (756, 0.0), (757, 0.0), (758, 0.0), (759, 0.025847339264568968), (760, 0.0), (761, 0.0), (762, 0.0), (763, 0.0), (764, 0.0), (765, 0.0), (766, 0.0), (767, 0.0), (768, 0.0), (769, 0.0), (770, 0.010640543463067953), (771, 0.0), (772, 0.0), (773, 0.015320036613955312), (774, 0.04546856482906361), (775, 0.0), (776, 0.0), (777, 0.0), (778, 0.0), (779, 0.009519014917612128), (780, 0.02089643170525819), (781, 0.0), (782, 0.0), (783, 0.0), (784, 0.0), (785, 0.0), (786, 0.0), (787, 0.023165054439499948), (788, 0.014726417190407005), (789, 0.0), (790, 0.0), (791, 0.012180794946290551), (792, 0.0), (793, 0.0), (794, 0.0), (795, 0.0), (796, 0.0), (797, 0.0), (798, 0.0), (799, 0.0), (800, 0.0), (801, 0.0), (802, 0.0117449698371857), (803, 0.0), (804, 0.0), (805, 0.009864633752630496), (806, 0.0), (807, 0.0), (808, 0.0), (809, 0.011079822512125005), (810, 0.0), (811, 0.010902462313745117), (812, 0.0), (813, 0.0), (814, 0.0), (815, 0.0), (816, 0.0), (817, 0.0), (818, 0.010453575377345073), (819, 0.0), (820, 0.00984162101906483), (821, 0.0), (822, 0.0), (823, 0.0), (824, 0.00761344314872974), (825, 0.0), (826, 0.0), (827, 0.0), (828, 0.0), (829, 0.0), (830, 0.0), (831, 0.0), (832, 0.0), (833, 0.0), (834, 0.0), (835, 0.0), (836, 0.0), (837, 0.012676189750575561), (838, 0.0), (839, 0.0), (840, 0.0), (841, 0.01158061936432053), (842, 0.0), (843, 0.013282462415463674), (844, 0.0), (845, 0.0), (846, 0.010467380830556865), (847, 0.0), (848, 0.011489720023157228), (849, 0.0), (850, 0.0), (851, 0.0), (852, 0.03567496462754818), (853, 0.0), (854, 0.0), (855, 0.0), (856, 0.0), (857, 0.0), (858, 0.0), (859, 0.026286543082542434), (860, 0.0), (861, 0.0), (862, 0.009168078982419333), (863, 0.0), (864, 0.0), (865, 0.0), (866, 0.0), (867, 0.0), (868, 0.025256655821618762), (869, 0.0), (870, 0.0), (871, 0.01114915093820697), (872, 0.0), (873, 0.0), (874, 0.033603092444810176), (875, 0.0), (876, 0.0), (877, 0.03081330273711603), (878, 0.010366440335891325), (879, 0.0), (880, 0.0), (881, 0.0), (882, 0.0), (883, 0.010492874473540704), (884, 0.011364916463476435), (885, 0.0), (886, 0.0), (887, 0.0), (888, 0.0), (889, 0.0), (890, 0.0), (891, 0.011436283016257752), (892, 0.0), (893, 0.041528867702392135), (894, 0.0), (895, 0.0), (896, 0.0), (897, 0.01095553106152018), (898, 0.009690366462355665), (899, 0.0), (900, 0.0), (901, 0.0), (902, 0.0), (903, 0.0), (904, 0.01320132355194852), (905, 0.0), (906, 0.0), (907, 0.0), (908, 0.0), (909, 0.0), (910, 0.0), (911, 0.014971309936761153), (912, 0.0), (913, 0.0), (914, 0.0), (915, 0.0), (916, 0.0), (917, 0.0), (918, 0.0), (919, 0.03492739155260463), (920, 0.0), (921, 0.0), (922, 0.018101466907716295), (923, 0.010956767964454838), (924, 0.0), (925, 0.0), (926, 0.0), (927, 0.0), (928, 0.0), (929, 0.0), (930, 0.0), (931, 0.0), (932, 0.0), (933, 0.0), (934, 0.01476291467639798), (935, 0.0), (936, 0.05945613580028718), (937, 0.0), (938, 0.010711890992408563), (939, 0.0), (940, 0.0), (941, 0.0), (942, 0.0), (943, 0.0), (944, 0.0), (945, 0.0), (946, 0.0), (947, 0.0), (948, 0.01968702145646266), (949, 0.01859666954304797), (950, 0.0), (951, 0.03401604603163136), (952, 0.0), (953, 0.0), (954, 0.0), (955, 0.0), (956, 0.0), (957, 0.04404516205041005), (958, 0.0), (959, 0.0), (960, 0.0), (961, 0.0), (962, 0.0), (963, 0.010115244406105279), (964, 0.0), (965, 0.0), (966, 0.0), (967, 0.0), (968, 0.0), (969, 0.0), (970, 0.0), (971, 0.016247671722213676), (972, 0.0), (973, 0.0), (974, 0.03566790206091783), (975, 0.0), (976, 0.0), (977, 0.011468986503092964), (978, 0.0), (979, 0.0), (980, 0.010993953456412919), (981, 0.009760723749810147), (982, 0.0), (983, 0.0), (984, 0.010170002739847318), (985, 0.0), (986, 0.0), (987, 0.039582381223626804), (988, 0.0260055951054024), (989, 0.0), (990, 0.016886900890984113), (991, 0.0), (992, 0.0), (993, 0.037500224826955995), (994, 0.022136338278909564), (995, 0.0), (996, 0.0), (997, 0.009811125228653485), (998, 0.0), (999, 0.0), (1000, 0.0), (1001, 0.0), (1002, 0.0), (1003, 0.0), (1004, 0.0), (1005, 0.0), (1006, 0.0), (1007, 0.0), (1008, 0.0), (1009, 0.0), (1010, 0.0), (1011, 0.0), (1012, 0.0), (1013, 0.0), (1014, 0.0), (1015, 0.0), (1016, 0.0), (1017, 0.010826505701281113), (1018, 0.0), (1019, 0.0), (1020, 0.0), (1021, 0.0), (1022, 0.010703785790789401), (1023, 0.0), (1024, 0.0), (1025, 0.0), (1026, 0.0), (1027, 0.0), (1028, 0.0), (1029, 0.0), (1030, 0.010411912083951121), (1031, 0.011285632294264662), (1032, 0.0), (1033, 0.0), (1034, 0.0), (1035, 0.0), (1036, 0.0), (1037, 0.0), (1038, 0.0), (1039, 0.0), (1040, 0.0), (1041, 0.010118305402185192), (1042, 0.009232336389189697), (1043, 0.0), (1044, 0.04354804171309652), (1045, 0.03831666949010141), (1046, 0.0), (1047, 0.010953121170359325), (1048, 0.0), (1049, 0.0), (1050, 0.009599483044301667), (1051, 0.0), (1052, 0.0), (1053, 0.0), (1054, 0.0), (1055, 0.0), (1056, 0.08080177438866976), (1057, 0.0), (1058, 0.0), (1059, 0.0), (1060, 0.0), (1061, 0.0), (1062, 0.0), (1063, 0.0), (1064, 0.0), (1065, 0.0), (1066, 0.0), (1067, 0.009987481803442055), (1068, 0.015304960648129248), (1069, 0.012344248018316685), (1070, 0.0), (1071, 0.0), (1072, 0.0), (1073, 0.0), (1074, 0.0), (1075, 0.0), (1076, 0.0), (1077, 0.0), (1078, 0.0), (1079, 0.0), (1080, 0.0), (1081, 0.0), (1082, 0.0), (1083, 0.0), (1084, 0.020680035455500297), (1085, 0.0), (1086, 0.0), (1087, 0.0), (1088, 0.0), (1089, 0.0), (1090, 0.0), (1091, 0.011881588524693025), (1092, 0.0), (1093, 0.0), (1094, 0.0), (1095, 0.0), (1096, 0.0), (1097, 0.0), (1098, 0.0), (1099, 0.0), (1100, 0.0), (1101, 0.0), (1102, 0.0), (1103, 0.0), (1104, 0.0), (1105, 0.010986379082438604), (1106, 0.0), (1107, 0.0), (1108, 0.0), (1109, 0.01778690816066781), (1110, 0.0), (1111, 0.0), (1112, 0.0), (1113, 0.0), (1114, 0.024599846340990397), (1115, 0.0), (1116, 0.0), (1117, 0.015430658091070653), (1118, 0.06544577281557311), (1119, 0.0), (1120, 0.0), (1121, 0.0), (1122, 0.0), (1123, 0.0), (1124, 0.011259529696562234), (1125, 0.0), (1126, 0.0), (1127, 0.0), (1128, 0.0), (1129, 0.0), (1130, 0.0), (1131, 0.0), (1132, 0.0), (1133, 0.0), (1134, 0.009616603354081155), (1135, 0.0), (1136, 0.0), (1137, 0.008769426858475678), (1138, 0.0), (1139, 0.0), (1140, 0.0), (1141, 0.0), (1142, 0.0), (1143, 0.0), (1144, 0.0), (1145, 0.0), (1146, 0.0), (1147, 0.0), (1148, 0.01821576474681543), (1149, 0.0), (1150, 0.0), (1151, 0.0), (1152, 0.0), (1153, 0.0), (1154, 0.0), (1155, 0.0), (1156, 0.0), (1157, 0.0), (1158, 0.0), (1159, 0.0), (1160, 0.0), (1161, 0.0), (1162, 0.017480406168026645), (1163, 0.010951444928029092), (1164, 0.0), (1165, 0.0), (1166, 0.0), (1167, 0.0), (1168, 0.012226167548495776), (1169, 0.0), (1170, 0.0), (1171, 0.0), (1172, 0.0), (1173, 0.0), (1174, 0.0), (1175, 0.0), (1176, 0.0), (1177, 0.0), (1178, 0.0), (1179, 0.011009442560981172), (1180, 0.0), (1181, 0.0), (1182, 0.0), (1183, 0.0), (1184, 0.012251341209271786), (1185, 0.01111899623746466), (1186, 0.009629680526249747), (1187, 0.0), (1188, 0.0), (1189, 0.0), (1190, 0.0), (1191, 0.0), (1192, 0.0), (1193, 0.0), (1194, 0.029617010706012335), (1195, 0.0), (1196, 0.0), (1197, 0.01986912589502963), (1198, 0.0161954493764571), (1199, 0.009678297190172921), (1200, 0.0), (1201, 0.0), (1202, 0.0), (1203, 0.0), (1204, 0.0), (1205, 0.038706461890380205), (1206, 0.0), (1207, 0.0), (1208, 0.0), (1209, 0.0), (1210, 0.0), (1211, 0.0), (1212, 0.0), (1213, 0.0), (1214, 0.0), (1215, 0.0), (1216, 0.0), (1217, 0.03169388411343193), (1218, 0.010045903563637071), (1219, 0.0), (1220, 0.0), (1221, 0.0), (1222, 0.0), (1223, 0.0), (1224, 0.02303862836220123), (1225, 0.0), (1226, 0.0), (1227, 0.0), (1228, 0.0), (1229, 0.03350891667932213), (1230, 0.0), (1231, 0.0), (1232, 0.0), (1233, 0.0), (1234, 0.04656888570530176), (1235, 0.0), (1236, 0.009929186122443508), (1237, 0.0), (1238, 0.0), (1239, 0.0), (1240, 0.0), (1241, 0.009322878182513383), (1242, 0.0), (1243, 0.0), (1244, 0.027456715251820252), (1245, 0.0), (1246, 0.011809811273683126), (1247, 0.010569799270588685), (1248, 0.0), (1249, 0.0), (1250, 0.0), (1251, 0.0), (1252, 0.0), (1253, 0.0), (1254, 0.0), (1255, 0.0), (1256, 0.026750483695040204), (1257, 0.036240531737378685), (1258, 0.0), (1259, 0.010016916183572746), (1260, 0.0), (1261, 0.03547278705169072), (1262, 0.0), (1263, 0.0), (1264, 0.0), (1265, 0.011836444012210056), (1266, 0.0), (1267, 0.0), (1268, 0.0), (1269, 0.0), (1270, 0.0), (1271, 0.01111221361441223), (1272, 0.0), (1273, 0.0), (1274, 0.0), (1275, 0.01785386716337585), (1276, 0.0), (1277, 0.0), (1278, 0.0), (1279, 0.0), (1280, 0.0), (1281, 0.0), (1282, 0.0), (1283, 0.01513597143472856), (1284, 0.010504683292533592), (1285, 0.0), (1286, 0.0), (1287, 0.0), (1288, 0.04018168770679907), (1289, 0.0), (1290, 0.0), (1291, 0.014959724704640872), (1292, 0.0), (1293, 0.0), (1294, 0.0), (1295, 0.01532776800437389), (1296, 0.0), (1297, 0.0), (1298, 0.0), (1299, 0.0), (1300, 0.009064536916475264), (1301, 0.009290228172700359), (1302, 0.0), (1303, 0.0), (1304, 0.0), (1305, 0.0), (1306, 0.00795655227901318), (1307, 0.0), (1308, 0.0148613762562416), (1309, 0.0), (1310, 0.0), (1311, 0.0), (1312, 0.009649043400272752), (1313, 0.0), (1314, 0.0), (1315, 0.0), (1316, 0.0), (1317, 0.03157205714850395), (1318, 0.0), (1319, 0.0), (1320, 0.0), (1321, 0.0), (1322, 0.0), (1323, 0.0), (1324, 0.0), (1325, 0.0), (1326, 0.0), (1327, 0.0), (1328, 0.0), (1329, 0.0), (1330, 0.0), (1331, 0.0), (1332, 0.012281278523216763), (1333, 0.0), (1334, 0.0), (1335, 0.022059409723923597), (1336, 0.0), (1337, 0.0), (1338, 0.02153139641811215), (1339, 0.0), (1340, 0.0), (1341, 0.008980393748553056), (1342, 0.0), (1343, 0.0), (1344, 0.008912970757737837), (1345, 0.0), (1346, 0.0), (1347, 0.0), (1348, 0.0), (1349, 0.0), (1350, 0.0), (1351, 0.01584518551942333), (1352, 0.0), (1353, 0.0), (1354, 0.0), (1355, 0.01668003950188915), (1356, 0.0), (1357, 0.0), (1358, 0.0), (1359, 0.0), (1360, 0.0), (1361, 0.0), (1362, 0.025347428185384022), (1363, 0.015431272641880064), (1364, 0.028389371154894545), (1365, 0.0), (1366, 0.0), (1367, 0.0), (1368, 0.032122033969859645), (1369, 0.0), (1370, 0.0), (1371, 0.011774784094343871), (1372, 0.010129721279445536), (1373, 0.0), (1374, 0.010611143492199234), (1375, 0.010141958087485994), (1376, 0.0), (1377, 0.0), (1378, 0.0), (1379, 0.0), (1380, 0.011267007290965239), (1381, 0.0), (1382, 0.0), (1383, 0.030324833458066906), (1384, 0.0), (1385, 0.0), (1386, 0.0), (1387, 0.0), (1388, 0.0), (1389, 0.0), (1390, 0.0), (1391, 0.0), (1392, 0.0), (1393, 0.0), (1394, 0.0), (1395, 0.0), (1396, 0.0), (1397, 0.0), (1398, 0.0), (1399, 0.0), (1400, 0.0), (1401, 0.0), (1402, 0.0), (1403, 0.0), (1404, 0.0), (1405, 0.0), (1406, 0.0), (1407, 0.0), (1408, 0.010536827385145808), (1409, 0.011705216342170562), (1410, 0.0), (1411, 0.0), (1412, 0.0), (1413, 0.0), (1414, 0.00950367882948589), (1415, 0.0), (1416, 0.0), (1417, 0.0), (1418, 0.0), (1419, 0.0), (1420, 0.0), (1421, 0.010581529900863293), (1422, 0.0), (1423, 0.0), (1424, 0.0), (1425, 0.0), (1426, 0.0), (1427, 0.0), (1428, 0.0), (1429, 0.0), (1430, 0.010164852058364796), (1431, 0.0), (1432, 0.0), (1433, 0.0), (1434, 0.0), (1435, 0.011026079066305679), (1436, 0.0), (1437, 0.0), (1438, 0.0), (1439, 0.0), (1440, 0.0), (1441, 0.0), (1442, 0.0), (1443, 0.0), (1444, 0.0), (1445, 0.0), (1446, 0.0), (1447, 0.016357938472847073), (1448, 0.0), (1449, 0.0), (1450, 0.0), (1451, 0.0), (1452, 0.0), (1453, 0.0), (1454, 0.0), (1455, 0.0), (1456, 0.0), (1457, 0.0), (1458, 0.0), (1459, 0.0), (1460, 0.0), (1461, 0.0), (1462, 0.0), (1463, 0.01140841394625616), (1464, 0.0), (1465, 0.009475899920176046), (1466, 0.012425648858006387), (1467, 0.012483140289593223), (1468, 0.0), (1469, 0.0), (1470, 0.0168114861415098), (1471, 0.008231183406068815), (1472, 0.0), (1473, 0.038127177331231034), (1474, 0.011852104178619807), (1475, 0.0), (1476, 0.0), (1477, 0.0), (1478, 0.015144517858427537), (1479, 0.0), (1480, 0.0), (1481, 0.0), (1482, 0.0), (1483, 0.01061845580116848), (1484, 0.0), (1485, 0.0), (1486, 0.04146048055383328), (1487, 0.010097885131298308), (1488, 0.0), (1489, 0.0), (1490, 0.0), (1491, 0.0), (1492, 0.0), (1493, 0.0), (1494, 0.0), (1495, 0.011489947725131516), (1496, 0.016077048338169853), (1497, 0.0), (1498, 0.012550587165462859), (1499, 0.041238034674357146), (1500, 0.0), (1501, 0.021691130123393763), (1502, 0.011080445671896207), (1503, 0.009921912078522914), (1504, 0.0), (1505, 0.0), (1506, 0.0), (1507, 0.0), (1508, 0.016110479670472893), (1509, 0.0), (1510, 0.0), (1511, 0.0), (1512, 0.0), (1513, 0.0), (1514, 0.0), (1515, 0.0), (1516, 0.0), (1517, 0.0), (1518, 0.011640959368876477), (1519, 0.010319087051389063), (1520, 0.0), (1521, 0.0), (1522, 0.0), (1523, 0.0), (1524, 0.0), (1525, 0.0), (1526, 0.0), (1527, 0.0), (1528, 0.03441659094269868), (1529, 0.0), (1530, 0.031160263915260025), (1531, 0.016937380172320767), (1532, 0.0), (1533, 0.0), (1534, 0.011080677825301305), (1535, 0.009141446421053686), (1536, 0.0), (1537, 0.0), (1538, 0.0), (1539, 0.0), (1540, 0.0), (1541, 0.0), (1542, 0.0), (1543, 0.0), (1544, 0.0), (1545, 0.0), (1546, 0.0), (1547, 0.0), (1548, 0.0), (1549, 0.0), (1550, 0.0), (1551, 0.0), (1552, 0.0), (1553, 0.0), (1554, 0.011710665953454637), (1555, 0.014807479728517151), (1556, 0.0), (1557, 0.0), (1558, 0.0), (1559, 0.0), (1560, 0.0418062311627197), (1561, 0.0), (1562, 0.0), (1563, 0.0), (1564, 0.0), (1565, 0.0), (1566, 0.0), (1567, 0.0), (1568, 0.0), (1569, 0.0), (1570, 0.0), (1571, 0.009587524927709593), (1572, 0.0), (1573, 0.0), (1574, 0.0), (1575, 0.0), (1576, 0.0), (1577, 0.04613155901602704), (1578, 0.0), (1579, 0.0), (1580, 0.017613872820998588), (1581, 0.0), (1582, 0.0), (1583, 0.0), (1584, 0.0), (1585, 0.03332423698400169), (1586, 0.0), (1587, 0.0), (1588, 0.0), (1589, 0.0), (1590, 0.0), (1591, 0.0), (1592, 0.0), (1593, 0.0), (1594, 0.0), (1595, 0.0), (1596, 0.0), (1597, 0.01045289211388775), (1598, 0.0), (1599, 0.016418611393243042), (1600, 0.0), (1601, 0.0), (1602, 0.0), (1603, 0.0), (1604, 0.0), (1605, 0.0), (1606, 0.0), (1607, 0.0), (1608, 0.010168917949367274), (1609, 0.0), (1610, 0.0), (1611, 0.0), (1612, 0.0), (1613, 0.0), (1614, 0.0), (1615, 0.0), (1616, 0.0), (1617, 0.010450162165939586), (1618, 0.0), (1619, 0.0), (1620, 0.0), (1621, 0.0), (1622, 0.0), (1623, 0.0), (1624, 0.0), (1625, 0.0), (1626, 0.0), (1627, 0.0), (1628, 0.0), (1629, 0.01083553759692968), (1630, 0.0), (1631, 0.010166866804241299), (1632, 0.0), (1633, 0.0), (1634, 0.036261865256975716), (1635, 0.0), (1636, 0.0), (1637, 0.012730736525588478), (1638, 0.0), (1639, 0.0), (1640, 0.0), (1641, 0.0), (1642, 0.0), (1643, 0.0), (1644, 0.015890479081299896), (1645, 0.0), (1646, 0.0), (1647, 0.0), (1648, 0.0), (1649, 0.0), (1650, 0.014574600716337193), (1651, 0.0), (1652, 0.0), (1653, 0.01076491930263984), (1654, 0.0), (1655, 0.0), (1656, 0.0), (1657, 0.0), (1658, 0.0), (1659, 0.04762399713520354), (1660, 0.0), (1661, 0.0), (1662, 0.014890632032935482), (1663, 0.0), (1664, 0.0), (1665, 0.0), (1666, 0.0), (1667, 0.0), (1668, 0.0), (1669, 0.032368055684751366), (1670, 0.0), (1671, 0.0), (1672, 0.0), (1673, 0.0), (1674, 0.0), (1675, 0.009914209038587845), (1676, 0.0), (1677, 0.0), (1678, 0.0), (1679, 0.0), (1680, 0.010071295168013932), (1681, 0.012144787540549762), (1682, 0.0), (1683, 0.0), (1684, 0.0), (1685, 0.0), (1686, 0.0), (1687, 0.0), (1688, 0.0), (1689, 0.0), (1690, 0.0), (1691, 0.0), (1692, 0.0), (1693, 0.0), (1694, 0.0), (1695, 0.0), (1696, 0.0), (1697, 0.0), (1698, 0.009494808959110028), (1699, 0.0), (1700, 0.015913066367444124), (1701, 0.012531857612573477), (1702, 0.0), (1703, 0.0), (1704, 0.0), (1705, 0.0), (1706, 0.0), (1707, 0.02756753930844379), (1708, 0.0), (1709, 0.04919212073640592), (1710, 0.0), (1711, 0.0), (1712, 0.0), (1713, 0.04304683248200296), (1714, 0.0), (1715, 0.0), (1716, 0.011844405404971036), (1717, 0.0), (1718, 0.0), (1719, 0.029274848306115927), (1720, 0.0), (1721, 0.0), (1722, 0.0), (1723, 0.0), (1724, 0.012031725189462501), (1725, 0.0), (1726, 0.0), (1727, 0.0), (1728, 0.0), (1729, 0.014682284817667333), (1730, 0.0), (1731, 0.0), (1732, 0.0), (1733, 0.0), (1734, 0.0), (1735, 0.0), (1736, 0.0), (1737, 0.0), (1738, 0.0), (1739, 0.0), (1740, 0.0), (1741, 0.0), (1742, 0.01042360180968159), (1743, 0.0), (1744, 0.0), (1745, 0.0), (1746, 0.0), (1747, 0.0), (1748, 0.0), (1749, 0.0), (1750, 0.0), (1751, 0.0), (1752, 0.030131791914151725), (1753, 0.0), (1754, 0.0), (1755, 0.0), (1756, 0.0), (1757, 0.0), (1758, 0.0), (1759, 0.0), (1760, 0.0), (1761, 0.016331029310886782), (1762, 0.0), (1763, 0.0), (1764, 0.014237021381111058), (1765, 0.0), (1766, 0.0), (1767, 0.0), (1768, 0.0), (1769, 0.0), (1770, 0.0), (1771, 0.015586133151573207), (1772, 0.0), (1773, 0.0), (1774, 0.0), (1775, 0.0), (1776, 0.0), (1777, 0.0), (1778, 0.0), (1779, 0.038842479343447193), (1780, 0.0), (1781, 0.0), (1782, 0.010414990182508667), (1783, 0.0), (1784, 0.0), (1785, 0.0), (1786, 0.011970904182995687), (1787, 0.0), (1788, 0.0), (1789, 0.0), (1790, 0.0), (1791, 0.0), (1792, 0.0), (1793, 0.0), (1794, 0.0), (1795, 0.0), (1796, 0.010318480311343593), (1797, 0.0), (1798, 0.011797414609969758), (1799, 0.017710251331283837), (1800, 0.0), (1801, 0.0), (1802, 0.009220166822988075), (1803, 0.0), (1804, 0.010650655390478164), (1805, 0.011710126633280674), (1806, 0.0), (1807, 0.0), (1808, 0.0), (1809, 0.0), (1810, 0.029262213519057383), (1811, 0.0), (1812, 0.0), (1813, 0.0), (1814, 0.0), (1815, 0.01240964324820815), (1816, 0.0), (1817, 0.0), (1818, 0.0), (1819, 0.015202946229113053), (1820, 0.0), (1821, 0.011407496014740167), (1822, 0.0), (1823, 0.0), (1824, 0.014993594753405988), (1825, 0.0), (1826, 0.0), (1827, 0.009903411794362106), (1828, 0.0), (1829, 0.011808722434311367), (1830, 0.0), (1831, 0.010867284983216761), (1832, 0.0), (1833, 0.0), (1834, 0.0), (1835, 0.01158274219459939), (1836, 0.0), (1837, 0.0), (1838, 0.0), (1839, 0.0), (1840, 0.019912529746135683), (1841, 0.0), (1842, 0.0), (1843, 0.0), (1844, 0.0), (1845, 0.0), (1846, 0.015692348033687076), (1847, 0.03860378712198616), (1848, 0.0), (1849, 0.0), (1850, 0.0), (1851, 0.017006772331142398), (1852, 0.01572347491900811), (1853, 0.0), (1854, 0.0), (1855, 0.0), (1856, 0.0), (1857, 0.015792466242071593), (1858, 0.0), (1859, 0.0), (1860, 0.027055221960279523), (1861, 0.0), (1862, 0.0), (1863, 0.0), (1864, 0.010307663675755356), (1865, 0.0), (1866, 0.0), (1867, 0.0), (1868, 0.0), (1869, 0.0), (1870, 0.0), (1871, 0.01727580773957365), (1872, 0.0), (1873, 0.0), (1874, 0.0), (1875, 0.0), (1876, 0.0), (1877, 0.0), (1878, 0.0), (1879, 0.0), (1880, 0.015821546822253264), (1881, 0.0), (1882, 0.0), (1883, 0.0), (1884, 0.0), (1885, 0.0), (1886, 0.0), (1887, 0.0), (1888, 0.0), (1889, 0.0), (1890, 0.0), (1891, 0.0), (1892, 0.0), (1893, 0.0), (1894, 0.0), (1895, 0.0), (1896, 0.0), (1897, 0.0), (1898, 0.0), (1899, 0.0), (1900, 0.0), (1901, 0.0), (1902, 0.011236856262931506), (1903, 0.0), (1904, 0.0), (1905, 0.0), (1906, 0.0), (1907, 0.05519966758687862), (1908, 0.011066970413679694), (1909, 0.0), (1910, 0.0), (1911, 0.0), (1912, 0.0), (1913, 0.0), (1914, 0.0), (1915, 0.0), (1916, 0.0), (1917, 0.0), (1918, 0.011401022895728318), (1919, 0.0), (1920, 0.0), (1921, 0.0), (1922, 0.0), (1923, 0.0), (1924, 0.011989852334769681), (1925, 0.0), (1926, 0.0), (1927, 0.0), (1928, 0.011878479357393064), (1929, 0.0), (1930, 0.0), (1931, 0.0), (1932, 0.0), (1933, 0.0), (1934, 0.01431593012398458), (1935, 0.0), (1936, 0.0), (1937, 0.0), (1938, 0.0), (1939, 0.0), (1940, 0.0), (1941, 0.0), (1942, 0.0), (1943, 0.0), (1944, 0.0), (1945, 0.01090047804293355), (1946, 0.0), (1947, 0.0), (1948, 0.030759425161899803), (1949, 0.01121849337295953), (1950, 0.0), (1951, 0.0), (1952, 0.0), (1953, 0.0), (1954, 0.0), (1955, 0.0), (1956, 0.0), (1957, 0.0), (1958, 0.0), (1959, 0.0), (1960, 0.0), (1961, 0.0), (1962, 0.0), (1963, 0.0), (1964, 0.0), (1965, 0.0), (1966, 0.0), (1967, 0.021911821042292955), (1968, 0.0), (1969, 0.0), (1970, 0.03672485000878087), (1971, 0.0), (1972, 0.0), (1973, 0.0), (1974, 0.010016518258848613), (1975, 0.0), (1976, 0.0), (1977, 0.0), (1978, 0.0), (1979, 0.0), (1980, 0.0), (1981, 0.0), (1982, 0.0), (1983, 0.0), (1984, 0.0), (1985, 0.010973558528999743), (1986, 0.010763286885946487), (1987, 0.0), (1988, 0.015254648126136944), (1989, 0.0), (1990, 0.0), (1991, 0.0), (1992, 0.0), (1993, 0.0), (1994, 0.009753787563411933), (1995, 0.0), (1996, 0.009934261825177114), (1997, 0.02359270344410383), (1998, 0.0), (1999, 0.0), (2000, 0.008842837763505291), (2001, 0.0), (2002, 0.0), (2003, 0.0), (2004, 0.015184820463840938), (2005, 0.0), (2006, 0.0), (2007, 0.0), (2008, 0.0), (2009, 0.0), (2010, 0.0), (2011, 0.0), (2012, 0.0), (2013, 0.008652784751224735), (2014, 0.010471992274216505), (2015, 0.0), (2016, 0.0), (2017, 0.0), (2018, 0.0), (2019, 0.0), (2020, 0.0), (2021, 0.0), (2022, 0.026216592012614795), (2023, 0.010220572727744282), (2024, 0.0), (2025, 0.0), (2026, 0.0), (2027, 0.0), (2028, 0.0), (2029, 0.0), (2030, 0.0), (2031, 0.0), (2032, 0.0), (2033, 0.0), (2034, 0.0), (2035, 0.0), (2036, 0.015411376774301322), (2037, 0.016727588760333208), (2038, 0.0), (2039, 0.01807520524489032), (2040, 0.0), (2041, 0.03842263826231055), (2042, 0.0), (2043, 0.01459836244733963), (2044, 0.0), (2045, 0.0), (2046, 0.011115440189886854), (2047, 0.00933408906497691), (2048, 0.0), (2049, 0.0), (2050, 0.015343696972830357), (2051, 0.0), (2052, 0.0), (2053, 0.0), (2054, 0.0), (2055, 0.0), (2056, 0.0), (2057, 0.0), (2058, 0.0), (2059, 0.0), (2060, 0.033479212508722475), (2061, 0.01581487923688054), (2062, 0.0), (2063, 0.0), (2064, 0.0), (2065, 0.0), (2066, 0.0), (2067, 0.01145686317021655), (2068, 0.0), (2069, 0.0), (2070, 0.0), (2071, 0.0), (2072, 0.011176266467554144), (2073, 0.0), (2074, 0.009632860978018153), (2075, 0.0), (2076, 0.0), (2077, 0.0), (2078, 0.0), (2079, 0.0), (2080, 0.0), (2081, 0.0), (2082, 0.0), (2083, 0.0), (2084, 0.0), (2085, 0.0), (2086, 0.0), (2087, 0.0), (2088, 0.0), (2089, 0.0), (2090, 0.0), (2091, 0.0), (2092, 0.0), (2093, 0.010173040915510806), (2094, 0.0), (2095, 0.010408050133728608), (2096, 0.011547546830768746), (2097, 0.023697510077916678), (2098, 0.0), (2099, 0.0), (2100, 0.0), (2101, 0.0), (2102, 0.021028566737409788), (2103, 0.0), (2104, 0.0), (2105, 0.0), (2106, 0.01119581887059658), (2107, 0.0), (2108, 0.0), (2109, 0.03665192750042572), (2110, 0.01014083640951269), (2111, 0.0), (2112, 0.0), (2113, 0.0), (2114, 0.0), (2115, 0.0), (2116, 0.0), (2117, 0.015302838249063385), (2118, 0.006866699315262042), (2119, 0.010075388490021856), (2120, 0.0), (2121, 0.0), (2122, 0.0), (2123, 0.0), (2124, 0.0), (2125, 0.0), (2126, 0.0), (2127, 0.0), (2128, 0.0), (2129, 0.0), (2130, 0.0), (2131, 0.0), (2132, 0.0), (2133, 0.0), (2134, 0.0), (2135, 0.010209854364299198), (2136, 0.0), (2137, 0.0), (2138, 0.0), (2139, 0.0), (2140, 0.0), (2141, 0.0), (2142, 0.0), (2143, 0.0), (2144, 0.0), (2145, 0.0), (2146, 0.0), (2147, 0.0), (2148, 0.0), (2149, 0.0), (2150, 0.0), (2151, 0.0), (2152, 0.0), (2153, 0.0), (2154, 0.0), (2155, 0.034239420841961334), (2156, 0.0), (2157, 0.009250052816554041), (2158, 0.0), (2159, 0.0), (2160, 0.0), (2161, 0.0), (2162, 0.0), (2163, 0.0), (2164, 0.03871723485729012), (2165, 0.04185866474449529), (2166, 0.0), (2167, 0.010608482988938451), (2168, 0.009647848843243012), (2169, 0.0), (2170, 0.0), (2171, 0.0), (2172, 0.0), (2173, 0.0), (2174, 0.0), (2175, 0.0), (2176, 0.0), (2177, 0.0), (2178, 0.0), (2179, 0.033167546148571134), (2180, 0.0), (2181, 0.0), (2182, 0.0), (2183, 0.0), (2184, 0.0), (2185, 0.0), (2186, 0.0), (2187, 0.0), (2188, 0.0), (2189, 0.0), (2190, 0.0), (2191, 0.0), (2192, 0.0), (2193, 0.0), (2194, 0.0), (2195, 0.010551324440852968), (2196, 0.0), (2197, 0.0), (2198, 0.0), (2199, 0.0), (2200, 0.0), (2201, 0.0), (2202, 0.0), (2203, 0.0), (2204, 0.0), (2205, 0.01005941656941405), (2206, 0.0), (2207, 0.046616473840175095), (2208, 0.0), (2209, 0.0), (2210, 0.015624569460004057), (2211, 0.018482571445174654), (2212, 0.0), (2213, 0.0), (2214, 0.0), (2215, 0.0), (2216, 0.0), (2217, 0.0), (2218, 0.0), (2219, 0.0), (2220, 0.0), (2221, 0.0), (2222, 0.0), (2223, 0.0), (2224, 0.0), (2225, 0.0), (2226, 0.0), (2227, 0.0), (2228, 0.0), (2229, 0.012437848618912282), (2230, 0.01134500593233302), (2231, 0.0), (2232, 0.0), (2233, 0.0), (2234, 0.0), (2235, 0.0), (2236, 0.01463239888918396), (2237, 0.0), (2238, 0.0), (2239, 0.02636489930106938), (2240, 0.009680281808152821), (2241, 0.02288060225058997), (2242, 0.011208926995491626), (2243, 0.0), (2244, 0.0), (2245, 0.0), (2246, 0.011029390280807122), (2247, 0.0), (2248, 0.0), (2249, 0.016484548419048905), (2250, 0.026228323105932073), (2251, 0.0), (2252, 0.0), (2253, 0.0), (2254, 0.0166103543558369), (2255, 0.0), (2256, 0.0739465048994553), (2257, 0.0), (2258, 0.0), (2259, 0.011591545543961418), (2260, 0.0), (2261, 0.0), (2262, 0.0), (2263, 0.0), (2264, 0.0), (2265, 0.0), (2266, 0.0), (2267, 0.0), (2268, 0.0), (2269, 0.0), (2270, 0.0), (2271, 0.0), (2272, 0.0), (2273, 0.0), (2274, 0.03399412708055492), (2275, 0.0), (2276, 0.0), (2277, 0.011295881296744753), (2278, 0.0), (2279, 0.0), (2280, 0.010612340226372209), (2281, 0.0), (2282, 0.0), (2283, 0.011200897570433011), (2284, 0.016213571593294517), (2285, 0.01435115381272116), (2286, 0.0), (2287, 0.0), (2288, 0.0), (2289, 0.0), (2290, 0.0267939366882605), (2291, 0.0), (2292, 0.0), (2293, 0.0), (2294, 0.023469413890443165), (2295, 0.0), (2296, 0.0), (2297, 0.0), (2298, 0.0), (2299, 0.0), (2300, 0.0), (2301, 0.009933335775920286), (2302, 0.0), (2303, 0.0), (2304, 0.0), (2305, 0.0), (2306, 0.0), (2307, 0.0), (2308, 0.0), (2309, 0.0), (2310, 0.0), (2311, 0.0), (2312, 0.0), (2313, 0.01600883502274667), (2314, 0.0), (2315, 0.0), (2316, 0.0), (2317, 0.0), (2318, 0.0), (2319, 0.0), (2320, 0.0), (2321, 0.010923353403218568), (2322, 0.0), (2323, 0.0), (2324, 0.0), (2325, 0.0), (2326, 0.0), (2327, 0.010199055247371655), (2328, 0.0), (2329, 0.0), (2330, 0.0), (2331, 0.0), (2332, 0.0), (2333, 0.0), (2334, 0.0), (2335, 0.0), (2336, 0.0), (2337, 0.05488811724994453), (2338, 0.009703808476235717), (2339, 0.0), (2340, 0.0), (2341, 0.0), (2342, 0.019015454405544134), (2343, 0.0), (2344, 0.0), (2345, 0.03684451677708782), (2346, 0.0), (2347, 0.0), (2348, 0.0), (2349, 0.0), (2350, 0.0), (2351, 0.0), (2352, 0.0), (2353, 0.0), (2354, 0.07077835128477628), (2355, 0.0), (2356, 0.0), (2357, 0.0), (2358, 0.0), (2359, 0.01847992850715969), (2360, 0.0), (2361, 0.0), (2362, 0.0), (2363, 0.0), (2364, 0.0), (2365, 0.0), (2366, 0.0), (2367, 0.010045576563582142), (2368, 0.0), (2369, 0.0), (2370, 0.0), (2371, 0.0), (2372, 0.0), (2373, 0.0), (2374, 0.010824759768619865), (2375, 0.011632957697287465), (2376, 0.0), (2377, 0.008944129755677533), (2378, 0.0), (2379, 0.0), (2380, 0.0), (2381, 0.017711310351944634), (2382, 0.0), (2383, 0.0), (2384, 0.011931679975789302), (2385, 0.0), (2386, 0.0), (2387, 0.0), (2388, 0.0), (2389, 0.0), (2390, 0.0), (2391, 0.0), (2392, 0.0), (2393, 0.0), (2394, 0.0), (2395, 0.0), (2396, 0.010943652909615817), (2397, 0.015621381362598835), (2398, 0.024882954412270498), (2399, 0.0), (2400, 0.012083286241081528), (2401, 0.0), (2402, 0.010429112045661236), (2403, 0.0), (2404, 0.0), (2405, 0.0), (2406, 0.0), (2407, 0.0), (2408, 0.0), (2409, 0.0), (2410, 0.0), (2411, 0.0), (2412, 0.0), (2413, 0.0), (2414, 0.0), (2415, 0.0), (2416, 0.0), (2417, 0.0), (2418, 0.0), (2419, 0.0), (2420, 0.0), (2421, 0.0), (2422, 0.0), (2423, 0.0), (2424, 0.0), (2425, 0.0), (2426, 0.0), (2427, 0.0), (2428, 0.012921708163632077), (2429, 0.0), (2430, 0.0), (2431, 0.0), (2432, 0.026015016014380568), (2433, 0.0), (2434, 0.0), (2435, 0.0), (2436, 0.0), (2437, 0.0), (2438, 0.0), (2439, 0.0), (2440, 0.0), (2441, 0.008956147687839195), (2442, 0.0), (2443, 0.0), (2444, 0.0), (2445, 0.0), (2446, 0.0), (2447, 0.009308861636021785), (2448, 0.0), (2449, 0.0), (2450, 0.0), (2451, 0.0), (2452, 0.0), (2453, 0.0), (2454, 0.0), (2455, 0.0), (2456, 0.01106307064276389), (2457, 0.0), (2458, 0.0), (2459, 0.0), (2460, 0.0), (2461, 0.0), (2462, 0.0), (2463, 0.0), (2464, 0.0), (2465, 0.0), (2466, 0.0), (2467, 0.0), (2468, 0.0), (2469, 0.0), (2470, 0.0), (2471, 0.01642011114900163), (2472, 0.0), (2473, 0.0), (2474, 0.012781934492301134), (2475, 0.0), (2476, 0.0), (2477, 0.0), (2478, 0.0), (2479, 0.0), (2480, 0.0), (2481, 0.013509346936333988), (2482, 0.0), (2483, 0.0), (2484, 0.0), (2485, 0.0), (2486, 0.0), (2487, 0.0), (2488, 0.0), (2489, 0.0), (2490, 0.0), (2491, 0.0), (2492, 0.0), (2493, 0.0), (2494, 0.016426221347508718), (2495, 0.0), (2496, 0.015551331439737026), (2497, 0.0), (2498, 0.0), (2499, 0.0), (2500, 0.0), (2501, 0.0), (2502, 0.0), (2503, 0.010771615783536559), (2504, 0.0), (2505, 0.03973979539200957), (2506, 0.0), (2507, 0.0), (2508, 0.0287502036377992), (2509, 0.0), (2510, 0.0), (2511, 0.0), (2512, 0.0), (2513, 0.0), (2514, 0.0), (2515, 0.0), (2516, 0.0), (2517, 0.015068886848900426), (2518, 0.0), (2519, 0.0), (2520, 0.0), (2521, 0.0), (2522, 0.0), (2523, 0.0), (2524, 0.008730075004558838), (2525, 0.00985194459700769), (2526, 0.0), (2527, 0.0), (2528, 0.0), (2529, 0.0), (2530, 0.0), (2531, 0.0), (2532, 0.0), (2533, 0.0), (2534, 0.0), (2535, 0.0), (2536, 0.0), (2537, 0.0), (2538, 0.0), (2539, 0.009620245901337001), (2540, 0.0), (2541, 0.03243651560668226), (2542, 0.0), (2543, 0.0), (2544, 0.0), (2545, 0.056308597311721484), (2546, 0.0), (2547, 0.0), (2548, 0.0), (2549, 0.0), (2550, 0.0), (2551, 0.010587385465067194), (2552, 0.010138504287990216), (2553, 0.01042524486582394), (2554, 0.0), (2555, 0.0), (2556, 0.0), (2557, 0.0), (2558, 0.0), (2559, 0.0), (2560, 0.0), (2561, 0.0), (2562, 0.0), (2563, 0.04313635691999309), (2564, 0.0), (2565, 0.0), (2566, 0.0), (2567, 0.0), (2568, 0.0), (2569, 0.0), (2570, 0.0), (2571, 0.0), (2572, 0.03239486747585034), (2573, 0.0), (2574, 0.0), (2575, 0.0), (2576, 0.0), (2577, 0.0), (2578, 0.0), (2579, 0.0), (2580, 0.0), (2581, 0.0), (2582, 0.0), (2583, 0.0), (2584, 0.0), (2585, 0.0), (2586, 0.0), (2587, 0.01416047546627858), (2588, 0.0), (2589, 0.037143063159024034), (2590, 0.0), (2591, 0.0), (2592, 0.0), (2593, 0.0), (2594, 0.015329162335605186), (2595, 0.0), (2596, 0.0), (2597, 0.0), (2598, 0.014903333795980083), (2599, 0.0), (2600, 0.0), (2601, 0.0), (2602, 0.0), (2603, 0.0), (2604, 0.017662199131289805), (2605, 0.0), (2606, 0.0), (2607, 0.0), (2608, 0.014667014440947219), (2609, 0.0), (2610, 0.0), (2611, 0.0), (2612, 0.0), (2613, 0.0), (2614, 0.0), (2615, 0.01452821521590409), (2616, 0.010503881421562508), (2617, 0.0), (2618, 0.0), (2619, 0.0), (2620, 0.03432369542794596), (2621, 0.0), (2622, 0.0), (2623, 0.0), (2624, 0.0175750453913343), (2625, 0.018327956590893923), (2626, 0.0), (2627, 0.0), (2628, 0.021387476170882446), (2629, 0.041931870558039645), (2630, 0.0), (2631, 0.0), (2632, 0.010934436079857194), (2633, 0.0), (2634, 0.0), (2635, 0.0), (2636, 0.011966692545954567), (2637, 0.010997177278398468), (2638, 0.012219811995128671), (2639, 0.0), (2640, 0.0), (2641, 0.0), (2642, 0.010494943553649168), (2643, 0.0), (2644, 0.0), (2645, 0.0), (2646, 0.0), (2647, 0.01085755202998262), (2648, 0.0), (2649, 0.0), (2650, 0.0), (2651, 0.01580583114573084), (2652, 0.0), (2653, 0.0), (2654, 0.0), (2655, 0.0), (2656, 0.0), (2657, 0.0), (2658, 0.0), (2659, 0.0), (2660, 0.0), (2661, 0.0), (2662, 0.0), (2663, 0.0), (2664, 0.0), (2665, 0.009036725450462), (2666, 0.0), (2667, 0.0), (2668, 0.01635961615349211), (2669, 0.0), (2670, 0.0), (2671, 0.008292486993466321), (2672, 0.0), (2673, 0.0), (2674, 0.0), (2675, 0.0), (2676, 0.0), (2677, 0.010686180504280204), (2678, 0.0), (2679, 0.0), (2680, 0.0), (2681, 0.0), (2682, 0.009798694382401019), (2683, 0.0), (2684, 0.0230431546183101), (2685, 0.010974378867913737), (2686, 0.0), (2687, 0.0), (2688, 0.0), (2689, 0.027935871522425704), (2690, 0.0), (2691, 0.0), (2692, 0.0), (2693, 0.0), (2694, 0.0205757851589607), (2695, 0.0), (2696, 0.0), (2697, 0.0), (2698, 0.010569332856591064), (2699, 0.04595171767234873), (2700, 0.0), (2701, 0.0), (2702, 0.0), (2703, 0.0), (2704, 0.0), (2705, 0.0), (2706, 0.0), (2707, 0.0), (2708, 0.0), (2709, 0.0), (2710, 0.0), (2711, 0.0), (2712, 0.0), (2713, 0.0), (2714, 0.0), (2715, 0.0), (2716, 0.0), (2717, 0.0), (2718, 0.0), (2719, 0.0), (2720, 0.0), (2721, 0.0), (2722, 0.0), (2723, 0.0), (2724, 0.0), (2725, 0.0), (2726, 0.0), (2727, 0.0), (2728, 0.0), (2729, 0.0), (2730, 0.012996611408609974), (2731, 0.0), (2732, 0.011043578712507541), (2733, 0.0), (2734, 0.0), (2735, 0.0), (2736, 0.0), (2737, 0.0), (2738, 0.0), (2739, 0.0), (2740, 0.0), (2741, 0.0), (2742, 0.0), (2743, 0.0), (2744, 0.0), (2745, 0.03702982959745137), (2746, 0.011003453378963178), (2747, 0.0), (2748, 0.0), (2749, 0.00962450081014946), (2750, 0.0), (2751, 0.0), (2752, 0.0), (2753, 0.0), (2754, 0.0), (2755, 0.0), (2756, 0.01305431830636812), (2757, 0.0), (2758, 0.0), (2759, 0.0), (2760, 0.0), (2761, 0.0), (2762, 0.0), (2763, 0.0), (2764, 0.0), (2765, 0.0), (2766, 0.0), (2767, 0.012604452805148368), (2768, 0.0), (2769, 0.0), (2770, 0.0), (2771, 0.0), (2772, 0.018933996471643517), (2773, 0.0), (2774, 0.0), (2775, 0.0), (2776, 0.0), (2777, 0.0), (2778, 0.0), (2779, 0.0), (2780, 0.0), (2781, 0.01918412662491252), (2782, 0.0), (2783, 0.0), (2784, 0.0), (2785, 0.0), (2786, 0.0), (2787, 0.0), (2788, 0.0), (2789, 0.009103041200916664), (2790, 0.04504318057475512), (2791, 0.0), (2792, 0.0), (2793, 0.0), (2794, 0.0), (2795, 0.04846706148384611), (2796, 0.0), (2797, 0.0), (2798, 0.0), (2799, 0.012010715067565542), (2800, 0.0), (2801, 0.0), (2802, 0.036529945709622196), (2803, 0.009990922725518846), (2804, 0.0), (2805, 0.0), (2806, 0.0), (2807, 0.0), (2808, 0.0), (2809, 0.0), (2810, 0.02488601191620293), (2811, 0.0), (2812, 0.0), (2813, 0.0), (2814, 0.023283811228626362), (2815, 0.0), (2816, 0.0), (2817, 0.011455813901375136), (2818, 0.0), (2819, 0.0), (2820, 0.0), (2821, 0.0), (2822, 0.0), (2823, 0.0), (2824, 0.0), (2825, 0.0), (2826, 0.010607160018554175), (2827, 0.0), (2828, 0.0), (2829, 0.0), (2830, 0.0), (2831, 0.0), (2832, 0.0), (2833, 0.0), (2834, 0.0), (2835, 0.0), (2836, 0.0), (2837, 0.0), (2838, 0.0), (2839, 0.010646083203750222), (2840, 0.0), (2841, 0.015308467828872067), (2842, 0.013704132200771239), (2843, 0.0), (2844, 0.0), (2845, 0.030674016883663786), (2846, 0.0), (2847, 0.0), (2848, 0.0), (2849, 0.0), (2850, 0.0), (2851, 0.0), (2852, 0.0), (2853, 0.0), (2854, 0.0), (2855, 0.0), (2856, 0.0), (2857, 0.0), (2858, 0.0), (2859, 0.0), (2860, 0.0), (2861, 0.0), (2862, 0.0), (2863, 0.0), (2864, 0.0), (2865, 0.0), (2866, 0.0), (2867, 0.0), (2868, 0.0), (2869, 0.0), (2870, 0.0), (2871, 0.0), (2872, 0.0), (2873, 0.017526962130936602), (2874, 0.0), (2875, 0.0), (2876, 0.0), (2877, 0.009162990301282798), (2878, 0.0), (2879, 0.0), (2880, 0.0), (2881, 0.0), (2882, 0.0), (2883, 0.0), (2884, 0.0), (2885, 0.0), (2886, 0.0), (2887, 0.0), (2888, 0.0), (2889, 0.0), (2890, 0.0), (2891, 0.05184733045152506), (2892, 0.01026657337229297), (2893, 0.0), (2894, 0.0), (2895, 0.018922350180189604), (2896, 0.0), (2897, 0.0), (2898, 0.0), (2899, 0.0), (2900, 0.0), (2901, 0.0), (2902, 0.04119847995449497), (2903, 0.0), (2904, 0.010956654838919399), (2905, 0.0), (2906, 0.0), (2907, 0.0), (2908, 0.0), (2909, 0.0), (2910, 0.011211334076430527), (2911, 0.016974621161015113), (2912, 0.03643152841673615), (2913, 0.02950609727218857), (2914, 0.0), (2915, 0.0), (2916, 0.0), (2917, 0.0), (2918, 0.0), (2919, 0.022562571694959715), (2920, 0.0), (2921, 0.0), (2922, 0.0), (2923, 0.0), (2924, 0.0), (2925, 0.0), (2926, 0.0), (2927, 0.0), (2928, 0.0), (2929, 0.0), (2930, 0.0), (2931, 0.0), (2932, 0.04969085535863394), (2933, 0.0), (2934, 0.0), (2935, 0.0), (2936, 0.0), (2937, 0.0), (2938, 0.0), (2939, 0.0), (2940, 0.0), (2941, 0.0), (2942, 0.0), (2943, 0.0), (2944, 0.011032761724087464), (2945, 0.03736152206215226), (2946, 0.0), (2947, 0.0), (2948, 0.0), (2949, 0.0), (2950, 0.03679571385211566), (2951, 0.0), (2952, 0.0), (2953, 0.0), (2954, 0.010116545622758662), (2955, 0.0), (2956, 0.0), (2957, 0.0), (2958, 0.0), (2959, 0.01144992420773767), (2960, 0.0), (2961, 0.0), (2962, 0.010141991407022932), (2963, 0.0), (2964, 0.05114735104452484), (2965, 0.0), (2966, 0.0), (2967, 0.04033656331489605), (2968, 0.035800276207125704), (2969, 0.0), (2970, 0.0), (2971, 0.0), (2972, 0.03703021795963566), (2973, 0.0), (2974, 0.0), (2975, 0.0), (2976, 0.009556802979846034), (2977, 0.0), (2978, 0.0), (2979, 0.0), (2980, 0.0), (2981, 0.0), (2982, 0.017966224542879827), (2983, 0.0), (2984, 0.0), (2985, 0.0), (2986, 0.0), (2987, 0.0), (2988, 0.0), (2989, 0.0), (2990, 0.021562106230302604), (2991, 0.0), (2992, 0.0), (2993, 0.0), (2994, 0.0), (2995, 0.0), (2996, 0.0), (2997, 0.0), (2998, 0.0), (2999, 0.04013922663318606), (3000, 0.0), (3001, 0.0), (3002, 0.0), (3003, 0.0), (3004, 0.0), (3005, 0.0), (3006, 0.0), (3007, 0.0), (3008, 0.018249195811701178), (3009, 0.0), (3010, 0.0), (3011, 0.0), (3012, 0.0), (3013, 0.0), (3014, 0.0), (3015, 0.0), (3016, 0.0), (3017, 0.0), (3018, 0.0), (3019, 0.0), (3020, 0.0), (3021, 0.0), (3022, 0.0), (3023, 0.0), (3024, 0.0), (3025, 0.0), (3026, 0.0), (3027, 0.0), (3028, 0.034898698936728714), (3029, 0.0), (3030, 0.0), (3031, 0.019007729555218244), (3032, 0.0), (3033, 0.0), (3034, 0.0), (3035, 0.0), (3036, 0.0), (3037, 0.0), (3038, 0.0), (3039, 0.0), (3040, 0.0), (3041, 0.0), (3042, 0.0), (3043, 0.011922296921708972), (3044, 0.018051220393429126), (3045, 0.0), (3046, 0.015302216595575584), (3047, 0.015579798774109184), (3048, 0.0), (3049, 0.019936372587790376), (3050, 0.0), (3051, 0.0), (3052, 0.0), (3053, 0.0), (3054, 0.0), (3055, 0.0), (3056, 0.009231695242189078), (3057, 0.0), (3058, 0.0), (3059, 0.0), (3060, 0.0), (3061, 0.0), (3062, 0.0), (3063, 0.0), (3064, 0.0), (3065, 0.0), (3066, 0.0), (3067, 0.0), (3068, 0.0), (3069, 0.0), (3070, 0.0), (3071, 0.0), (3072, 0.0), (3073, 0.0), (3074, 0.0), (3075, 0.0), (3076, 0.0), (3077, 0.0), (3078, 0.020106595555003378), (3079, 0.0), (3080, 0.0), (3081, 0.0), (3082, 0.0), (3083, 0.015239243769804336), (3084, 0.0), (3085, 0.0), (3086, 0.0), (3087, 0.0), (3088, 0.0), (3089, 0.0), (3090, 0.0), (3091, 0.0), (3092, 0.0), (3093, 0.03894576110000522), (3094, 0.0), (3095, 0.0), (3096, 0.0), (3097, 0.0), (3098, 0.0), (3099, 0.0), (3100, 0.01052165639943748), (3101, 0.01162323671985014), (3102, 0.0), (3103, 0.0), (3104, 0.0), (3105, 0.0), (3106, 0.0), (3107, 0.0), (3108, 0.00958813284597762), (3109, 0.012027532292803726), (3110, 0.0), (3111, 0.0), (3112, 0.0), (3113, 0.0), (3114, 0.0), (3115, 0.0), (3116, 0.0), (3117, 0.0), (3118, 0.0), (3119, 0.0), (3120, 0.0), (3121, 0.0), (3122, 0.054928188487090066), (3123, 0.0446223500460236), (3124, 0.0), (3125, 0.0), (3126, 0.0), (3127, 0.010097544588194358), (3128, 0.0), (3129, 0.009319947489393462), (3130, 0.0), (3131, 0.0), (3132, 0.0), (3133, 0.0), (3134, 0.0), (3135, 0.0), (3136, 0.026129617365355937), (3137, 0.0), (3138, 0.0), (3139, 0.0), (3140, 0.020598520462531966), (3141, 0.0), (3142, 0.0), (3143, 0.0), (3144, 0.0), (3145, 0.0), (3146, 0.0), (3147, 0.0), (3148, 0.0), (3149, 0.0), (3150, 0.0), (3151, 0.0), (3152, 0.0), (3153, 0.0), (3154, 0.0), (3155, 0.0), (3156, 0.011069357718706586), (3157, 0.0), (3158, 0.0), (3159, 0.0), (3160, 0.009694043572228408), (3161, 0.0), (3162, 0.0), (3163, 0.0), (3164, 0.0), (3165, 0.0), (3166, 0.0), (3167, 0.0), (3168, 0.0), (3169, 0.0), (3170, 0.0), (3171, 0.0), (3172, 0.0), (3173, 0.010946929933080458), (3174, 0.037203673540435696), (3175, 0.03978111893497435), (3176, 0.0), (3177, 0.0), (3178, 0.0), (3179, 0.0), (3180, 0.0), (3181, 0.011502505658499933), (3182, 0.0), (3183, 0.017375505158130054), (3184, 0.01124634959933164), (3185, 0.0), (3186, 0.018214322283306293), (3187, 0.0), (3188, 0.01086783722767529), (3189, 0.0169056349680153), (3190, 0.0180960829460245), (3191, 0.0), (3192, 0.0), (3193, 0.0), (3194, 0.0), (3195, 0.0), (3196, 0.0), (3197, 0.0), (3198, 0.0), (3199, 0.0), (3200, 0.009256881094752065), (3201, 0.0), (3202, 0.017461517746954147), (3203, 0.0), (3204, 0.0), (3205, 0.0), (3206, 0.01272697204674538), (3207, 0.011805526610461888), (3208, 0.0), (3209, 0.0), (3210, 0.06614177444696158), (3211, 0.019088361624186687), (3212, 0.0), (3213, 0.0), (3214, 0.0), (3215, 0.0), (3216, 0.0), (3217, 0.0), (3218, 0.0), (3219, 0.0), (3220, 0.0), (3221, 0.0), (3222, 0.0), (3223, 0.04868886603494218), (3224, 0.0), (3225, 0.0), (3226, 0.0), (3227, 0.0), (3228, 0.0), (3229, 0.0), (3230, 0.0), (3231, 0.0), (3232, 0.0), (3233, 0.0), (3234, 0.0), (3235, 0.011618912806769), (3236, 0.016714979681852513), (3237, 0.0), (3238, 0.0), (3239, 0.0), (3240, 0.0), (3241, 0.0), (3242, 0.0), (3243, 0.0), (3244, 0.0), (3245, 0.0), (3246, 0.010230591232328454), (3247, 0.0), (3248, 0.0), (3249, 0.0), (3250, 0.0), (3251, 0.0), (3252, 0.0), (3253, 0.0), (3254, 0.009409684077896718), (3255, 0.0), (3256, 0.0), (3257, 0.0), (3258, 0.0), (3259, 0.0), (3260, 0.0), (3261, 0.0), (3262, 0.0), (3263, 0.0), (3264, 0.011498810695105409), (3265, 0.0), (3266, 0.0), (3267, 0.020088098617714573), (3268, 0.0), (3269, 0.0), (3270, 0.0), (3271, 0.0), (3272, 0.0), (3273, 0.0), (3274, 0.0), (3275, 0.013342094707128906), (3276, 0.0), (3277, 0.023455375903501628), (3278, 0.0), (3279, 0.0), (3280, 0.0), (3281, 0.0), (3282, 0.013448580559013726), (3283, 0.0), (3284, 0.0), (3285, 0.0), (3286, 0.0), (3287, 0.0), (3288, 0.0), (3289, 0.0), (3290, 0.0), (3291, 0.0), (3292, 0.0), (3293, 0.0), (3294, 0.0), (3295, 0.0), (3296, 0.0), (3297, 0.0), (3298, 0.0), (3299, 0.0), (3300, 0.0), (3301, 0.0), (3302, 0.04030214151163533), (3303, 0.0), (3304, 0.009828128224863453), (3305, 0.0), (3306, 0.0), (3307, 0.0), (3308, 0.0), (3309, 0.0), (3310, 0.0), (3311, 0.0), (3312, 0.0), (3313, 0.0), (3314, 0.016740429673334337), (3315, 0.0), (3316, 0.0), (3317, 0.0), (3318, 0.0), (3319, 0.0), (3320, 0.0), (3321, 0.0), (3322, 0.0), (3323, 0.0), (3324, 0.0), (3325, 0.0), (3326, 0.0), (3327, 0.0), (3328, 0.024146854248750654), (3329, 0.0), (3330, 0.0), (3331, 0.0), (3332, 0.0), (3333, 0.0), (3334, 0.0), (3335, 0.0), (3336, 0.0), (3337, 0.0), (3338, 0.0), (3339, 0.0), (3340, 0.0), (3341, 0.0), (3342, 0.02498516709378011), (3343, 0.0), (3344, 0.009102879075878024), (3345, 0.0), (3346, 0.0), (3347, 0.009163121382987388), (3348, 0.0), (3349, 0.0), (3350, 0.0), (3351, 0.016303779547518982), (3352, 0.0), (3353, 0.0), (3354, 0.0), (3355, 0.0), (3356, 0.0), (3357, 0.0), (3358, 0.0), (3359, 0.0), (3360, 0.0), (3361, 0.0), (3362, 0.0), (3363, 0.0), (3364, 0.012601507312354739), (3365, 0.007808560920929643), (3366, 0.0), (3367, 0.0), (3368, 0.0), (3369, 0.0), (3370, 0.0), (3371, 0.0), (3372, 0.0), (3373, 0.0), (3374, 0.0), (3375, 0.0), (3376, 0.0), (3377, 0.0), (3378, 0.011168622522759212), (3379, 0.0), (3380, 0.0), (3381, 0.0), (3382, 0.011150294532778222), (3383, 0.0), (3384, 0.012399384124387833), (3385, 0.0), (3386, 0.0), (3387, 0.0), (3388, 0.011246141204034998), (3389, 0.0), (3390, 0.010509636737523285), (3391, 0.0), (3392, 0.007422182934345516), (3393, 0.014068979708645032), (3394, 0.0), (3395, 0.01003316316276333), (3396, 0.0), (3397, 0.0), (3398, 0.01125066789631522), (3399, 0.0), (3400, 0.022713417575870833), (3401, 0.0), (3402, 0.0), (3403, 0.0), (3404, 0.0), (3405, 0.009024939332334316), (3406, 0.0), (3407, 0.0), (3408, 0.0), (3409, 0.0), (3410, 0.0), (3411, 0.0), (3412, 0.0), (3413, 0.0), (3414, 0.0), (3415, 0.0), (3416, 0.0), (3417, 0.0), (3418, 0.0), (3419, 0.0), (3420, 0.0), (3421, 0.007813553922034457), (3422, 0.0), (3423, 0.0), (3424, 0.0), (3425, 0.0), (3426, 0.010325169442409868), (3427, 0.0), (3428, 0.0), (3429, 0.0), (3430, 0.009080171376728383), (3431, 0.0), (3432, 0.0), (3433, 0.0), (3434, 0.0), (3435, 0.0), (3436, 0.0), (3437, 0.0), (3438, 0.011623884954305832), (3439, 0.0), (3440, 0.0), (3441, 0.0), (3442, 0.0), (3443, 0.0), (3444, 0.0), (3445, 0.03418628359329918), (3446, 0.0), (3447, 0.0), (3448, 0.0), (3449, 0.0), (3450, 0.0), (3451, 0.0), (3452, 0.0), (3453, 0.012419916632417975), (3454, 0.0), (3455, 0.0), (3456, 0.022345489803059018), (3457, 0.0), (3458, 0.024808783821078012), (3459, 0.0), (3460, 0.010097102845484433), (3461, 0.0), (3462, 0.0), (3463, 0.03849711515367338), (3464, 0.0), (3465, 0.0), (3466, 0.0), (3467, 0.0), (3468, 0.012042434059466953), (3469, 0.017436307921462696), (3470, 0.0), (3471, 0.0), (3472, 0.0), (3473, 0.018996065701884356), (3474, 0.0), (3475, 0.0), (3476, 0.0), (3477, 0.0), (3478, 0.0), (3479, 0.02081961621905853), (3480, 0.0), (3481, 0.0), (3482, 0.0), (3483, 0.01111917929209689), (3484, 0.0), (3485, 0.014406586526298636), (3486, 0.0), (3487, 0.0), (3488, 0.0), (3489, 0.0), (3490, 0.0483807925825218), (3491, 0.010941526919807201), (3492, 0.0), (3493, 0.011414569607231875), (3494, 0.0), (3495, 0.0), (3496, 0.0), (3497, 0.0), (3498, 0.0), (3499, 0.0), (3500, 0.0), (3501, 0.0), (3502, 0.0), (3503, 0.015017601761998544), (3504, 0.0), (3505, 0.0), (3506, 0.012228211679653602), (3507, 0.0), (3508, 0.0), (3509, 0.0), (3510, 0.039522839868183536), (3511, 0.0), (3512, 0.0), (3513, 0.0), (3514, 0.0), (3515, 0.011567677517001428), (3516, 0.011143404524106454), (3517, 0.010860690155650901), (3518, 0.010885327931411266), (3519, 0.0), (3520, 0.0), (3521, 0.0), (3522, 0.01712873847004076), (3523, 0.0), (3524, 0.0), (3525, 0.0), (3526, 0.0), (3527, 0.0), (3528, 0.0), (3529, 0.0), (3530, 0.0), (3531, 0.0), (3532, 0.0), (3533, 0.0), (3534, 0.01814909152419441), (3535, 0.0), (3536, 0.0), (3537, 0.046575481455591934), (3538, 0.022093224383052498), (3539, 0.0), (3540, 0.0), (3541, 0.01082015265328028), (3542, 0.0), (3543, 0.0), (3544, 0.0), (3545, 0.0), (3546, 0.0), (3547, 0.0), (3548, 0.0), (3549, 0.0), (3550, 0.010021483270763807), (3551, 0.011193693856716523), (3552, 0.0), (3553, 0.03887805233590154), (3554, 0.0), (3555, 0.0), (3556, 0.0), (3557, 0.0), (3558, 0.0), (3559, 0.0), (3560, 0.0), (3561, 0.0), (3562, 0.0), (3563, 0.010072329608002303), (3564, 0.011079016105692932), (3565, 0.0), (3566, 0.0), (3567, 0.0), (3568, 0.015898677450400134), (3569, 0.0), (3570, 0.03803352797294002), (3571, 0.0), (3572, 0.0), (3573, 0.0), (3574, 0.008416306630701021), (3575, 0.0), (3576, 0.0), (3577, 0.0), (3578, 0.0), (3579, 0.0), (3580, 0.0), (3581, 0.0), (3582, 0.0), (3583, 0.0), (3584, 0.017620705763266607), (3585, 0.0), (3586, 0.011579932645043737), (3587, 0.011732822917544275), (3588, 0.0), (3589, 0.0), (3590, 0.0), (3591, 0.0), (3592, 0.0), (3593, 0.0), (3594, 0.0), (3595, 0.0), (3596, 0.0), (3597, 0.0), (3598, 0.0), (3599, 0.0), (3600, 0.0), (3601, 0.0), (3602, 0.010990339373557487), (3603, 0.0), (3604, 0.0), (3605, 0.0), (3606, 0.0), (3607, 0.0), (3608, 0.0), (3609, 0.0), (3610, 0.0), (3611, 0.0), (3612, 0.016827251470670074), (3613, 0.0), (3614, 0.0), (3615, 0.0), (3616, 0.0), (3617, 0.0), (3618, 0.011951838392119028), (3619, 0.0), (3620, 0.0), (3621, 0.0), (3622, 0.0), (3623, 0.01670955527880699), (3624, 0.0), (3625, 0.0), (3626, 0.008428902713397699), (3627, 0.0), (3628, 0.0), (3629, 0.0), (3630, 0.0), (3631, 0.0), (3632, 0.0), (3633, 0.010082714985524236), (3634, 0.0), (3635, 0.0), (3636, 0.0), (3637, 0.0), (3638, 0.013051971449455097), (3639, 0.0), (3640, 0.0), (3641, 0.0), (3642, 0.011232271567535581), (3643, 0.0), (3644, 0.010850227343939142), (3645, 0.0), (3646, 0.0), (3647, 0.0), (3648, 0.0), (3649, 0.0), (3650, 0.0), (3651, 0.0), (3652, 0.0), (3653, 0.0), (3654, 0.011284425816506247), (3655, 0.009780200840651109), (3656, 0.009764218649411844), (3657, 0.0), (3658, 0.0), (3659, 0.016977532444782943), (3660, 0.0), (3661, 0.0), (3662, 0.0), (3663, 0.0), (3664, 0.0), (3665, 0.0), (3666, 0.0), (3667, 0.054815282478954404), (3668, 0.0), (3669, 0.0), (3670, 0.0), (3671, 0.0), (3672, 0.0), (3673, 0.0), (3674, 0.0), (3675, 0.0), (3676, 0.0), (3677, 0.04129389179454106), (3678, 0.0), (3679, 0.0), (3680, 0.01846968227007236), (3681, 0.0), (3682, 0.0), (3683, 0.0), (3684, 0.0), (3685, 0.0), (3686, 0.0), (3687, 0.0), (3688, 0.0), (3689, 0.0), (3690, 0.0), (3691, 0.0), (3692, 0.0), (3693, 0.0), (3694, 0.017414631454400142), (3695, 0.011800280059810474), (3696, 0.0), (3697, 0.0), (3698, 0.0), (3699, 0.0), (3700, 0.0), (3701, 0.036934677439261994), (3702, 0.0), (3703, 0.0), (3704, 0.0), (3705, 0.0), (3706, 0.010422277358732416), (3707, 0.0), (3708, 0.0), (3709, 0.0), (3710, 0.0), (3711, 0.00980007206165703), (3712, 0.010264013479587058), (3713, 0.009115943710160385), (3714, 0.059968376766549286), (3715, 0.0), (3716, 0.0), (3717, 0.0), (3718, 0.0), (3719, 0.0), (3720, 0.0), (3721, 0.021142958686847693), (3722, 0.0), (3723, 0.0), (3724, 0.0), (3725, 0.0), (3726, 0.0), (3727, 0.0), (3728, 0.0), (3729, 0.0), (3730, 0.011788955873342225), (3731, 0.0), (3732, 0.010290688944342036), (3733, 0.0), (3734, 0.015432198585212964), (3735, 0.0), (3736, 0.0), (3737, 0.0), (3738, 0.0), (3739, 0.0), (3740, 0.019182598101508457), (3741, 0.03190562264494723), (3742, 0.0), (3743, 0.0), (3744, 0.0), (3745, 0.0), (3746, 0.0), (3747, 0.0), (3748, 0.009598904527960504), (3749, 0.0), (3750, 0.007953803845150932), (3751, 0.013183563293341234), (3752, 0.0), (3753, 0.0), (3754, 0.012345192413175162), (3755, 0.0), (3756, 0.0), (3757, 0.0), (3758, 0.0), (3759, 0.012362764681579897), (3760, 0.0), (3761, 0.0), (3762, 0.0), (3763, 0.0), (3764, 0.0), (3765, 0.0), (3766, 0.019901593155001028), (3767, 0.014350886046335184), (3768, 0.0), (3769, 0.0380748296450958), (3770, 0.01753630904698237), (3771, 0.0), (3772, 0.0), (3773, 0.010470517575762717), (3774, 0.0), (3775, 0.009899227318038595), (3776, 0.0), (3777, 0.0), (3778, 0.0), (3779, 0.0), (3780, 0.01730787407752147), (3781, 0.05757805568651689), (3782, 0.0), (3783, 0.0), (3784, 0.0), (3785, 0.0), (3786, 0.0), (3787, 0.0), (3788, 0.01014663196676698), (3789, 0.0), (3790, 0.016657507098143464), (3791, 0.04313891207960746), (3792, 0.0), (3793, 0.0), (3794, 0.0), (3795, 0.0), (3796, 0.0), (3797, 0.0), (3798, 0.0), (3799, 0.0), (3800, 0.0), (3801, 0.0), (3802, 0.03747715054753045), (3803, 0.0), (3804, 0.0), (3805, 0.0), (3806, 0.00933845155644765), (3807, 0.0), (3808, 0.0), (3809, 0.0), (3810, 0.0), (3811, 0.0), (3812, 0.0), (3813, 0.03716269544569863), (3814, 0.037308229224358176), (3815, 0.0), (3816, 0.0), (3817, 0.0), (3818, 0.0), (3819, 0.03629682484254571), (3820, 0.0), (3821, 0.0), (3822, 0.0), (3823, 0.010490566572172122), (3824, 0.01016006545677749), (3825, 0.0), (3826, 0.0), (3827, 0.0), (3828, 0.0), (3829, 0.0), (3830, 0.0), (3831, 0.0), (3832, 0.0), (3833, 0.0), (3834, 0.011864885229924266), (3835, 0.0), (3836, 0.0), (3837, 0.0), (3838, 0.0), (3839, 0.0), (3840, 0.011076656767349887), (3841, 0.01004601416660244), (3842, 0.0), (3843, 0.0), (3844, 0.013025982003162921), (3845, 0.0), (3846, 0.0), (3847, 0.0), (3848, 0.0), (3849, 0.0), (3850, 0.016700088656920683), (3851, 0.0), (3852, 0.0), (3853, 0.014837358341440064), (3854, 0.0), (3855, 0.009136099442128268), (3856, 0.0), (3857, 0.0), (3858, 0.0), (3859, 0.0), (3860, 0.0), (3861, 0.0), (3862, 0.0), (3863, 0.0), (3864, 0.0), (3865, 0.0), (3866, 0.0), (3867, 0.0), (3868, 0.0), (3869, 0.024547429206645256), (3870, 0.010920988737294374), (3871, 0.034573328701672124), (3872, 0.0), (3873, 0.011804770312099186), (3874, 0.0), (3875, 0.0), (3876, 0.0), (3877, 0.011947937595766704), (3878, 0.013938664168286576), (3879, 0.0), (3880, 0.0332570731037429), (3881, 0.010561938002675183), (3882, 0.0), (3883, 0.01813413959035418), (3884, 0.01239348229601714), (3885, 0.0), (3886, 0.0), (3887, 0.0), (3888, 0.016078981944396296), (3889, 0.0), (3890, 0.0), (3891, 0.0), (3892, 0.0), (3893, 0.0), (3894, 0.0), (3895, 0.0), (3896, 0.0), (3897, 0.0176149947513376), (3898, 0.0), (3899, 0.0), (3900, 0.03812280119376695), (3901, 0.04574307333829321), (3902, 0.0), (3903, 0.012399569511580047), (3904, 0.0), (3905, 0.0), (3906, 0.0), (3907, 0.0), (3908, 0.01119421117305752), (3909, 0.0), (3910, 0.0), (3911, 0.0), (3912, 0.0), (3913, 0.0), (3914, 0.0), (3915, 0.0), (3916, 0.044267422330694646), (3917, 0.0), (3918, 0.0), (3919, 0.0), (3920, 0.0), (3921, 0.0), (3922, 0.0), (3923, 0.0), (3924, 0.0), (3925, 0.0), (3926, 0.0), (3927, 0.0), (3928, 0.0), (3929, 0.0), (3930, 0.011062993445677665), (3931, 0.0), (3932, 0.0), (3933, 0.0), (3934, 0.0), (3935, 0.0), (3936, 0.0), (3937, 0.010926160204215144), (3938, 0.0), (3939, 0.0), (3940, 0.0), (3941, 0.0), (3942, 0.01324971147555115), (3943, 0.0), (3944, 0.0), (3945, 0.0), (3946, 0.0), (3947, 0.0), (3948, 0.0), (3949, 0.02204480167385582), (3950, 0.0), (3951, 0.0), (3952, 0.0450857349540022), (3953, 0.0), (3954, 0.0), (3955, 0.0), (3956, 0.0), (3957, 0.0), (3958, 0.0), (3959, 0.0), (3960, 0.0), (3961, 0.0), (3962, 0.0), (3963, 0.05417297831094582), (3964, 0.0), (3965, 0.0), (3966, 0.0), (3967, 0.0), (3968, 0.0), (3969, 0.0), (3970, 0.0), (3971, 0.0), (3972, 0.0), (3973, 0.0), (3974, 0.0), (3975, 0.0), (3976, 0.0), (3977, 0.0), (3978, 0.0), (3979, 0.0), (3980, 0.0), (3981, 0.0), (3982, 0.0), (3983, 0.0), (3984, 0.0), (3985, 0.0), (3986, 0.009945372090491851), (3987, 0.0), (3988, 0.0), (3989, 0.0), (3990, 0.04290621195178223), (3991, 0.0), (3992, 0.0), (3993, 0.0), (3994, 0.0), (3995, 0.0), (3996, 0.0), (3997, 0.0), (3998, 0.0), (3999, 0.0), (4000, 0.010945200095288196), (4001, 0.016317500544162453), (4002, 0.05878985664990725), (4003, 0.01721581279424275), (4004, 0.0), (4005, 0.011414983291979534), (4006, 0.0), (4007, 0.0), (4008, 0.0), (4009, 0.0), (4010, 0.01903980411002978), (4011, 0.0), (4012, 0.0), (4013, 0.0166963769179913), (4014, 0.0), (4015, 0.0), (4016, 0.0), (4017, 0.02121466049725564), (4018, 0.0), (4019, 0.0), (4020, 0.0), (4021, 0.0), (4022, 0.0), (4023, 0.0), (4024, 0.0), (4025, 0.0), (4026, 0.0), (4027, 0.0), (4028, 0.0), (4029, 0.0), (4030, 0.0), (4031, 0.0), (4032, 0.0), (4033, 0.0), (4034, 0.0), (4035, 0.0), (4036, 0.0), (4037, 0.0), (4038, 0.0), (4039, 0.0), (4040, 0.0), (4041, 0.0), (4042, 0.0), (4043, 0.0), (4044, 0.0), (4045, 0.0), (4046, 0.0), (4047, 0.0), (4048, 0.0), (4049, 0.0), (4050, 0.0), (4051, 0.0), (4052, 0.0), (4053, 0.015848986878787004), (4054, 0.0), (4055, 0.0), (4056, 0.0), (4057, 0.0), (4058, 0.020105881551328066), (4059, 0.0), (4060, 0.0), (4061, 0.034074646219045206), (4062, 0.018617084904299006), (4063, 0.0), (4064, 0.0), (4065, 0.0), (4066, 0.0), (4067, 0.0), (4068, 0.0), (4069, 0.047078574539687855), (4070, 0.015453796658184095), (4071, 0.0), (4072, 0.0), (4073, 0.0), (4074, 0.0), (4075, 0.0), (4076, 0.0), (4077, 0.0), (4078, 0.011668617439596915), (4079, 0.0), (4080, 0.0), (4081, 0.0), (4082, 0.0), (4083, 0.0), (4084, 0.0), (4085, 0.0), (4086, 0.0), (4087, 0.012133628898053977), (4088, 0.010904531816129352), (4089, 0.0), (4090, 0.0), (4091, 0.011406945902167377), (4092, 0.0), (4093, 0.0), (4094, 0.0), (4095, 0.0), (4096, 0.03189204466824269), (4097, 0.0), (4098, 0.0), (4099, 0.0), (4100, 0.0), (4101, 0.06563304627149034), (4102, 0.0), (4103, 0.0), (4104, 0.0), (4105, 0.0), (4106, 0.0), (4107, 0.0), (4108, 0.0), (4109, 0.0), (4110, 0.0), (4111, 0.0), (4112, 0.0), (4113, 0.0), (4114, 0.0), (4115, 0.0), (4116, 0.0), (4117, 0.0), (4118, 0.0), (4119, 0.01165918192002997), (4120, 0.0), (4121, 0.0), (4122, 0.0), (4123, 0.0), (4124, 0.0), (4125, 0.0), (4126, 0.0), (4127, 0.0), (4128, 0.0), (4129, 0.0), (4130, 0.0), (4131, 0.0), (4132, 0.017226514426989213), (4133, 0.0), (4134, 0.0), (4135, 0.0), (4136, 0.028285227618560768), (4137, 0.0), (4138, 0.0), (4139, 0.0), (4140, 0.0), (4141, 0.0), (4142, 0.0), (4143, 0.0), (4144, 0.0), (4145, 0.0), (4146, 0.0), (4147, 0.0), (4148, 0.0), (4149, 0.0), (4150, 0.012232437693217482), (4151, 0.0), (4152, 0.0), (4153, 0.01464169329911685), (4154, 0.0), (4155, 0.0), (4156, 0.0), (4157, 0.0), (4158, 0.0), (4159, 0.015521835803807336), (4160, 0.0), (4161, 0.0), (4162, 0.0), (4163, 0.0), (4164, 0.0), (4165, 0.009936751227395325), (4166, 0.0), (4167, 0.0), (4168, 0.011167131867752889), (4169, 0.0), (4170, 0.0), (4171, 0.0), (4172, 0.0), (4173, 0.01696401920073353), (4174, 0.0), (4175, 0.011372598162539367), (4176, 0.0), (4177, 0.0), (4178, 0.0), (4179, 0.0), (4180, 0.0), (4181, 0.011871324551002399), (4182, 0.008739173901503281), (4183, 0.0), (4184, 0.010927882567396853), (4185, 0.0), (4186, 0.0), (4187, 0.0), (4188, 0.0), (4189, 0.05002870625941664), (4190, 0.0), (4191, 0.0), (4192, 0.0), (4193, 0.0), (4194, 0.03288139195461838), (4195, 0.0), (4196, 0.0), (4197, 0.0), (4198, 0.0), (4199, 0.0), (4200, 0.037877701533972116), (4201, 0.018730999227199112), (4202, 0.07269456237592699), (4203, 0.0), (4204, 0.0), (4205, 0.0), (4206, 0.0), (4207, 0.0), (4208, 0.0), (4209, 1.0000000000000002), (4210, 0.0), (4211, 0.0), (4212, 0.0), (4213, 0.0), (4214, 0.0), (4215, 0.0), (4216, 0.0), (4217, 0.0), (4218, 0.0), (4219, 0.0), (4220, 0.0), (4221, 0.0), (4222, 0.0), (4223, 0.0), (4224, 0.0), (4225, 0.0), (4226, 0.0), (4227, 0.0), (4228, 0.0), (4229, 0.0), (4230, 0.0), (4231, 0.0), (4232, 0.0), (4233, 0.0), (4234, 0.0), (4235, 0.0), (4236, 0.0), (4237, 0.0), (4238, 0.0), (4239, 0.0), (4240, 0.011663633062979822), (4241, 0.0), (4242, 0.0), (4243, 0.0), (4244, 0.0), (4245, 0.01743801662906018), (4246, 0.0), (4247, 0.009578851066566706), (4248, 0.0), (4249, 0.0), (4250, 0.0), (4251, 0.0), (4252, 0.0), (4253, 0.016009806996878036), (4254, 0.0), (4255, 0.0), (4256, 0.01665494216445266), (4257, 0.0), (4258, 0.0), (4259, 0.0), (4260, 0.0), (4261, 0.0), (4262, 0.0), (4263, 0.0), (4264, 0.0), (4265, 0.0), (4266, 0.010983113773973084), (4267, 0.0), (4268, 0.0), (4269, 0.0), (4270, 0.0), (4271, 0.0), (4272, 0.03487612564215801), (4273, 0.0), (4274, 0.015082946888176517), (4275, 0.04048573731385173), (4276, 0.0), (4277, 0.0), (4278, 0.0), (4279, 0.0), (4280, 0.0), (4281, 0.0), (4282, 0.0), (4283, 0.0), (4284, 0.0), (4285, 0.0), (4286, 0.017042613891618638), (4287, 0.0), (4288, 0.0), (4289, 0.0), (4290, 0.0), (4291, 0.0), (4292, 0.010320884630739225), (4293, 0.0), (4294, 0.038206436010510665), (4295, 0.018424225585710607), (4296, 0.0), (4297, 0.0), (4298, 0.019876464564350337), (4299, 0.0), (4300, 0.0), (4301, 0.0), (4302, 0.0), (4303, 0.0), (4304, 0.0), (4305, 0.010511132348810143), (4306, 0.0), (4307, 0.0), (4308, 0.0), (4309, 0.0), (4310, 0.0), (4311, 0.0), (4312, 0.0), (4313, 0.05323566696169469), (4314, 0.0), (4315, 0.0), (4316, 0.02002205768569708), (4317, 0.0), (4318, 0.0), (4319, 0.0), (4320, 0.0), (4321, 0.0), (4322, 0.0), (4323, 0.0), (4324, 0.01715668276458166), (4325, 0.0), (4326, 0.0), (4327, 0.0), (4328, 0.0), (4329, 0.0), (4330, 0.017379794758226503), (4331, 0.0), (4332, 0.0), (4333, 0.0), (4334, 0.0), (4335, 0.0), (4336, 0.0), (4337, 0.0), (4338, 0.0), (4339, 0.010406576083654884), (4340, 0.035430293923551764), (4341, 0.0), (4342, 0.03440020753991249), (4343, 0.0), (4344, 0.07501183481448578), (4345, 0.0), (4346, 0.0), (4347, 0.03875629584038443), (4348, 0.0), (4349, 0.0), (4350, 0.0), (4351, 0.0), (4352, 0.0), (4353, 0.0), (4354, 0.0), (4355, 0.011810710864720098), (4356, 0.01041064518853946), (4357, 0.0), (4358, 0.0), (4359, 0.034623843664816197), (4360, 0.0), (4361, 0.0), (4362, 0.0), (4363, 0.0), (4364, 0.0), (4365, 0.0), (4366, 0.009733463927184278), (4367, 0.0), (4368, 0.018179441540063616), (4369, 0.018213659014168042), (4370, 0.0175505621910349), (4371, 0.0), (4372, 0.0), (4373, 0.0), (4374, 0.010165893931805727), (4375, 0.0), (4376, 0.01128323395484402), (4377, 0.0), (4378, 0.0), (4379, 0.053861723079749194), (4380, 0.010855215507242165), (4381, 0.0), (4382, 0.015144219423461478), (4383, 0.0), (4384, 0.0), (4385, 0.0), (4386, 0.0), (4387, 0.0), (4388, 0.0), (4389, 0.0), (4390, 0.0), (4391, 0.0), (4392, 0.0168026711794499), (4393, 0.0), (4394, 0.0), (4395, 0.011276828717731812), (4396, 0.06779727830217376), (4397, 0.0), (4398, 0.0), (4399, 0.0), (4400, 0.0), (4401, 0.0), (4402, 0.03486080435314615), (4403, 0.0), (4404, 0.0), (4405, 0.0), (4406, 0.0), (4407, 0.0), (4408, 0.0), (4409, 0.0), (4410, 0.0), (4411, 0.0), (4412, 0.0), (4413, 0.0), (4414, 0.0), (4415, 0.0), (4416, 0.0), (4417, 0.0), (4418, 0.0), (4419, 0.0), (4420, 0.03521442936101059), (4421, 0.0), (4422, 0.0), (4423, 0.0), (4424, 0.0), (4425, 0.0), (4426, 0.0), (4427, 0.0), (4428, 0.0), (4429, 0.0), (4430, 0.0), (4431, 0.0), (4432, 0.009394609548166772), (4433, 0.0), (4434, 0.0), (4435, 0.0), (4436, 0.011603438433010173), (4437, 0.0), (4438, 0.0), (4439, 0.0), (4440, 0.0), (4441, 0.010051089559419952), (4442, 0.0), (4443, 0.0), (4444, 0.02106720574442229), (4445, 0.0), (4446, 0.0), (4447, 0.015396128087567726), (4448, 0.0), (4449, 0.0), (4450, 0.010101101052034834), (4451, 0.0), (4452, 0.0), (4453, 0.0), (4454, 0.0), (4455, 0.0), (4456, 0.0), (4457, 0.0), (4458, 0.0), (4459, 0.0), (4460, 0.0), (4461, 0.0), (4462, 0.0), (4463, 0.012418419436132885), (4464, 0.020895025613489097), (4465, 0.0), (4466, 0.016129984532147437), (4467, 0.016206674055727222), (4468, 0.01930579982950039), (4469, 0.047363248991560775), (4470, 0.0), (4471, 0.0), (4472, 0.010261157256216196), (4473, 0.0), (4474, 0.0), (4475, 0.0), (4476, 0.0), (4477, 0.0), (4478, 0.0), (4479, 0.0), (4480, 0.0), (4481, 0.0), (4482, 0.010436883179210609), (4483, 0.0), (4484, 0.0), (4485, 0.0), (4486, 0.0), (4487, 0.0), (4488, 0.0), (4489, 0.0), (4490, 0.0), (4491, 0.0), (4492, 0.0), (4493, 0.0), (4494, 0.0), (4495, 0.0), (4496, 0.0), (4497, 0.0), (4498, 0.0), (4499, 0.0), (4500, 0.0), (4501, 0.0), (4502, 0.0), (4503, 0.010683037113788055), (4504, 0.0), (4505, 0.0), (4506, 0.0), (4507, 0.0), (4508, 0.0), (4509, 0.0), (4510, 0.0), (4511, 0.037077453303772746), (4512, 0.0), (4513, 0.0), (4514, 0.0), (4515, 0.0), (4516, 0.0), (4517, 0.01148382782512877), (4518, 0.018469576931879412), (4519, 0.0), (4520, 0.0), (4521, 0.0), (4522, 0.0), (4523, 0.0), (4524, 0.0), (4525, 0.01530133682315207), (4526, 0.0), (4527, 0.0), (4528, 0.0), (4529, 0.0), (4530, 0.0), (4531, 0.011707066997353481), (4532, 0.0), (4533, 0.01631242447029758), (4534, 0.0), (4535, 0.0), (4536, 0.0), (4537, 0.0), (4538, 0.0), (4539, 0.0), (4540, 0.0), (4541, 0.0), (4542, 0.0), (4543, 0.0), (4544, 0.020309938607691935), (4545, 0.0), (4546, 0.0), (4547, 0.0), (4548, 0.0), (4549, 0.0), (4550, 0.0), (4551, 0.03996962661041), (4552, 0.0), (4553, 0.010182681488124413), (4554, 0.0), (4555, 0.0), (4556, 0.0), (4557, 0.0), (4558, 0.009943963686327219), (4559, 0.0), (4560, 0.0), (4561, 0.0), (4562, 0.0), (4563, 0.016343935243479202), (4564, 0.0), (4565, 0.0), (4566, 0.01125624940308613), (4567, 0.0), (4568, 0.0), (4569, 0.0), (4570, 0.0), (4571, 0.0), (4572, 0.046926741944107855), (4573, 0.0), (4574, 0.016782247188061504), (4575, 0.0383447348454894), (4576, 0.0), (4577, 0.0), (4578, 0.0), (4579, 0.0), (4580, 0.017976208598385952), (4581, 0.0), (4582, 0.0), (4583, 0.0), (4584, 0.019184526575800505), (4585, 0.03587825892306052), (4586, 0.0), (4587, 0.015779513639692787), (4588, 0.0), (4589, 0.0), (4590, 0.014027212461376141), (4591, 0.0), (4592, 0.0), (4593, 0.012065180604844192), (4594, 0.012990810289365474), (4595, 0.012047382352195383), (4596, 0.0), (4597, 0.0), (4598, 0.0), (4599, 0.0), (4600, 0.0), (4601, 0.011516947488100381), (4602, 0.011844025894105388), (4603, 0.0), (4604, 0.0), (4605, 0.0), (4606, 0.0), (4607, 0.015573444460517546), (4608, 0.0), (4609, 0.0), (4610, 0.0), (4611, 0.0), (4612, 0.0), (4613, 0.028233986319782477), (4614, 0.0), (4615, 0.0), (4616, 0.0), (4617, 0.0), (4618, 0.04616313746431079), (4619, 0.0), (4620, 0.00996745487765456), (4621, 0.017313943023235773), (4622, 0.0), (4623, 0.0), (4624, 0.0), (4625, 0.0), (4626, 0.0), (4627, 0.0), (4628, 0.016601919611444093), (4629, 0.0), (4630, 0.0), (4631, 0.0), (4632, 0.018925591754851933), (4633, 0.012582773953637315), (4634, 0.0), (4635, 0.0), (4636, 0.0), (4637, 0.0), (4638, 0.0), (4639, 0.01691052182000563), (4640, 0.0), (4641, 0.0), (4642, 0.0), (4643, 0.017090174053776108), (4644, 0.0), (4645, 0.0), (4646, 0.035434234000240705), (4647, 0.0), (4648, 0.0), (4649, 0.014881726174188346), (4650, 0.0), (4651, 0.0), (4652, 0.008811127047772774), (4653, 0.0), (4654, 0.0), (4655, 0.0), (4656, 0.011909251899340056), (4657, 0.0), (4658, 0.0), (4659, 0.011544832888398849), (4660, 0.013189775227926737), (4661, 0.0), (4662, 0.0111787968073688), (4663, 0.0), (4664, 0.010013598144443206), (4665, 0.0), (4666, 0.0), (4667, 0.0), (4668, 0.0), (4669, 0.0), (4670, 0.0), (4671, 0.0), (4672, 0.0), (4673, 0.0), (4674, 0.008748252139354824), (4675, 0.0), (4676, 0.01765539848094566), (4677, 0.0), (4678, 0.011026679494021887), (4679, 0.0), (4680, 0.0), (4681, 0.0), (4682, 0.0), (4683, 0.0), (4684, 0.0), (4685, 0.0), (4686, 0.0), (4687, 0.0), (4688, 0.015881074445522333), (4689, 0.0), (4690, 0.0), (4691, 0.0), (4692, 0.0), (4693, 0.0), (4694, 0.0), (4695, 0.0), (4696, 0.0), (4697, 0.0), (4698, 0.0), (4699, 0.0), (4700, 0.0), (4701, 0.012531911274282697), (4702, 0.0), (4703, 0.0), (4704, 0.0), (4705, 0.0), (4706, 0.0), (4707, 0.0), (4708, 0.01608080979042284), (4709, 0.0), (4710, 0.0), (4711, 0.0), (4712, 0.0), (4713, 0.0), (4714, 0.0), (4715, 0.0), (4716, 0.0), (4717, 0.0), (4718, 0.0), (4719, 0.0), (4720, 0.0), (4721, 0.0), (4722, 0.05495669116146097), (4723, 0.0), (4724, 0.0), (4725, 0.0), (4726, 0.0), (4727, 0.0), (4728, 0.03968476543848738), (4729, 0.0), (4730, 0.0), (4731, 0.0), (4732, 0.0), (4733, 0.0), (4734, 0.0), (4735, 0.03934027123341828), (4736, 0.010738565536552848), (4737, 0.0), (4738, 0.0), (4739, 0.0), (4740, 0.0), (4741, 0.0), (4742, 0.0), (4743, 0.0), (4744, 0.0), (4745, 0.0), (4746, 0.0), (4747, 0.01222713963701334), (4748, 0.013994725246268944), (4749, 0.0), (4750, 0.0), (4751, 0.0), (4752, 0.0), (4753, 0.0), (4754, 0.0), (4755, 0.0), (4756, 0.0), (4757, 0.04051542272479372), (4758, 0.0), (4759, 0.0)]\n"
          ]
        }
      ]
    },
    {
      "cell_type": "code",
      "source": [
        "len(Recommendation_score)"
      ],
      "metadata": {
        "id": "vLaPkF4Gzg-l",
        "outputId": "d4fe0c44-f9da-4ffd-b3c9-e298a4f595d3",
        "colab": {
          "base_uri": "https://localhost:8080/"
        }
      },
      "execution_count": null,
      "outputs": [
        {
          "output_type": "execute_result",
          "data": {
            "text/plain": [
              "4760"
            ]
          },
          "metadata": {},
          "execution_count": 149
        }
      ]
    },
    {
      "cell_type": "code",
      "source": [
        "Sorted_Similar_Movies = sorted(Recommendation_score, key = lambda x:x[1], reverse = True)\n",
        "print(Sorted_Similar_Movies)"
      ],
      "metadata": {
        "id": "sPKke7iy1gn_",
        "outputId": "0ac029df-9833-4d32-df8c-60895776eb59",
        "colab": {
          "base_uri": "https://localhost:8080/"
        }
      },
      "execution_count": null,
      "outputs": [
        {
          "output_type": "stream",
          "name": "stdout",
          "text": [
            "[(4209, 1.0000000000000002), (1056, 0.08080177438866976), (4344, 0.07501183481448578), (2256, 0.0739465048994553), (4202, 0.07269456237592699), (2354, 0.07077835128477628), (4396, 0.06779727830217376), (3210, 0.06614177444696158), (4101, 0.06563304627149034), (1118, 0.06544577281557311), (257, 0.06185035923368219), (249, 0.06165419884303898), (3714, 0.059968376766549286), (936, 0.05945613580028718), (4002, 0.05878985664990725), (283, 0.05760602331687467), (3781, 0.05757805568651689), (2545, 0.056308597311721484), (1907, 0.05519966758687862), (167, 0.05514234246257867), (4722, 0.05495669116146097), (3122, 0.054928188487090066), (2337, 0.05488811724994453), (3667, 0.054815282478954404), (630, 0.05417798529270548), (3963, 0.05417297831094582), (4379, 0.053861723079749194), (4313, 0.05323566696169469), (155, 0.053097476591211314), (2891, 0.05184733045152506), (522, 0.05151048135404314), (217, 0.05123223710161902), (2964, 0.05114735104452484), (4189, 0.05002870625941664), (2932, 0.04969085535863394), (1709, 0.04919212073640592), (3223, 0.04868886603494218), (2795, 0.04846706148384611), (3490, 0.0483807925825218), (1659, 0.04762399713520354), (462, 0.04758774015245591), (4469, 0.047363248991560775), (617, 0.04732151621324752), (4069, 0.047078574539687855), (4572, 0.046926741944107855), (282, 0.046643170301737966), (2207, 0.046616473840175095), (676, 0.04660080295810326), (3537, 0.046575481455591934), (1234, 0.04656888570530176), (4618, 0.04616313746431079), (1577, 0.04613155901602704), (2699, 0.04595171767234873), (3901, 0.04574307333829321), (523, 0.045628953649734946), (774, 0.04546856482906361), (3952, 0.0450857349540022), (2790, 0.04504318057475512), (3123, 0.0446223500460236), (118, 0.044502426608368756), (3916, 0.044267422330694646), (957, 0.04404516205041005), (1044, 0.04354804171309652), (3791, 0.04313891207960746), (2563, 0.04313635691999309), (138, 0.04308539242917917), (1713, 0.04304683248200296), (3990, 0.04290621195178223), (2629, 0.041931870558039645), (2165, 0.04185866474449529), (1560, 0.0418062311627197), (424, 0.04154466930798338), (893, 0.041528867702392135), (1486, 0.04146048055383328), (3677, 0.04129389179454106), (1499, 0.041238034674357146), (2902, 0.04119847995449497), (677, 0.04091860890234934), (180, 0.04073957452819893), (4757, 0.04051542272479372), (4275, 0.04048573731385173), (2967, 0.04033656331489605), (3302, 0.04030214151163533), (1288, 0.04018168770679907), (2999, 0.04013922663318606), (4551, 0.03996962661041), (3175, 0.03978111893497435), (2505, 0.03973979539200957), (4728, 0.03968476543848738), (987, 0.039582381223626804), (3510, 0.039522839868183536), (673, 0.039353980793263986), (4735, 0.03934027123341828), (3093, 0.03894576110000522), (3553, 0.03887805233590154), (1779, 0.038842479343447193), (4347, 0.03875629584038443), (2164, 0.03871723485729012), (1205, 0.038706461890380205), (1847, 0.03860378712198616), (3463, 0.03849711515367338), (2041, 0.03842263826231055), (83, 0.038393263852962996), (4575, 0.0383447348454894), (238, 0.03833783289556883), (1045, 0.03831666949010141), (4294, 0.038206436010510665), (1473, 0.038127177331231034), (3900, 0.03812280119376695), (3769, 0.0380748296450958), (3570, 0.03803352797294002), (4200, 0.037877701533972116), (993, 0.037500224826955995), (3802, 0.03747715054753045), (2945, 0.03736152206215226), (3814, 0.037308229224358176), (3174, 0.037203673540435696), (3813, 0.03716269544569863), (2589, 0.037143063159024034), (4511, 0.037077453303772746), (2972, 0.03703021795963566), (2745, 0.03702982959745137), (3701, 0.036934677439261994), (2345, 0.03684451677708782), (2950, 0.03679571385211566), (1970, 0.03672485000878087), (2109, 0.03665192750042572), (373, 0.03661467669066463), (2802, 0.036529945709622196), (2912, 0.03643152841673615), (126, 0.03638982417357382), (3819, 0.03629682484254571), (1634, 0.036261865256975716), (1257, 0.036240531737378685), (4585, 0.03587825892306052), (2968, 0.035800276207125704), (852, 0.03567496462754818), (974, 0.03566790206091783), (1261, 0.03547278705169072), (205, 0.035440447866127094), (4646, 0.035434234000240705), (4340, 0.035430293923551764), (551, 0.035294650827585615), (4420, 0.03521442936101059), (919, 0.03492739155260463), (3028, 0.034898698936728714), (4272, 0.03487612564215801), (4402, 0.03486080435314615), (4359, 0.034623843664816197), (3871, 0.034573328701672124), (158, 0.03454727876672884), (1528, 0.03441659094269868), (324, 0.034414643815916746), (4342, 0.03440020753991249), (2620, 0.03432369542794596), (2155, 0.034239420841961334), (3445, 0.03418628359329918), (377, 0.034171405338400164), (4061, 0.034074646219045206), (187, 0.03401610706432074), (951, 0.03401604603163136), (2274, 0.03399412708055492), (874, 0.033603092444810176), (699, 0.03353847305477567), (1229, 0.03350891667932213), (2060, 0.033479212508722475), (1585, 0.03332423698400169), (3880, 0.0332570731037429), (2179, 0.033167546148571134), (305, 0.03309193306889692), (4194, 0.03288139195461838), (2541, 0.03243651560668226), (2572, 0.03239486747585034), (1669, 0.032368055684751366), (52, 0.03218026547326695), (1368, 0.032122033969859645), (549, 0.03203857726724566), (3741, 0.03190562264494723), (4096, 0.03189204466824269), (1217, 0.03169388411343193), (706, 0.031629757203878325), (1317, 0.03157205714850395), (468, 0.03155375616039363), (1530, 0.031160263915260025), (877, 0.03081330273711603), (1948, 0.030759425161899803), (2845, 0.030674016883663786), (1383, 0.030324833458066906), (1752, 0.030131791914151725), (24, 0.029922521091001558), (1194, 0.029617010706012335), (327, 0.02952308176457362), (2913, 0.02950609727218857), (1719, 0.029274848306115927), (1810, 0.029262213519057383), (2508, 0.0287502036377992), (1364, 0.028389371154894545), (4136, 0.028285227618560768), (4613, 0.028233986319782477), (2689, 0.027935871522425704), (1707, 0.02756753930844379), (1244, 0.027456715251820252), (1860, 0.027055221960279523), (2290, 0.0267939366882605), (1256, 0.026750483695040204), (2239, 0.02636489930106938), (440, 0.026313275034750828), (859, 0.026286543082542434), (2250, 0.026228323105932073), (2022, 0.026216592012614795), (65, 0.026138968533640575), (3136, 0.026129617365355937), (2432, 0.026015016014380568), (988, 0.0260055951054024), (759, 0.025847339264568968), (1362, 0.025347428185384022), (868, 0.025256655821618762), (3342, 0.02498516709378011), (2810, 0.02488601191620293), (2398, 0.024882954412270498), (3458, 0.024808783821078012), (306, 0.02469243697450974), (1114, 0.024599846340990397), (3869, 0.024547429206645256), (3328, 0.024146854248750654), (2097, 0.023697510077916678), (1997, 0.02359270344410383), (2294, 0.023469413890443165), (3277, 0.023455375903501628), (2814, 0.023283811228626362), (787, 0.023165054439499948), (295, 0.02309515416181488), (2684, 0.0230431546183101), (1224, 0.02303862836220123), (2241, 0.02288060225058997), (455, 0.02285655943801965), (3400, 0.022713417575870833), (2919, 0.022562571694959715), (3456, 0.022345489803059018), (994, 0.022136338278909564), (685, 0.022097066959804196), (3538, 0.022093224383052498), (1335, 0.022059409723923597), (3949, 0.02204480167385582), (1967, 0.021911821042292955), (1501, 0.021691130123393763), (2990, 0.021562106230302604), (1338, 0.02153139641811215), (2628, 0.021387476170882446), (4017, 0.02121466049725564), (3721, 0.021142958686847693), (4444, 0.02106720574442229), (2102, 0.021028566737409788), (780, 0.02089643170525819), (4464, 0.020895025613489097), (3479, 0.02081961621905853), (1084, 0.020680035455500297), (3140, 0.020598520462531966), (2694, 0.0205757851589607), (589, 0.020354666258673257), (4544, 0.020309938607691935), (3078, 0.020106595555003378), (4058, 0.020105881551328066), (3267, 0.020088098617714573), (4316, 0.02002205768569708), (3049, 0.019936372587790376), (1840, 0.019912529746135683), (3766, 0.019901593155001028), (4298, 0.019876464564350337), (1197, 0.01986912589502963), (948, 0.01968702145646266), (4468, 0.01930579982950039), (553, 0.019277628262470762), (4584, 0.019184526575800505), (2781, 0.01918412662491252), (3740, 0.019182598101508457), (670, 0.01912725716444576), (3211, 0.019088361624186687), (4010, 0.01903980411002978), (2342, 0.019015454405544134), (3031, 0.019007729555218244), (3473, 0.018996065701884356), (491, 0.018939559910687125), (2772, 0.018933996471643517), (4632, 0.018925591754851933), (2895, 0.018922350180189604), (448, 0.01881455150257751), (4201, 0.018730999227199112), (4062, 0.018617084904299006), (949, 0.01859666954304797), (2211, 0.018482571445174654), (2359, 0.01847992850715969), (3680, 0.01846968227007236), (4518, 0.018469576931879412), (478, 0.018450054914940464), (4295, 0.018424225585710607), (2625, 0.018327956590893923), (3008, 0.018249195811701178), (1148, 0.01821576474681543), (3186, 0.018214322283306293), (4369, 0.018213659014168042), (4368, 0.018179441540063616), (25, 0.018158833372951922), (3534, 0.01814909152419441), (3883, 0.01813413959035418), (69, 0.018112143908038076), (922, 0.018101466907716295), (3190, 0.0180960829460245), (2039, 0.01807520524489032), (3044, 0.018051220393429126), (533, 0.018040032048172203), (4580, 0.017976208598385952), (2982, 0.017966224542879827), (701, 0.017865933122613906), (1275, 0.01785386716337585), (1109, 0.01778690816066781), (2381, 0.017711310351944634), (1799, 0.017710251331283837), (2604, 0.017662199131289805), (4676, 0.01765539848094566), (3584, 0.017620705763266607), (3897, 0.0176149947513376), (1580, 0.017613872820998588), (2624, 0.0175750453913343), (254, 0.017564335194913613), (4370, 0.0175505621910349), (3770, 0.01753630904698237), (2873, 0.017526962130936602), (476, 0.01748293723630759), (1162, 0.017480406168026645), (3202, 0.017461517746954147), (4245, 0.01743801662906018), (3469, 0.017436307921462696), (3694, 0.017414631454400142), (4330, 0.017379794758226503), (3183, 0.017375505158130054), (499, 0.017340191147815806), (4621, 0.017313943023235773), (3780, 0.01730787407752147), (1871, 0.01727580773957365), (303, 0.01727179328871208), (206, 0.017229822482442165), (4132, 0.017226514426989213), (4003, 0.01721581279424275), (550, 0.017211479023195374), (4324, 0.01715668276458166), (3522, 0.01712873847004076), (4643, 0.017090174053776108), (4286, 0.017042613891618638), (1851, 0.017006772331142398), (3659, 0.016977532444782943), (2911, 0.016974621161015113), (4173, 0.01696401920073353), (1531, 0.016937380172320767), (4639, 0.01691052182000563), (3189, 0.0169056349680153), (990, 0.016886900890984113), (607, 0.016866813931907594), (232, 0.01684243031649502), (3612, 0.016827251470670074), (1470, 0.0168114861415098), (4392, 0.0168026711794499), (4574, 0.016782247188061504), (482, 0.016780316756134835), (245, 0.016759206167382898), (3314, 0.016740429673334337), (2037, 0.016727588760333208), (3236, 0.016714979681852513), (3623, 0.01670955527880699), (3850, 0.016700088656920683), (4013, 0.0166963769179913), (1355, 0.01668003950188915), (3790, 0.016657507098143464), (4256, 0.01665494216445266), (2254, 0.0166103543558369), (4628, 0.016601919611444093), (656, 0.016568311045107986), (216, 0.016526119587788057), (2249, 0.016484548419048905), (2494, 0.016426221347508718), (231, 0.016422986954509524), (2471, 0.01642011114900163), (1599, 0.016418611393243042), (320, 0.01637551541963331), (2668, 0.01635961615349211), (1447, 0.016357938472847073), (4563, 0.016343935243479202), (1761, 0.016331029310886782), (4001, 0.016317500544162453), (4533, 0.01631242447029758), (3351, 0.016303779547518982), (971, 0.016247671722213676), (2284, 0.016213571593294517), (4467, 0.016206674055727222), (1198, 0.0161954493764571), (4466, 0.016129984532147437), (1508, 0.016110479670472893), (4708, 0.01608080979042284), (3888, 0.016078981944396296), (1496, 0.016077048338169853), (198, 0.016054990717375824), (4253, 0.016009806996878036), (2313, 0.01600883502274667), (1700, 0.015913066367444124), (3568, 0.015898677450400134), (1644, 0.015890479081299896), (4688, 0.015881074445522333), (446, 0.015869516121690335), (4053, 0.015848986878787004), (1351, 0.01584518551942333), (1880, 0.015821546822253264), (490, 0.015815100072615003), (2061, 0.01581487923688054), (2651, 0.01580583114573084), (1857, 0.015792466242071593), (4587, 0.015779513639692787), (1852, 0.01572347491900811), (109, 0.015720144883641884), (1846, 0.015692348033687076), (79, 0.015677200637494237), (2210, 0.015624569460004057), (2397, 0.015621381362598835), (1771, 0.015586133151573207), (3047, 0.015579798774109184), (4607, 0.015573444460517546), (2496, 0.015551331439737026), (315, 0.015545421989111179), (4159, 0.015521835803807336), (374, 0.01548999063748531), (4070, 0.015453796658184095), (358, 0.015448406563956862), (3734, 0.015432198585212964), (1363, 0.015431272641880064), (1117, 0.015430658091070653), (230, 0.015411549196479994), (2036, 0.015411376774301322), (4447, 0.015396128087567726), (2050, 0.015343696972830357), (2594, 0.015329162335605186), (1295, 0.01532776800437389), (773, 0.015320036613955312), (2841, 0.015308467828872067), (1068, 0.015304960648129248), (2117, 0.015302838249063385), (3046, 0.015302216595575584), (4525, 0.01530133682315207), (1988, 0.015254648126136944), (3083, 0.015239243769804336), (325, 0.015227131365728615), (1819, 0.015202946229113053), (2004, 0.015184820463840938), (1478, 0.015144517858427537), (4382, 0.015144219423461478), (1283, 0.01513597143472856), (4274, 0.015082946888176517), (31, 0.01507366258478777), (2517, 0.015068886848900426), (449, 0.015041713135307418), (3503, 0.015017601761998544), (742, 0.015008749013507629), (1824, 0.014993594753405988), (911, 0.014971309936761153), (1291, 0.014959724704640872), (73, 0.014919062256789177), (2598, 0.014903333795980083), (1662, 0.014890632032935482), (4649, 0.014881726174188346), (1308, 0.0148613762562416), (3853, 0.014837358341440064), (1555, 0.014807479728517151), (934, 0.01476291467639798), (788, 0.014726417190407005), (307, 0.014688590606078055), (1729, 0.014682284817667333), (2608, 0.014667014440947219), (563, 0.014650095560165187), (4153, 0.01464169329911685), (2236, 0.01463239888918396), (2043, 0.01459836244733963), (1650, 0.014574600716337193), (744, 0.014528269778887591), (2615, 0.01452821521590409), (67, 0.014460461011972925), (3485, 0.014406586526298636), (2285, 0.01435115381272116), (3767, 0.014350886046335184), (1934, 0.01431593012398458), (80, 0.01429993723080782), (1764, 0.014237021381111058), (2587, 0.01416047546627858), (75, 0.014134776647386047), (3393, 0.014068979708645032), (4590, 0.014027212461376141), (376, 0.014015864040773525), (4748, 0.013994725246268944), (3878, 0.013938664168286576), (2842, 0.013704132200771239), (78, 0.01355799059754098), (2481, 0.013509346936333988), (142, 0.013466779366283311), (3282, 0.013448580559013726), (3275, 0.013342094707128906), (843, 0.013282462415463674), (3942, 0.01324971147555115), (904, 0.01320132355194852), (4660, 0.013189775227926737), (3751, 0.013183563293341234), (2756, 0.01305431830636812), (3638, 0.013051971449455097), (738, 0.013039673275619766), (3844, 0.013025982003162921), (2730, 0.012996611408609974), (4594, 0.012990810289365474), (2428, 0.012921708163632077), (2474, 0.012781934492301134), (1637, 0.012730736525588478), (3206, 0.01272697204674538), (436, 0.01268425049043869), (837, 0.012676189750575561), (2767, 0.012604452805148368), (3364, 0.012601507312354739), (4633, 0.012582773953637315), (225, 0.012559823215188209), (1498, 0.012550587165462859), (4701, 0.012531911274282697), (1701, 0.012531857612573477), (1467, 0.012483140289593223), (2229, 0.012437848618912282), (1466, 0.012425648858006387), (3453, 0.012419916632417975), (4463, 0.012418419436132885), (1815, 0.01240964324820815), (3903, 0.012399569511580047), (3384, 0.012399384124387833), (3884, 0.01239348229601714), (3759, 0.012362764681579897), (3754, 0.012345192413175162), (1069, 0.012344248018316685), (1332, 0.012281278523216763), (512, 0.012276500115425828), (1184, 0.012251341209271786), (4150, 0.012232437693217482), (3506, 0.012228211679653602), (4747, 0.01222713963701334), (1168, 0.012226167548495776), (2638, 0.012219811995128671), (791, 0.012180794946290551), (107, 0.012148879187697963), (1681, 0.012144787540549762), (4087, 0.012133628898053977), (2400, 0.012083286241081528), (4593, 0.012065180604844192), (4595, 0.012047382352195383), (3468, 0.012042434059466953), (1724, 0.012031725189462501), (3109, 0.012027532292803726), (38, 0.012027440273915687), (62, 0.012018610234508651), (2799, 0.012010715067565542), (1924, 0.011989852334769681), (1786, 0.011970904182995687), (2636, 0.011966692545954567), (3618, 0.011951838392119028), (3877, 0.011947937595766704), (687, 0.011946633009120364), (48, 0.011938060384273011), (2384, 0.011931679975789302), (3043, 0.011922296921708972), (12, 0.011916418841967903), (678, 0.011914534974411065), (4656, 0.011909251899340056), (1091, 0.011881588524693025), (1928, 0.011878479357393064), (89, 0.011872678107264008), (6, 0.011871399373401854), (4181, 0.011871324551002399), (3834, 0.011864885229924266), (253, 0.0118608925936896), (1474, 0.011852104178619807), (1716, 0.011844405404971036), (4602, 0.011844025894105388), (1265, 0.011836444012210056), (683, 0.011831784347151491), (4355, 0.011810710864720098), (1246, 0.011809811273683126), (1829, 0.011808722434311367), (3207, 0.011805526610461888), (3873, 0.011804770312099186), (3695, 0.011800280059810474), (1798, 0.011797414609969758), (3730, 0.011788955873342225), (1371, 0.011774784094343871), (802, 0.0117449698371857), (3587, 0.011732822917544275), (102, 0.011718207944825941), (1554, 0.011710665953454637), (1805, 0.011710126633280674), (4531, 0.011707066997353481), (1409, 0.011705216342170562), (4078, 0.011668617439596915), (4240, 0.011663633062979822), (4119, 0.01165918192002997), (1518, 0.011640959368876477), (2375, 0.011632957697287465), (3438, 0.011623884954305832), (3101, 0.01162323671985014), (3235, 0.011618912806769), (4436, 0.011603438433010173), (2259, 0.011591545543961418), (1835, 0.01158274219459939), (841, 0.01158061936432053), (3586, 0.011579932645043737), (3515, 0.011567677517001428), (675, 0.011563674836147148), (2096, 0.011547546830768746), (4659, 0.011544832888398849), (4601, 0.011516947488100381), (3181, 0.011502505658499933), (493, 0.011498824771821266), (3264, 0.011498810695105409), (1495, 0.011489947725131516), (848, 0.011489720023157228), (4517, 0.01148382782512877), (977, 0.011468986503092964), (2067, 0.01145686317021655), (2817, 0.011455813901375136), (2959, 0.01144992420773767), (891, 0.011436283016257752), (472, 0.011420871261186117), (4005, 0.011414983291979534), (3493, 0.011414569607231875), (1463, 0.01140841394625616), (1821, 0.011407496014740167), (4091, 0.011406945902167377), (1918, 0.011401022895728318), (4175, 0.011372598162539367), (884, 0.011364916463476435), (2230, 0.01134500593233302), (298, 0.01134255514063628), (17, 0.011338151684504224), (272, 0.011330588224101455), (2277, 0.011295881296744753), (1031, 0.011285632294264662), (3654, 0.011284425816506247), (4376, 0.01128323395484402), (4395, 0.011276828717731812), (1380, 0.011267007290965239), (23, 0.01126224287906931), (1124, 0.011259529696562234), (4566, 0.01125624940308613), (680, 0.01125559792590158), (20, 0.011255145080823651), (603, 0.011253923847402396), (3398, 0.01125066789631522), (3184, 0.01124634959933164), (3388, 0.011246141204034998), (654, 0.011242597534333288), (1902, 0.011236856262931506), (3642, 0.011232271567535581), (1949, 0.01121849337295953), (2910, 0.011211334076430527), (2242, 0.011208926995491626), (2283, 0.011200897570433011), (219, 0.011198559405129212), (2106, 0.01119581887059658), (3908, 0.01119421117305752), (3551, 0.011193693856716523), (748, 0.01119133512039939), (4662, 0.0111787968073688), (2072, 0.011176266467554144), (3378, 0.011168622522759212), (4168, 0.011167131867752889), (3382, 0.011150294532778222), (871, 0.01114915093820697), (3516, 0.011143404524106454), (3483, 0.01111917929209689), (1185, 0.01111899623746466), (2046, 0.011115440189886854), (1271, 0.01111221361441223), (1534, 0.011080677825301305), (1502, 0.011080445671896207), (809, 0.011079822512125005), (3564, 0.011079016105692932), (3840, 0.011076656767349887), (3156, 0.011069357718706586), (1908, 0.011066970413679694), (588, 0.011064728979631108), (2456, 0.01106307064276389), (3930, 0.011062993445677665), (2732, 0.011043578712507541), (169, 0.011043318362850803), (2944, 0.011032761724087464), (2246, 0.011029390280807122), (4678, 0.011026679494021887), (1435, 0.011026079066305679), (193, 0.011018936377981247), (1179, 0.011009442560981172), (2746, 0.011003453378963178), (56, 0.011002870948745608), (2637, 0.010997177278398468), (980, 0.010993953456412919), (226, 0.010993275995239159), (3602, 0.010990339373557487), (1105, 0.010986379082438604), (4266, 0.010983113773973084), (2685, 0.010974378867913737), (1985, 0.010973558528999743), (660, 0.010970635752316715), (923, 0.010956767964454838), (2904, 0.010956654838919399), (897, 0.01095553106152018), (1047, 0.010953121170359325), (1163, 0.010951444928029092), (3173, 0.010946929933080458), (4000, 0.010945200095288196), (2396, 0.010943652909615817), (3491, 0.010941526919807201), (55, 0.010941206848899486), (2632, 0.010934436079857194), (4184, 0.010927882567396853), (3937, 0.010926160204215144), (2321, 0.010923353403218568), (3870, 0.010920988737294374), (4088, 0.010904531816129352), (387, 0.010904166090716724), (811, 0.010902462313745117), (93, 0.010901238725266302), (1945, 0.01090047804293355), (3518, 0.010885327931411266), (3188, 0.01086783722767529), (1831, 0.010867284983216761), (3517, 0.010860690155650901), (2647, 0.01085755202998262), (4380, 0.010855215507242165), (3644, 0.010850227343939142), (1629, 0.01083553759692968), (1017, 0.010826505701281113), (2374, 0.010824759768619865), (3541, 0.01082015265328028), (347, 0.010805438256649116), (2503, 0.010771615783536559), (1653, 0.01076491930263984), (1986, 0.010763286885946487), (353, 0.010753004691594495), (4736, 0.010738565536552848), (938, 0.010711890992408563), (1022, 0.010703785790789401), (439, 0.010693427449384101), (2677, 0.010686180504280204), (4503, 0.010683037113788055), (1804, 0.010650655390478164), (2839, 0.010646083203750222), (322, 0.010645886444883786), (770, 0.010640543463067953), (389, 0.01061966051634002), (1483, 0.01061845580116848), (2280, 0.010612340226372209), (1374, 0.010611143492199234), (2167, 0.010608482988938451), (2826, 0.010607160018554175), (689, 0.010589447969279197), (2551, 0.010587385465067194), (1421, 0.010581529900863293), (451, 0.010578695216630943), (1247, 0.010569799270588685), (2698, 0.010569332856591064), (3881, 0.010561938002675183), (2195, 0.010551324440852968), (1408, 0.010536827385145808), (530, 0.010523706941142012), (72, 0.010523354525902182), (223, 0.010522191633711668), (3100, 0.01052165639943748), (4305, 0.010511132348810143), (3390, 0.010509636737523285), (1284, 0.010504683292533592), (2616, 0.010503881421562508), (618, 0.010496408690126737), (2642, 0.010494943553649168), (883, 0.010492874473540704), (3823, 0.010490566572172122), (2014, 0.010471992274216505), (3773, 0.010470517575762717), (846, 0.010467380830556865), (85, 0.010454056844706218), (818, 0.010453575377345073), (1597, 0.01045289211388775), (1617, 0.010450162165939586), (568, 0.010444893588893294), (4482, 0.010436883179210609), (2402, 0.010429112045661236), (2553, 0.01042524486582394), (1742, 0.01042360180968159), (3706, 0.010422277358732416), (1782, 0.010414990182508667), (1030, 0.010411912083951121), (4356, 0.01041064518853946), (2095, 0.010408050133728608), (4339, 0.010406576083654884), (127, 0.010379455679425253), (329, 0.010373667735700408), (878, 0.010366440335891325), (713, 0.010362101658669336), (84, 0.01033992630734172), (3426, 0.010325169442409868), (4292, 0.010320884630739225), (1519, 0.010319087051389063), (1796, 0.010318480311343593), (1864, 0.010307663675755356), (3732, 0.010290688944342036), (2892, 0.01026657337229297), (3712, 0.010264013479587058), (4472, 0.010261157256216196), (356, 0.010260637322885183), (3246, 0.010230591232328454), (2023, 0.010220572727744282), (2135, 0.010209854364299198), (2327, 0.010199055247371655), (4553, 0.010182681488124413), (2093, 0.010173040915510806), (984, 0.010170002739847318), (1608, 0.010168917949367274), (1631, 0.010166866804241299), (4374, 0.010165893931805727), (1430, 0.010164852058364796), (3824, 0.01016006545677749), (710, 0.010147390698888235), (3788, 0.01014663196676698), (2962, 0.010141991407022932), (1375, 0.010141958087485994), (2110, 0.01014083640951269), (2552, 0.010138504287990216), (53, 0.01013397732782412), (1372, 0.010129721279445536), (659, 0.010129239785814578), (1041, 0.010118305402185192), (2954, 0.010116545622758662), (963, 0.010115244406105279), (170, 0.0101038511847413), (4450, 0.010101101052034834), (1487, 0.010097885131298308), (3127, 0.010097544588194358), (3460, 0.010097102845484433), (3633, 0.010082714985524236), (2119, 0.010075388490021856), (3563, 0.010072329608002303), (1680, 0.010071295168013932), (2205, 0.01005941656941405), (4441, 0.010051089559419952), (3841, 0.01004601416660244), (1218, 0.010045903563637071), (2367, 0.010045576563582142), (3395, 0.01003316316276333), (3550, 0.010021483270763807), (1259, 0.010016916183572746), (1974, 0.010016518258848613), (4664, 0.010013598144443206), (2803, 0.009990922725518846), (1067, 0.009987481803442055), (291, 0.009975822971695577), (4620, 0.00996745487765456), (548, 0.009946557190677458), (3986, 0.009945372090491851), (4558, 0.009943963686327219), (354, 0.009940489059240103), (648, 0.009937513265050784), (4165, 0.009936751227395325), (1996, 0.009934261825177114), (2301, 0.009933335775920286), (1236, 0.009929186122443508), (417, 0.009925166310882015), (569, 0.009924661399289304), (1503, 0.009921912078522914), (1675, 0.009914209038587845), (1827, 0.009903411794362106), (3775, 0.009899227318038595), (577, 0.009876367008673243), (805, 0.009864633752630496), (15, 0.009856733459608644), (2525, 0.00985194459700769), (820, 0.00984162101906483), (3304, 0.009828128224863453), (37, 0.009812852792913036), (997, 0.009811125228653485), (3711, 0.00980007206165703), (2682, 0.009798694382401019), (3655, 0.009780200840651109), (3656, 0.009764218649411844), (981, 0.009760723749810147), (1994, 0.009753787563411933), (191, 0.009745622525522165), (463, 0.00974070377899797), (4366, 0.009733463927184278), (2338, 0.009703808476235717), (3160, 0.009694043572228408), (898, 0.009690366462355665), (2240, 0.009680281808152821), (1199, 0.009678297190172921), (1312, 0.009649043400272752), (2168, 0.009647848843243012), (2074, 0.009632860978018153), (1186, 0.009629680526249747), (2749, 0.00962450081014946), (2539, 0.009620245901337001), (1134, 0.009616603354081155), (1050, 0.009599483044301667), (3748, 0.009598904527960504), (3108, 0.00958813284597762), (1571, 0.009587524927709593), (4247, 0.009578851066566706), (251, 0.009560692605385111), (2976, 0.009556802979846034), (242, 0.009524629295174782), (779, 0.009519014917612128), (1414, 0.00950367882948589), (653, 0.009499805613672908), (1698, 0.009494808959110028), (64, 0.009483882959842139), (1465, 0.009475899920176046), (334, 0.009457358936665177), (545, 0.009434675780248779), (733, 0.00941310432584049), (3254, 0.009409684077896718), (4432, 0.009394609548166772), (3806, 0.00933845155644765), (2047, 0.00933408906497691), (732, 0.009324668730747155), (1241, 0.009322878182513383), (3129, 0.009319947489393462), (2447, 0.009308861636021785), (1301, 0.009290228172700359), (3200, 0.009256881094752065), (2157, 0.009250052816554041), (234, 0.009248191037291964), (1042, 0.009232336389189697), (3056, 0.009231695242189078), (1802, 0.009220166822988075), (862, 0.009168078982419333), (3347, 0.009163121382987388), (2877, 0.009162990301282798), (1535, 0.009141446421053686), (3855, 0.009136099442128268), (3713, 0.009115943710160385), (2789, 0.009103041200916664), (3344, 0.009102879075878024), (3430, 0.009080171376728383), (1300, 0.009064536916475264), (2665, 0.009036725450462), (3405, 0.009024939332334316), (1341, 0.008980393748553056), (2441, 0.008956147687839195), (2377, 0.008944129755677533), (1344, 0.008912970757737837), (2000, 0.008842837763505291), (477, 0.008837742151153597), (4652, 0.008811127047772774), (1137, 0.008769426858475678), (4674, 0.008748252139354824), (4182, 0.008739173901503281), (2524, 0.008730075004558838), (421, 0.008685148890196994), (168, 0.008679939619520691), (2013, 0.008652784751224735), (294, 0.008556968762023612), (3626, 0.008428902713397699), (562, 0.008418047458768667), (3574, 0.008416306630701021), (266, 0.008333952287705724), (2671, 0.008292486993466321), (228, 0.008261888490106416), (1471, 0.008231183406068815), (336, 0.00806518815433464), (1306, 0.00795655227901318), (3750, 0.007953803845150932), (3421, 0.007813553922034457), (3365, 0.007808560920929643), (824, 0.00761344314872974), (740, 0.007467134163271544), (3392, 0.007422182934345516), (2118, 0.006866699315262042), (0, 0.0), (1, 0.0), (2, 0.0), (3, 0.0), (4, 0.0), (5, 0.0), (7, 0.0), (8, 0.0), (9, 0.0), (10, 0.0), (11, 0.0), (13, 0.0), (14, 0.0), (16, 0.0), (18, 0.0), (19, 0.0), (21, 0.0), (22, 0.0), (26, 0.0), (27, 0.0), (28, 0.0), (29, 0.0), (30, 0.0), (32, 0.0), (33, 0.0), (34, 0.0), (35, 0.0), (36, 0.0), (39, 0.0), (40, 0.0), (41, 0.0), (42, 0.0), (43, 0.0), (44, 0.0), (45, 0.0), (46, 0.0), (47, 0.0), (49, 0.0), (50, 0.0), (51, 0.0), (54, 0.0), (57, 0.0), (58, 0.0), (59, 0.0), (60, 0.0), (61, 0.0), (63, 0.0), (66, 0.0), (68, 0.0), (70, 0.0), (71, 0.0), (74, 0.0), (76, 0.0), (77, 0.0), (81, 0.0), (82, 0.0), (86, 0.0), (87, 0.0), (88, 0.0), (90, 0.0), (91, 0.0), (92, 0.0), (94, 0.0), (95, 0.0), (96, 0.0), (97, 0.0), (98, 0.0), (99, 0.0), (100, 0.0), (101, 0.0), (103, 0.0), (104, 0.0), (105, 0.0), (106, 0.0), (108, 0.0), (110, 0.0), (111, 0.0), (112, 0.0), (113, 0.0), (114, 0.0), (115, 0.0), (116, 0.0), (117, 0.0), (119, 0.0), (120, 0.0), (121, 0.0), (122, 0.0), (123, 0.0), (124, 0.0), (125, 0.0), (128, 0.0), (129, 0.0), (130, 0.0), (131, 0.0), (132, 0.0), (133, 0.0), (134, 0.0), (135, 0.0), (136, 0.0), (137, 0.0), (139, 0.0), (140, 0.0), (141, 0.0), (143, 0.0), (144, 0.0), (145, 0.0), (146, 0.0), (147, 0.0), (148, 0.0), (149, 0.0), (150, 0.0), (151, 0.0), (152, 0.0), (153, 0.0), (154, 0.0), (156, 0.0), (157, 0.0), (159, 0.0), (160, 0.0), (161, 0.0), (162, 0.0), (163, 0.0), (164, 0.0), (165, 0.0), (166, 0.0), (171, 0.0), (172, 0.0), (173, 0.0), (174, 0.0), (175, 0.0), (176, 0.0), (177, 0.0), (178, 0.0), (179, 0.0), (181, 0.0), (182, 0.0), (183, 0.0), (184, 0.0), (185, 0.0), (186, 0.0), (188, 0.0), (189, 0.0), (190, 0.0), (192, 0.0), (194, 0.0), (195, 0.0), (196, 0.0), (197, 0.0), (199, 0.0), (200, 0.0), (201, 0.0), (202, 0.0), (203, 0.0), (204, 0.0), (207, 0.0), (208, 0.0), (209, 0.0), (210, 0.0), (211, 0.0), (212, 0.0), (213, 0.0), (214, 0.0), (215, 0.0), (218, 0.0), (220, 0.0), (221, 0.0), (222, 0.0), (224, 0.0), (227, 0.0), (229, 0.0), (233, 0.0), (235, 0.0), (236, 0.0), (237, 0.0), (239, 0.0), (240, 0.0), (241, 0.0), (243, 0.0), (244, 0.0), (246, 0.0), (247, 0.0), (248, 0.0), (250, 0.0), (252, 0.0), (255, 0.0), (256, 0.0), (258, 0.0), (259, 0.0), (260, 0.0), (261, 0.0), (262, 0.0), (263, 0.0), (264, 0.0), (265, 0.0), (267, 0.0), (268, 0.0), (269, 0.0), (270, 0.0), (271, 0.0), (273, 0.0), (274, 0.0), (275, 0.0), (276, 0.0), (277, 0.0), (278, 0.0), (279, 0.0), (280, 0.0), (281, 0.0), (284, 0.0), (285, 0.0), (286, 0.0), (287, 0.0), (288, 0.0), (289, 0.0), (290, 0.0), (292, 0.0), (293, 0.0), (296, 0.0), (297, 0.0), (299, 0.0), (300, 0.0), (301, 0.0), (302, 0.0), (304, 0.0), (308, 0.0), (309, 0.0), (310, 0.0), (311, 0.0), (312, 0.0), (313, 0.0), (314, 0.0), (316, 0.0), (317, 0.0), (318, 0.0), (319, 0.0), (321, 0.0), (323, 0.0), (326, 0.0), (328, 0.0), (330, 0.0), (331, 0.0), (332, 0.0), (333, 0.0), (335, 0.0), (337, 0.0), (338, 0.0), (339, 0.0), (340, 0.0), (341, 0.0), (342, 0.0), (343, 0.0), (344, 0.0), (345, 0.0), (346, 0.0), (348, 0.0), (349, 0.0), (350, 0.0), (351, 0.0), (352, 0.0), (355, 0.0), (357, 0.0), (359, 0.0), (360, 0.0), (361, 0.0), (362, 0.0), (363, 0.0), (364, 0.0), (365, 0.0), (366, 0.0), (367, 0.0), (368, 0.0), (369, 0.0), (370, 0.0), (371, 0.0), (372, 0.0), (375, 0.0), (378, 0.0), (379, 0.0), (380, 0.0), (381, 0.0), (382, 0.0), (383, 0.0), (384, 0.0), (385, 0.0), (386, 0.0), (388, 0.0), (390, 0.0), (391, 0.0), (392, 0.0), (393, 0.0), (394, 0.0), (395, 0.0), (396, 0.0), (397, 0.0), (398, 0.0), (399, 0.0), (400, 0.0), (401, 0.0), (402, 0.0), (403, 0.0), (404, 0.0), (405, 0.0), (406, 0.0), (407, 0.0), (408, 0.0), (409, 0.0), (410, 0.0), (411, 0.0), (412, 0.0), (413, 0.0), (414, 0.0), (415, 0.0), (416, 0.0), (418, 0.0), (419, 0.0), (420, 0.0), (422, 0.0), (423, 0.0), (425, 0.0), (426, 0.0), (427, 0.0), (428, 0.0), (429, 0.0), (430, 0.0), (431, 0.0), (432, 0.0), (433, 0.0), (434, 0.0), (435, 0.0), (437, 0.0), (438, 0.0), (441, 0.0), (442, 0.0), (443, 0.0), (444, 0.0), (445, 0.0), (447, 0.0), (450, 0.0), (452, 0.0), (453, 0.0), (454, 0.0), (456, 0.0), (457, 0.0), (458, 0.0), (459, 0.0), (460, 0.0), (461, 0.0), (464, 0.0), (465, 0.0), (466, 0.0), (467, 0.0), (469, 0.0), (470, 0.0), (471, 0.0), (473, 0.0), (474, 0.0), (475, 0.0), (479, 0.0), (480, 0.0), (481, 0.0), (483, 0.0), (484, 0.0), (485, 0.0), (486, 0.0), (487, 0.0), (488, 0.0), (489, 0.0), (492, 0.0), (494, 0.0), (495, 0.0), (496, 0.0), (497, 0.0), (498, 0.0), (500, 0.0), (501, 0.0), (502, 0.0), (503, 0.0), (504, 0.0), (505, 0.0), (506, 0.0), (507, 0.0), (508, 0.0), (509, 0.0), (510, 0.0), (511, 0.0), (513, 0.0), (514, 0.0), (515, 0.0), (516, 0.0), (517, 0.0), (518, 0.0), (519, 0.0), (520, 0.0), (521, 0.0), (524, 0.0), (525, 0.0), (526, 0.0), (527, 0.0), (528, 0.0), (529, 0.0), (531, 0.0), (532, 0.0), (534, 0.0), (535, 0.0), (536, 0.0), (537, 0.0), (538, 0.0), (539, 0.0), (540, 0.0), (541, 0.0), (542, 0.0), (543, 0.0), (544, 0.0), (546, 0.0), (547, 0.0), (552, 0.0), (554, 0.0), (555, 0.0), (556, 0.0), (557, 0.0), (558, 0.0), (559, 0.0), (560, 0.0), (561, 0.0), (564, 0.0), (565, 0.0), (566, 0.0), (567, 0.0), (570, 0.0), (571, 0.0), (572, 0.0), (573, 0.0), (574, 0.0), (575, 0.0), (576, 0.0), (578, 0.0), (579, 0.0), (580, 0.0), (581, 0.0), (582, 0.0), (583, 0.0), (584, 0.0), (585, 0.0), (586, 0.0), (587, 0.0), (590, 0.0), (591, 0.0), (592, 0.0), (593, 0.0), (594, 0.0), (595, 0.0), (596, 0.0), (597, 0.0), (598, 0.0), (599, 0.0), (600, 0.0), (601, 0.0), (602, 0.0), (604, 0.0), (605, 0.0), (606, 0.0), (608, 0.0), (609, 0.0), (610, 0.0), (611, 0.0), (612, 0.0), (613, 0.0), (614, 0.0), (615, 0.0), (616, 0.0), (619, 0.0), (620, 0.0), (621, 0.0), (622, 0.0), (623, 0.0), (624, 0.0), (625, 0.0), (626, 0.0), (627, 0.0), (628, 0.0), (629, 0.0), (631, 0.0), (632, 0.0), (633, 0.0), (634, 0.0), (635, 0.0), (636, 0.0), (637, 0.0), (638, 0.0), (639, 0.0), (640, 0.0), (641, 0.0), (642, 0.0), (643, 0.0), (644, 0.0), (645, 0.0), (646, 0.0), (647, 0.0), (649, 0.0), (650, 0.0), (651, 0.0), (652, 0.0), (655, 0.0), (657, 0.0), (658, 0.0), (661, 0.0), (662, 0.0), (663, 0.0), (664, 0.0), (665, 0.0), (666, 0.0), (667, 0.0), (668, 0.0), (669, 0.0), (671, 0.0), (672, 0.0), (674, 0.0), (679, 0.0), (681, 0.0), (682, 0.0), (684, 0.0), (686, 0.0), (688, 0.0), (690, 0.0), (691, 0.0), (692, 0.0), (693, 0.0), (694, 0.0), (695, 0.0), (696, 0.0), (697, 0.0), (698, 0.0), (700, 0.0), (702, 0.0), (703, 0.0), (704, 0.0), (705, 0.0), (707, 0.0), (708, 0.0), (709, 0.0), (711, 0.0), (712, 0.0), (714, 0.0), (715, 0.0), (716, 0.0), (717, 0.0), (718, 0.0), (719, 0.0), (720, 0.0), (721, 0.0), (722, 0.0), (723, 0.0), (724, 0.0), (725, 0.0), (726, 0.0), (727, 0.0), (728, 0.0), (729, 0.0), (730, 0.0), (731, 0.0), (734, 0.0), (735, 0.0), (736, 0.0), (737, 0.0), (739, 0.0), (741, 0.0), (743, 0.0), (745, 0.0), (746, 0.0), (747, 0.0), (749, 0.0), (750, 0.0), (751, 0.0), (752, 0.0), (753, 0.0), (754, 0.0), (755, 0.0), (756, 0.0), (757, 0.0), (758, 0.0), (760, 0.0), (761, 0.0), (762, 0.0), (763, 0.0), (764, 0.0), (765, 0.0), (766, 0.0), (767, 0.0), (768, 0.0), (769, 0.0), (771, 0.0), (772, 0.0), (775, 0.0), (776, 0.0), (777, 0.0), (778, 0.0), (781, 0.0), (782, 0.0), (783, 0.0), (784, 0.0), (785, 0.0), (786, 0.0), (789, 0.0), (790, 0.0), (792, 0.0), (793, 0.0), (794, 0.0), (795, 0.0), (796, 0.0), (797, 0.0), (798, 0.0), (799, 0.0), (800, 0.0), (801, 0.0), (803, 0.0), (804, 0.0), (806, 0.0), (807, 0.0), (808, 0.0), (810, 0.0), (812, 0.0), (813, 0.0), (814, 0.0), (815, 0.0), (816, 0.0), (817, 0.0), (819, 0.0), (821, 0.0), (822, 0.0), (823, 0.0), (825, 0.0), (826, 0.0), (827, 0.0), (828, 0.0), (829, 0.0), (830, 0.0), (831, 0.0), (832, 0.0), (833, 0.0), (834, 0.0), (835, 0.0), (836, 0.0), (838, 0.0), (839, 0.0), (840, 0.0), (842, 0.0), (844, 0.0), (845, 0.0), (847, 0.0), (849, 0.0), (850, 0.0), (851, 0.0), (853, 0.0), (854, 0.0), (855, 0.0), (856, 0.0), (857, 0.0), (858, 0.0), (860, 0.0), (861, 0.0), (863, 0.0), (864, 0.0), (865, 0.0), (866, 0.0), (867, 0.0), (869, 0.0), (870, 0.0), (872, 0.0), (873, 0.0), (875, 0.0), (876, 0.0), (879, 0.0), (880, 0.0), (881, 0.0), (882, 0.0), (885, 0.0), (886, 0.0), (887, 0.0), (888, 0.0), (889, 0.0), (890, 0.0), (892, 0.0), (894, 0.0), (895, 0.0), (896, 0.0), (899, 0.0), (900, 0.0), (901, 0.0), (902, 0.0), (903, 0.0), (905, 0.0), (906, 0.0), (907, 0.0), (908, 0.0), (909, 0.0), (910, 0.0), (912, 0.0), (913, 0.0), (914, 0.0), (915, 0.0), (916, 0.0), (917, 0.0), (918, 0.0), (920, 0.0), (921, 0.0), (924, 0.0), (925, 0.0), (926, 0.0), (927, 0.0), (928, 0.0), (929, 0.0), (930, 0.0), (931, 0.0), (932, 0.0), (933, 0.0), (935, 0.0), (937, 0.0), (939, 0.0), (940, 0.0), (941, 0.0), (942, 0.0), (943, 0.0), (944, 0.0), (945, 0.0), (946, 0.0), (947, 0.0), (950, 0.0), (952, 0.0), (953, 0.0), (954, 0.0), (955, 0.0), (956, 0.0), (958, 0.0), (959, 0.0), (960, 0.0), (961, 0.0), (962, 0.0), (964, 0.0), (965, 0.0), (966, 0.0), (967, 0.0), (968, 0.0), (969, 0.0), (970, 0.0), (972, 0.0), (973, 0.0), (975, 0.0), (976, 0.0), (978, 0.0), (979, 0.0), (982, 0.0), (983, 0.0), (985, 0.0), (986, 0.0), (989, 0.0), (991, 0.0), (992, 0.0), (995, 0.0), (996, 0.0), (998, 0.0), (999, 0.0), (1000, 0.0), (1001, 0.0), (1002, 0.0), (1003, 0.0), (1004, 0.0), (1005, 0.0), (1006, 0.0), (1007, 0.0), (1008, 0.0), (1009, 0.0), (1010, 0.0), (1011, 0.0), (1012, 0.0), (1013, 0.0), (1014, 0.0), (1015, 0.0), (1016, 0.0), (1018, 0.0), (1019, 0.0), (1020, 0.0), (1021, 0.0), (1023, 0.0), (1024, 0.0), (1025, 0.0), (1026, 0.0), (1027, 0.0), (1028, 0.0), (1029, 0.0), (1032, 0.0), (1033, 0.0), (1034, 0.0), (1035, 0.0), (1036, 0.0), (1037, 0.0), (1038, 0.0), (1039, 0.0), (1040, 0.0), (1043, 0.0), (1046, 0.0), (1048, 0.0), (1049, 0.0), (1051, 0.0), (1052, 0.0), (1053, 0.0), (1054, 0.0), (1055, 0.0), (1057, 0.0), (1058, 0.0), (1059, 0.0), (1060, 0.0), (1061, 0.0), (1062, 0.0), (1063, 0.0), (1064, 0.0), (1065, 0.0), (1066, 0.0), (1070, 0.0), (1071, 0.0), (1072, 0.0), (1073, 0.0), (1074, 0.0), (1075, 0.0), (1076, 0.0), (1077, 0.0), (1078, 0.0), (1079, 0.0), (1080, 0.0), (1081, 0.0), (1082, 0.0), (1083, 0.0), (1085, 0.0), (1086, 0.0), (1087, 0.0), (1088, 0.0), (1089, 0.0), (1090, 0.0), (1092, 0.0), (1093, 0.0), (1094, 0.0), (1095, 0.0), (1096, 0.0), (1097, 0.0), (1098, 0.0), (1099, 0.0), (1100, 0.0), (1101, 0.0), (1102, 0.0), (1103, 0.0), (1104, 0.0), (1106, 0.0), (1107, 0.0), (1108, 0.0), (1110, 0.0), (1111, 0.0), (1112, 0.0), (1113, 0.0), (1115, 0.0), (1116, 0.0), (1119, 0.0), (1120, 0.0), (1121, 0.0), (1122, 0.0), (1123, 0.0), (1125, 0.0), (1126, 0.0), (1127, 0.0), (1128, 0.0), (1129, 0.0), (1130, 0.0), (1131, 0.0), (1132, 0.0), (1133, 0.0), (1135, 0.0), (1136, 0.0), (1138, 0.0), (1139, 0.0), (1140, 0.0), (1141, 0.0), (1142, 0.0), (1143, 0.0), (1144, 0.0), (1145, 0.0), (1146, 0.0), (1147, 0.0), (1149, 0.0), (1150, 0.0), (1151, 0.0), (1152, 0.0), (1153, 0.0), (1154, 0.0), (1155, 0.0), (1156, 0.0), (1157, 0.0), (1158, 0.0), (1159, 0.0), (1160, 0.0), (1161, 0.0), (1164, 0.0), (1165, 0.0), (1166, 0.0), (1167, 0.0), (1169, 0.0), (1170, 0.0), (1171, 0.0), (1172, 0.0), (1173, 0.0), (1174, 0.0), (1175, 0.0), (1176, 0.0), (1177, 0.0), (1178, 0.0), (1180, 0.0), (1181, 0.0), (1182, 0.0), (1183, 0.0), (1187, 0.0), (1188, 0.0), (1189, 0.0), (1190, 0.0), (1191, 0.0), (1192, 0.0), (1193, 0.0), (1195, 0.0), (1196, 0.0), (1200, 0.0), (1201, 0.0), (1202, 0.0), (1203, 0.0), (1204, 0.0), (1206, 0.0), (1207, 0.0), (1208, 0.0), (1209, 0.0), (1210, 0.0), (1211, 0.0), (1212, 0.0), (1213, 0.0), (1214, 0.0), (1215, 0.0), (1216, 0.0), (1219, 0.0), (1220, 0.0), (1221, 0.0), (1222, 0.0), (1223, 0.0), (1225, 0.0), (1226, 0.0), (1227, 0.0), (1228, 0.0), (1230, 0.0), (1231, 0.0), (1232, 0.0), (1233, 0.0), (1235, 0.0), (1237, 0.0), (1238, 0.0), (1239, 0.0), (1240, 0.0), (1242, 0.0), (1243, 0.0), (1245, 0.0), (1248, 0.0), (1249, 0.0), (1250, 0.0), (1251, 0.0), (1252, 0.0), (1253, 0.0), (1254, 0.0), (1255, 0.0), (1258, 0.0), (1260, 0.0), (1262, 0.0), (1263, 0.0), (1264, 0.0), (1266, 0.0), (1267, 0.0), (1268, 0.0), (1269, 0.0), (1270, 0.0), (1272, 0.0), (1273, 0.0), (1274, 0.0), (1276, 0.0), (1277, 0.0), (1278, 0.0), (1279, 0.0), (1280, 0.0), (1281, 0.0), (1282, 0.0), (1285, 0.0), (1286, 0.0), (1287, 0.0), (1289, 0.0), (1290, 0.0), (1292, 0.0), (1293, 0.0), (1294, 0.0), (1296, 0.0), (1297, 0.0), (1298, 0.0), (1299, 0.0), (1302, 0.0), (1303, 0.0), (1304, 0.0), (1305, 0.0), (1307, 0.0), (1309, 0.0), (1310, 0.0), (1311, 0.0), (1313, 0.0), (1314, 0.0), (1315, 0.0), (1316, 0.0), (1318, 0.0), (1319, 0.0), (1320, 0.0), (1321, 0.0), (1322, 0.0), (1323, 0.0), (1324, 0.0), (1325, 0.0), (1326, 0.0), (1327, 0.0), (1328, 0.0), (1329, 0.0), (1330, 0.0), (1331, 0.0), (1333, 0.0), (1334, 0.0), (1336, 0.0), (1337, 0.0), (1339, 0.0), (1340, 0.0), (1342, 0.0), (1343, 0.0), (1345, 0.0), (1346, 0.0), (1347, 0.0), (1348, 0.0), (1349, 0.0), (1350, 0.0), (1352, 0.0), (1353, 0.0), (1354, 0.0), (1356, 0.0), (1357, 0.0), (1358, 0.0), (1359, 0.0), (1360, 0.0), (1361, 0.0), (1365, 0.0), (1366, 0.0), (1367, 0.0), (1369, 0.0), (1370, 0.0), (1373, 0.0), (1376, 0.0), (1377, 0.0), (1378, 0.0), (1379, 0.0), (1381, 0.0), (1382, 0.0), (1384, 0.0), (1385, 0.0), (1386, 0.0), (1387, 0.0), (1388, 0.0), (1389, 0.0), (1390, 0.0), (1391, 0.0), (1392, 0.0), (1393, 0.0), (1394, 0.0), (1395, 0.0), (1396, 0.0), (1397, 0.0), (1398, 0.0), (1399, 0.0), (1400, 0.0), (1401, 0.0), (1402, 0.0), (1403, 0.0), (1404, 0.0), (1405, 0.0), (1406, 0.0), (1407, 0.0), (1410, 0.0), (1411, 0.0), (1412, 0.0), (1413, 0.0), (1415, 0.0), (1416, 0.0), (1417, 0.0), (1418, 0.0), (1419, 0.0), (1420, 0.0), (1422, 0.0), (1423, 0.0), (1424, 0.0), (1425, 0.0), (1426, 0.0), (1427, 0.0), (1428, 0.0), (1429, 0.0), (1431, 0.0), (1432, 0.0), (1433, 0.0), (1434, 0.0), (1436, 0.0), (1437, 0.0), (1438, 0.0), (1439, 0.0), (1440, 0.0), (1441, 0.0), (1442, 0.0), (1443, 0.0), (1444, 0.0), (1445, 0.0), (1446, 0.0), (1448, 0.0), (1449, 0.0), (1450, 0.0), (1451, 0.0), (1452, 0.0), (1453, 0.0), (1454, 0.0), (1455, 0.0), (1456, 0.0), (1457, 0.0), (1458, 0.0), (1459, 0.0), (1460, 0.0), (1461, 0.0), (1462, 0.0), (1464, 0.0), (1468, 0.0), (1469, 0.0), (1472, 0.0), (1475, 0.0), (1476, 0.0), (1477, 0.0), (1479, 0.0), (1480, 0.0), (1481, 0.0), (1482, 0.0), (1484, 0.0), (1485, 0.0), (1488, 0.0), (1489, 0.0), (1490, 0.0), (1491, 0.0), (1492, 0.0), (1493, 0.0), (1494, 0.0), (1497, 0.0), (1500, 0.0), (1504, 0.0), (1505, 0.0), (1506, 0.0), (1507, 0.0), (1509, 0.0), (1510, 0.0), (1511, 0.0), (1512, 0.0), (1513, 0.0), (1514, 0.0), (1515, 0.0), (1516, 0.0), (1517, 0.0), (1520, 0.0), (1521, 0.0), (1522, 0.0), (1523, 0.0), (1524, 0.0), (1525, 0.0), (1526, 0.0), (1527, 0.0), (1529, 0.0), (1532, 0.0), (1533, 0.0), (1536, 0.0), (1537, 0.0), (1538, 0.0), (1539, 0.0), (1540, 0.0), (1541, 0.0), (1542, 0.0), (1543, 0.0), (1544, 0.0), (1545, 0.0), (1546, 0.0), (1547, 0.0), (1548, 0.0), (1549, 0.0), (1550, 0.0), (1551, 0.0), (1552, 0.0), (1553, 0.0), (1556, 0.0), (1557, 0.0), (1558, 0.0), (1559, 0.0), (1561, 0.0), (1562, 0.0), (1563, 0.0), (1564, 0.0), (1565, 0.0), (1566, 0.0), (1567, 0.0), (1568, 0.0), (1569, 0.0), (1570, 0.0), (1572, 0.0), (1573, 0.0), (1574, 0.0), (1575, 0.0), (1576, 0.0), (1578, 0.0), (1579, 0.0), (1581, 0.0), (1582, 0.0), (1583, 0.0), (1584, 0.0), (1586, 0.0), (1587, 0.0), (1588, 0.0), (1589, 0.0), (1590, 0.0), (1591, 0.0), (1592, 0.0), (1593, 0.0), (1594, 0.0), (1595, 0.0), (1596, 0.0), (1598, 0.0), (1600, 0.0), (1601, 0.0), (1602, 0.0), (1603, 0.0), (1604, 0.0), (1605, 0.0), (1606, 0.0), (1607, 0.0), (1609, 0.0), (1610, 0.0), (1611, 0.0), (1612, 0.0), (1613, 0.0), (1614, 0.0), (1615, 0.0), (1616, 0.0), (1618, 0.0), (1619, 0.0), (1620, 0.0), (1621, 0.0), (1622, 0.0), (1623, 0.0), (1624, 0.0), (1625, 0.0), (1626, 0.0), (1627, 0.0), (1628, 0.0), (1630, 0.0), (1632, 0.0), (1633, 0.0), (1635, 0.0), (1636, 0.0), (1638, 0.0), (1639, 0.0), (1640, 0.0), (1641, 0.0), (1642, 0.0), (1643, 0.0), (1645, 0.0), (1646, 0.0), (1647, 0.0), (1648, 0.0), (1649, 0.0), (1651, 0.0), (1652, 0.0), (1654, 0.0), (1655, 0.0), (1656, 0.0), (1657, 0.0), (1658, 0.0), (1660, 0.0), (1661, 0.0), (1663, 0.0), (1664, 0.0), (1665, 0.0), (1666, 0.0), (1667, 0.0), (1668, 0.0), (1670, 0.0), (1671, 0.0), (1672, 0.0), (1673, 0.0), (1674, 0.0), (1676, 0.0), (1677, 0.0), (1678, 0.0), (1679, 0.0), (1682, 0.0), (1683, 0.0), (1684, 0.0), (1685, 0.0), (1686, 0.0), (1687, 0.0), (1688, 0.0), (1689, 0.0), (1690, 0.0), (1691, 0.0), (1692, 0.0), (1693, 0.0), (1694, 0.0), (1695, 0.0), (1696, 0.0), (1697, 0.0), (1699, 0.0), (1702, 0.0), (1703, 0.0), (1704, 0.0), (1705, 0.0), (1706, 0.0), (1708, 0.0), (1710, 0.0), (1711, 0.0), (1712, 0.0), (1714, 0.0), (1715, 0.0), (1717, 0.0), (1718, 0.0), (1720, 0.0), (1721, 0.0), (1722, 0.0), (1723, 0.0), (1725, 0.0), (1726, 0.0), (1727, 0.0), (1728, 0.0), (1730, 0.0), (1731, 0.0), (1732, 0.0), (1733, 0.0), (1734, 0.0), (1735, 0.0), (1736, 0.0), (1737, 0.0), (1738, 0.0), (1739, 0.0), (1740, 0.0), (1741, 0.0), (1743, 0.0), (1744, 0.0), (1745, 0.0), (1746, 0.0), (1747, 0.0), (1748, 0.0), (1749, 0.0), (1750, 0.0), (1751, 0.0), (1753, 0.0), (1754, 0.0), (1755, 0.0), (1756, 0.0), (1757, 0.0), (1758, 0.0), (1759, 0.0), (1760, 0.0), (1762, 0.0), (1763, 0.0), (1765, 0.0), (1766, 0.0), (1767, 0.0), (1768, 0.0), (1769, 0.0), (1770, 0.0), (1772, 0.0), (1773, 0.0), (1774, 0.0), (1775, 0.0), (1776, 0.0), (1777, 0.0), (1778, 0.0), (1780, 0.0), (1781, 0.0), (1783, 0.0), (1784, 0.0), (1785, 0.0), (1787, 0.0), (1788, 0.0), (1789, 0.0), (1790, 0.0), (1791, 0.0), (1792, 0.0), (1793, 0.0), (1794, 0.0), (1795, 0.0), (1797, 0.0), (1800, 0.0), (1801, 0.0), (1803, 0.0), (1806, 0.0), (1807, 0.0), (1808, 0.0), (1809, 0.0), (1811, 0.0), (1812, 0.0), (1813, 0.0), (1814, 0.0), (1816, 0.0), (1817, 0.0), (1818, 0.0), (1820, 0.0), (1822, 0.0), (1823, 0.0), (1825, 0.0), (1826, 0.0), (1828, 0.0), (1830, 0.0), (1832, 0.0), (1833, 0.0), (1834, 0.0), (1836, 0.0), (1837, 0.0), (1838, 0.0), (1839, 0.0), (1841, 0.0), (1842, 0.0), (1843, 0.0), (1844, 0.0), (1845, 0.0), (1848, 0.0), (1849, 0.0), (1850, 0.0), (1853, 0.0), (1854, 0.0), (1855, 0.0), (1856, 0.0), (1858, 0.0), (1859, 0.0), (1861, 0.0), (1862, 0.0), (1863, 0.0), (1865, 0.0), (1866, 0.0), (1867, 0.0), (1868, 0.0), (1869, 0.0), (1870, 0.0), (1872, 0.0), (1873, 0.0), (1874, 0.0), (1875, 0.0), (1876, 0.0), (1877, 0.0), (1878, 0.0), (1879, 0.0), (1881, 0.0), (1882, 0.0), (1883, 0.0), (1884, 0.0), (1885, 0.0), (1886, 0.0), (1887, 0.0), (1888, 0.0), (1889, 0.0), (1890, 0.0), (1891, 0.0), (1892, 0.0), (1893, 0.0), (1894, 0.0), (1895, 0.0), (1896, 0.0), (1897, 0.0), (1898, 0.0), (1899, 0.0), (1900, 0.0), (1901, 0.0), (1903, 0.0), (1904, 0.0), (1905, 0.0), (1906, 0.0), (1909, 0.0), (1910, 0.0), (1911, 0.0), (1912, 0.0), (1913, 0.0), (1914, 0.0), (1915, 0.0), (1916, 0.0), (1917, 0.0), (1919, 0.0), (1920, 0.0), (1921, 0.0), (1922, 0.0), (1923, 0.0), (1925, 0.0), (1926, 0.0), (1927, 0.0), (1929, 0.0), (1930, 0.0), (1931, 0.0), (1932, 0.0), (1933, 0.0), (1935, 0.0), (1936, 0.0), (1937, 0.0), (1938, 0.0), (1939, 0.0), (1940, 0.0), (1941, 0.0), (1942, 0.0), (1943, 0.0), (1944, 0.0), (1946, 0.0), (1947, 0.0), (1950, 0.0), (1951, 0.0), (1952, 0.0), (1953, 0.0), (1954, 0.0), (1955, 0.0), (1956, 0.0), (1957, 0.0), (1958, 0.0), (1959, 0.0), (1960, 0.0), (1961, 0.0), (1962, 0.0), (1963, 0.0), (1964, 0.0), (1965, 0.0), (1966, 0.0), (1968, 0.0), (1969, 0.0), (1971, 0.0), (1972, 0.0), (1973, 0.0), (1975, 0.0), (1976, 0.0), (1977, 0.0), (1978, 0.0), (1979, 0.0), (1980, 0.0), (1981, 0.0), (1982, 0.0), (1983, 0.0), (1984, 0.0), (1987, 0.0), (1989, 0.0), (1990, 0.0), (1991, 0.0), (1992, 0.0), (1993, 0.0), (1995, 0.0), (1998, 0.0), (1999, 0.0), (2001, 0.0), (2002, 0.0), (2003, 0.0), (2005, 0.0), (2006, 0.0), (2007, 0.0), (2008, 0.0), (2009, 0.0), (2010, 0.0), (2011, 0.0), (2012, 0.0), (2015, 0.0), (2016, 0.0), (2017, 0.0), (2018, 0.0), (2019, 0.0), (2020, 0.0), (2021, 0.0), (2024, 0.0), (2025, 0.0), (2026, 0.0), (2027, 0.0), (2028, 0.0), (2029, 0.0), (2030, 0.0), (2031, 0.0), (2032, 0.0), (2033, 0.0), (2034, 0.0), (2035, 0.0), (2038, 0.0), (2040, 0.0), (2042, 0.0), (2044, 0.0), (2045, 0.0), (2048, 0.0), (2049, 0.0), (2051, 0.0), (2052, 0.0), (2053, 0.0), (2054, 0.0), (2055, 0.0), (2056, 0.0), (2057, 0.0), (2058, 0.0), (2059, 0.0), (2062, 0.0), (2063, 0.0), (2064, 0.0), (2065, 0.0), (2066, 0.0), (2068, 0.0), (2069, 0.0), (2070, 0.0), (2071, 0.0), (2073, 0.0), (2075, 0.0), (2076, 0.0), (2077, 0.0), (2078, 0.0), (2079, 0.0), (2080, 0.0), (2081, 0.0), (2082, 0.0), (2083, 0.0), (2084, 0.0), (2085, 0.0), (2086, 0.0), (2087, 0.0), (2088, 0.0), (2089, 0.0), (2090, 0.0), (2091, 0.0), (2092, 0.0), (2094, 0.0), (2098, 0.0), (2099, 0.0), (2100, 0.0), (2101, 0.0), (2103, 0.0), (2104, 0.0), (2105, 0.0), (2107, 0.0), (2108, 0.0), (2111, 0.0), (2112, 0.0), (2113, 0.0), (2114, 0.0), (2115, 0.0), (2116, 0.0), (2120, 0.0), (2121, 0.0), (2122, 0.0), (2123, 0.0), (2124, 0.0), (2125, 0.0), (2126, 0.0), (2127, 0.0), (2128, 0.0), (2129, 0.0), (2130, 0.0), (2131, 0.0), (2132, 0.0), (2133, 0.0), (2134, 0.0), (2136, 0.0), (2137, 0.0), (2138, 0.0), (2139, 0.0), (2140, 0.0), (2141, 0.0), (2142, 0.0), (2143, 0.0), (2144, 0.0), (2145, 0.0), (2146, 0.0), (2147, 0.0), (2148, 0.0), (2149, 0.0), (2150, 0.0), (2151, 0.0), (2152, 0.0), (2153, 0.0), (2154, 0.0), (2156, 0.0), (2158, 0.0), (2159, 0.0), (2160, 0.0), (2161, 0.0), (2162, 0.0), (2163, 0.0), (2166, 0.0), (2169, 0.0), (2170, 0.0), (2171, 0.0), (2172, 0.0), (2173, 0.0), (2174, 0.0), (2175, 0.0), (2176, 0.0), (2177, 0.0), (2178, 0.0), (2180, 0.0), (2181, 0.0), (2182, 0.0), (2183, 0.0), (2184, 0.0), (2185, 0.0), (2186, 0.0), (2187, 0.0), (2188, 0.0), (2189, 0.0), (2190, 0.0), (2191, 0.0), (2192, 0.0), (2193, 0.0), (2194, 0.0), (2196, 0.0), (2197, 0.0), (2198, 0.0), (2199, 0.0), (2200, 0.0), (2201, 0.0), (2202, 0.0), (2203, 0.0), (2204, 0.0), (2206, 0.0), (2208, 0.0), (2209, 0.0), (2212, 0.0), (2213, 0.0), (2214, 0.0), (2215, 0.0), (2216, 0.0), (2217, 0.0), (2218, 0.0), (2219, 0.0), (2220, 0.0), (2221, 0.0), (2222, 0.0), (2223, 0.0), (2224, 0.0), (2225, 0.0), (2226, 0.0), (2227, 0.0), (2228, 0.0), (2231, 0.0), (2232, 0.0), (2233, 0.0), (2234, 0.0), (2235, 0.0), (2237, 0.0), (2238, 0.0), (2243, 0.0), (2244, 0.0), (2245, 0.0), (2247, 0.0), (2248, 0.0), (2251, 0.0), (2252, 0.0), (2253, 0.0), (2255, 0.0), (2257, 0.0), (2258, 0.0), (2260, 0.0), (2261, 0.0), (2262, 0.0), (2263, 0.0), (2264, 0.0), (2265, 0.0), (2266, 0.0), (2267, 0.0), (2268, 0.0), (2269, 0.0), (2270, 0.0), (2271, 0.0), (2272, 0.0), (2273, 0.0), (2275, 0.0), (2276, 0.0), (2278, 0.0), (2279, 0.0), (2281, 0.0), (2282, 0.0), (2286, 0.0), (2287, 0.0), (2288, 0.0), (2289, 0.0), (2291, 0.0), (2292, 0.0), (2293, 0.0), (2295, 0.0), (2296, 0.0), (2297, 0.0), (2298, 0.0), (2299, 0.0), (2300, 0.0), (2302, 0.0), (2303, 0.0), (2304, 0.0), (2305, 0.0), (2306, 0.0), (2307, 0.0), (2308, 0.0), (2309, 0.0), (2310, 0.0), (2311, 0.0), (2312, 0.0), (2314, 0.0), (2315, 0.0), (2316, 0.0), (2317, 0.0), (2318, 0.0), (2319, 0.0), (2320, 0.0), (2322, 0.0), (2323, 0.0), (2324, 0.0), (2325, 0.0), (2326, 0.0), (2328, 0.0), (2329, 0.0), (2330, 0.0), (2331, 0.0), (2332, 0.0), (2333, 0.0), (2334, 0.0), (2335, 0.0), (2336, 0.0), (2339, 0.0), (2340, 0.0), (2341, 0.0), (2343, 0.0), (2344, 0.0), (2346, 0.0), (2347, 0.0), (2348, 0.0), (2349, 0.0), (2350, 0.0), (2351, 0.0), (2352, 0.0), (2353, 0.0), (2355, 0.0), (2356, 0.0), (2357, 0.0), (2358, 0.0), (2360, 0.0), (2361, 0.0), (2362, 0.0), (2363, 0.0), (2364, 0.0), (2365, 0.0), (2366, 0.0), (2368, 0.0), (2369, 0.0), (2370, 0.0), (2371, 0.0), (2372, 0.0), (2373, 0.0), (2376, 0.0), (2378, 0.0), (2379, 0.0), (2380, 0.0), (2382, 0.0), (2383, 0.0), (2385, 0.0), (2386, 0.0), (2387, 0.0), (2388, 0.0), (2389, 0.0), (2390, 0.0), (2391, 0.0), (2392, 0.0), (2393, 0.0), (2394, 0.0), (2395, 0.0), (2399, 0.0), (2401, 0.0), (2403, 0.0), (2404, 0.0), (2405, 0.0), (2406, 0.0), (2407, 0.0), (2408, 0.0), (2409, 0.0), (2410, 0.0), (2411, 0.0), (2412, 0.0), (2413, 0.0), (2414, 0.0), (2415, 0.0), (2416, 0.0), (2417, 0.0), (2418, 0.0), (2419, 0.0), (2420, 0.0), (2421, 0.0), (2422, 0.0), (2423, 0.0), (2424, 0.0), (2425, 0.0), (2426, 0.0), (2427, 0.0), (2429, 0.0), (2430, 0.0), (2431, 0.0), (2433, 0.0), (2434, 0.0), (2435, 0.0), (2436, 0.0), (2437, 0.0), (2438, 0.0), (2439, 0.0), (2440, 0.0), (2442, 0.0), (2443, 0.0), (2444, 0.0), (2445, 0.0), (2446, 0.0), (2448, 0.0), (2449, 0.0), (2450, 0.0), (2451, 0.0), (2452, 0.0), (2453, 0.0), (2454, 0.0), (2455, 0.0), (2457, 0.0), (2458, 0.0), (2459, 0.0), (2460, 0.0), (2461, 0.0), (2462, 0.0), (2463, 0.0), (2464, 0.0), (2465, 0.0), (2466, 0.0), (2467, 0.0), (2468, 0.0), (2469, 0.0), (2470, 0.0), (2472, 0.0), (2473, 0.0), (2475, 0.0), (2476, 0.0), (2477, 0.0), (2478, 0.0), (2479, 0.0), (2480, 0.0), (2482, 0.0), (2483, 0.0), (2484, 0.0), (2485, 0.0), (2486, 0.0), (2487, 0.0), (2488, 0.0), (2489, 0.0), (2490, 0.0), (2491, 0.0), (2492, 0.0), (2493, 0.0), (2495, 0.0), (2497, 0.0), (2498, 0.0), (2499, 0.0), (2500, 0.0), (2501, 0.0), (2502, 0.0), (2504, 0.0), (2506, 0.0), (2507, 0.0), (2509, 0.0), (2510, 0.0), (2511, 0.0), (2512, 0.0), (2513, 0.0), (2514, 0.0), (2515, 0.0), (2516, 0.0), (2518, 0.0), (2519, 0.0), (2520, 0.0), (2521, 0.0), (2522, 0.0), (2523, 0.0), (2526, 0.0), (2527, 0.0), (2528, 0.0), (2529, 0.0), (2530, 0.0), (2531, 0.0), (2532, 0.0), (2533, 0.0), (2534, 0.0), (2535, 0.0), (2536, 0.0), (2537, 0.0), (2538, 0.0), (2540, 0.0), (2542, 0.0), (2543, 0.0), (2544, 0.0), (2546, 0.0), (2547, 0.0), (2548, 0.0), (2549, 0.0), (2550, 0.0), (2554, 0.0), (2555, 0.0), (2556, 0.0), (2557, 0.0), (2558, 0.0), (2559, 0.0), (2560, 0.0), (2561, 0.0), (2562, 0.0), (2564, 0.0), (2565, 0.0), (2566, 0.0), (2567, 0.0), (2568, 0.0), (2569, 0.0), (2570, 0.0), (2571, 0.0), (2573, 0.0), (2574, 0.0), (2575, 0.0), (2576, 0.0), (2577, 0.0), (2578, 0.0), (2579, 0.0), (2580, 0.0), (2581, 0.0), (2582, 0.0), (2583, 0.0), (2584, 0.0), (2585, 0.0), (2586, 0.0), (2588, 0.0), (2590, 0.0), (2591, 0.0), (2592, 0.0), (2593, 0.0), (2595, 0.0), (2596, 0.0), (2597, 0.0), (2599, 0.0), (2600, 0.0), (2601, 0.0), (2602, 0.0), (2603, 0.0), (2605, 0.0), (2606, 0.0), (2607, 0.0), (2609, 0.0), (2610, 0.0), (2611, 0.0), (2612, 0.0), (2613, 0.0), (2614, 0.0), (2617, 0.0), (2618, 0.0), (2619, 0.0), (2621, 0.0), (2622, 0.0), (2623, 0.0), (2626, 0.0), (2627, 0.0), (2630, 0.0), (2631, 0.0), (2633, 0.0), (2634, 0.0), (2635, 0.0), (2639, 0.0), (2640, 0.0), (2641, 0.0), (2643, 0.0), (2644, 0.0), (2645, 0.0), (2646, 0.0), (2648, 0.0), (2649, 0.0), (2650, 0.0), (2652, 0.0), (2653, 0.0), (2654, 0.0), (2655, 0.0), (2656, 0.0), (2657, 0.0), (2658, 0.0), (2659, 0.0), (2660, 0.0), (2661, 0.0), (2662, 0.0), (2663, 0.0), (2664, 0.0), (2666, 0.0), (2667, 0.0), (2669, 0.0), (2670, 0.0), (2672, 0.0), (2673, 0.0), (2674, 0.0), (2675, 0.0), (2676, 0.0), (2678, 0.0), (2679, 0.0), (2680, 0.0), (2681, 0.0), (2683, 0.0), (2686, 0.0), (2687, 0.0), (2688, 0.0), (2690, 0.0), (2691, 0.0), (2692, 0.0), (2693, 0.0), (2695, 0.0), (2696, 0.0), (2697, 0.0), (2700, 0.0), (2701, 0.0), (2702, 0.0), (2703, 0.0), (2704, 0.0), (2705, 0.0), (2706, 0.0), (2707, 0.0), (2708, 0.0), (2709, 0.0), (2710, 0.0), (2711, 0.0), (2712, 0.0), (2713, 0.0), (2714, 0.0), (2715, 0.0), (2716, 0.0), (2717, 0.0), (2718, 0.0), (2719, 0.0), (2720, 0.0), (2721, 0.0), (2722, 0.0), (2723, 0.0), (2724, 0.0), (2725, 0.0), (2726, 0.0), (2727, 0.0), (2728, 0.0), (2729, 0.0), (2731, 0.0), (2733, 0.0), (2734, 0.0), (2735, 0.0), (2736, 0.0), (2737, 0.0), (2738, 0.0), (2739, 0.0), (2740, 0.0), (2741, 0.0), (2742, 0.0), (2743, 0.0), (2744, 0.0), (2747, 0.0), (2748, 0.0), (2750, 0.0), (2751, 0.0), (2752, 0.0), (2753, 0.0), (2754, 0.0), (2755, 0.0), (2757, 0.0), (2758, 0.0), (2759, 0.0), (2760, 0.0), (2761, 0.0), (2762, 0.0), (2763, 0.0), (2764, 0.0), (2765, 0.0), (2766, 0.0), (2768, 0.0), (2769, 0.0), (2770, 0.0), (2771, 0.0), (2773, 0.0), (2774, 0.0), (2775, 0.0), (2776, 0.0), (2777, 0.0), (2778, 0.0), (2779, 0.0), (2780, 0.0), (2782, 0.0), (2783, 0.0), (2784, 0.0), (2785, 0.0), (2786, 0.0), (2787, 0.0), (2788, 0.0), (2791, 0.0), (2792, 0.0), (2793, 0.0), (2794, 0.0), (2796, 0.0), (2797, 0.0), (2798, 0.0), (2800, 0.0), (2801, 0.0), (2804, 0.0), (2805, 0.0), (2806, 0.0), (2807, 0.0), (2808, 0.0), (2809, 0.0), (2811, 0.0), (2812, 0.0), (2813, 0.0), (2815, 0.0), (2816, 0.0), (2818, 0.0), (2819, 0.0), (2820, 0.0), (2821, 0.0), (2822, 0.0), (2823, 0.0), (2824, 0.0), (2825, 0.0), (2827, 0.0), (2828, 0.0), (2829, 0.0), (2830, 0.0), (2831, 0.0), (2832, 0.0), (2833, 0.0), (2834, 0.0), (2835, 0.0), (2836, 0.0), (2837, 0.0), (2838, 0.0), (2840, 0.0), (2843, 0.0), (2844, 0.0), (2846, 0.0), (2847, 0.0), (2848, 0.0), (2849, 0.0), (2850, 0.0), (2851, 0.0), (2852, 0.0), (2853, 0.0), (2854, 0.0), (2855, 0.0), (2856, 0.0), (2857, 0.0), (2858, 0.0), (2859, 0.0), (2860, 0.0), (2861, 0.0), (2862, 0.0), (2863, 0.0), (2864, 0.0), (2865, 0.0), (2866, 0.0), (2867, 0.0), (2868, 0.0), (2869, 0.0), (2870, 0.0), (2871, 0.0), (2872, 0.0), (2874, 0.0), (2875, 0.0), (2876, 0.0), (2878, 0.0), (2879, 0.0), (2880, 0.0), (2881, 0.0), (2882, 0.0), (2883, 0.0), (2884, 0.0), (2885, 0.0), (2886, 0.0), (2887, 0.0), (2888, 0.0), (2889, 0.0), (2890, 0.0), (2893, 0.0), (2894, 0.0), (2896, 0.0), (2897, 0.0), (2898, 0.0), (2899, 0.0), (2900, 0.0), (2901, 0.0), (2903, 0.0), (2905, 0.0), (2906, 0.0), (2907, 0.0), (2908, 0.0), (2909, 0.0), (2914, 0.0), (2915, 0.0), (2916, 0.0), (2917, 0.0), (2918, 0.0), (2920, 0.0), (2921, 0.0), (2922, 0.0), (2923, 0.0), (2924, 0.0), (2925, 0.0), (2926, 0.0), (2927, 0.0), (2928, 0.0), (2929, 0.0), (2930, 0.0), (2931, 0.0), (2933, 0.0), (2934, 0.0), (2935, 0.0), (2936, 0.0), (2937, 0.0), (2938, 0.0), (2939, 0.0), (2940, 0.0), (2941, 0.0), (2942, 0.0), (2943, 0.0), (2946, 0.0), (2947, 0.0), (2948, 0.0), (2949, 0.0), (2951, 0.0), (2952, 0.0), (2953, 0.0), (2955, 0.0), (2956, 0.0), (2957, 0.0), (2958, 0.0), (2960, 0.0), (2961, 0.0), (2963, 0.0), (2965, 0.0), (2966, 0.0), (2969, 0.0), (2970, 0.0), (2971, 0.0), (2973, 0.0), (2974, 0.0), (2975, 0.0), (2977, 0.0), (2978, 0.0), (2979, 0.0), (2980, 0.0), (2981, 0.0), (2983, 0.0), (2984, 0.0), (2985, 0.0), (2986, 0.0), (2987, 0.0), (2988, 0.0), (2989, 0.0), (2991, 0.0), (2992, 0.0), (2993, 0.0), (2994, 0.0), (2995, 0.0), (2996, 0.0), (2997, 0.0), (2998, 0.0), (3000, 0.0), (3001, 0.0), (3002, 0.0), (3003, 0.0), (3004, 0.0), (3005, 0.0), (3006, 0.0), (3007, 0.0), (3009, 0.0), (3010, 0.0), (3011, 0.0), (3012, 0.0), (3013, 0.0), (3014, 0.0), (3015, 0.0), (3016, 0.0), (3017, 0.0), (3018, 0.0), (3019, 0.0), (3020, 0.0), (3021, 0.0), (3022, 0.0), (3023, 0.0), (3024, 0.0), (3025, 0.0), (3026, 0.0), (3027, 0.0), (3029, 0.0), (3030, 0.0), (3032, 0.0), (3033, 0.0), (3034, 0.0), (3035, 0.0), (3036, 0.0), (3037, 0.0), (3038, 0.0), (3039, 0.0), (3040, 0.0), (3041, 0.0), (3042, 0.0), (3045, 0.0), (3048, 0.0), (3050, 0.0), (3051, 0.0), (3052, 0.0), (3053, 0.0), (3054, 0.0), (3055, 0.0), (3057, 0.0), (3058, 0.0), (3059, 0.0), (3060, 0.0), (3061, 0.0), (3062, 0.0), (3063, 0.0), (3064, 0.0), (3065, 0.0), (3066, 0.0), (3067, 0.0), (3068, 0.0), (3069, 0.0), (3070, 0.0), (3071, 0.0), (3072, 0.0), (3073, 0.0), (3074, 0.0), (3075, 0.0), (3076, 0.0), (3077, 0.0), (3079, 0.0), (3080, 0.0), (3081, 0.0), (3082, 0.0), (3084, 0.0), (3085, 0.0), (3086, 0.0), (3087, 0.0), (3088, 0.0), (3089, 0.0), (3090, 0.0), (3091, 0.0), (3092, 0.0), (3094, 0.0), (3095, 0.0), (3096, 0.0), (3097, 0.0), (3098, 0.0), (3099, 0.0), (3102, 0.0), (3103, 0.0), (3104, 0.0), (3105, 0.0), (3106, 0.0), (3107, 0.0), (3110, 0.0), (3111, 0.0), (3112, 0.0), (3113, 0.0), (3114, 0.0), (3115, 0.0), (3116, 0.0), (3117, 0.0), (3118, 0.0), (3119, 0.0), (3120, 0.0), (3121, 0.0), (3124, 0.0), (3125, 0.0), (3126, 0.0), (3128, 0.0), (3130, 0.0), (3131, 0.0), (3132, 0.0), (3133, 0.0), (3134, 0.0), (3135, 0.0), (3137, 0.0), (3138, 0.0), (3139, 0.0), (3141, 0.0), (3142, 0.0), (3143, 0.0), (3144, 0.0), (3145, 0.0), (3146, 0.0), (3147, 0.0), (3148, 0.0), (3149, 0.0), (3150, 0.0), (3151, 0.0), (3152, 0.0), (3153, 0.0), (3154, 0.0), (3155, 0.0), (3157, 0.0), (3158, 0.0), (3159, 0.0), (3161, 0.0), (3162, 0.0), (3163, 0.0), (3164, 0.0), (3165, 0.0), (3166, 0.0), (3167, 0.0), (3168, 0.0), (3169, 0.0), (3170, 0.0), (3171, 0.0), (3172, 0.0), (3176, 0.0), (3177, 0.0), (3178, 0.0), (3179, 0.0), (3180, 0.0), (3182, 0.0), (3185, 0.0), (3187, 0.0), (3191, 0.0), (3192, 0.0), (3193, 0.0), (3194, 0.0), (3195, 0.0), (3196, 0.0), (3197, 0.0), (3198, 0.0), (3199, 0.0), (3201, 0.0), (3203, 0.0), (3204, 0.0), (3205, 0.0), (3208, 0.0), (3209, 0.0), (3212, 0.0), (3213, 0.0), (3214, 0.0), (3215, 0.0), (3216, 0.0), (3217, 0.0), (3218, 0.0), (3219, 0.0), (3220, 0.0), (3221, 0.0), (3222, 0.0), (3224, 0.0), (3225, 0.0), (3226, 0.0), (3227, 0.0), (3228, 0.0), (3229, 0.0), (3230, 0.0), (3231, 0.0), (3232, 0.0), (3233, 0.0), (3234, 0.0), (3237, 0.0), (3238, 0.0), (3239, 0.0), (3240, 0.0), (3241, 0.0), (3242, 0.0), (3243, 0.0), (3244, 0.0), (3245, 0.0), (3247, 0.0), (3248, 0.0), (3249, 0.0), (3250, 0.0), (3251, 0.0), (3252, 0.0), (3253, 0.0), (3255, 0.0), (3256, 0.0), (3257, 0.0), (3258, 0.0), (3259, 0.0), (3260, 0.0), (3261, 0.0), (3262, 0.0), (3263, 0.0), (3265, 0.0), (3266, 0.0), (3268, 0.0), (3269, 0.0), (3270, 0.0), (3271, 0.0), (3272, 0.0), (3273, 0.0), (3274, 0.0), (3276, 0.0), (3278, 0.0), (3279, 0.0), (3280, 0.0), (3281, 0.0), (3283, 0.0), (3284, 0.0), (3285, 0.0), (3286, 0.0), (3287, 0.0), (3288, 0.0), (3289, 0.0), (3290, 0.0), (3291, 0.0), (3292, 0.0), (3293, 0.0), (3294, 0.0), (3295, 0.0), (3296, 0.0), (3297, 0.0), (3298, 0.0), (3299, 0.0), (3300, 0.0), (3301, 0.0), (3303, 0.0), (3305, 0.0), (3306, 0.0), (3307, 0.0), (3308, 0.0), (3309, 0.0), (3310, 0.0), (3311, 0.0), (3312, 0.0), (3313, 0.0), (3315, 0.0), (3316, 0.0), (3317, 0.0), (3318, 0.0), (3319, 0.0), (3320, 0.0), (3321, 0.0), (3322, 0.0), (3323, 0.0), (3324, 0.0), (3325, 0.0), (3326, 0.0), (3327, 0.0), (3329, 0.0), (3330, 0.0), (3331, 0.0), (3332, 0.0), (3333, 0.0), (3334, 0.0), (3335, 0.0), (3336, 0.0), (3337, 0.0), (3338, 0.0), (3339, 0.0), (3340, 0.0), (3341, 0.0), (3343, 0.0), (3345, 0.0), (3346, 0.0), (3348, 0.0), (3349, 0.0), (3350, 0.0), (3352, 0.0), (3353, 0.0), (3354, 0.0), (3355, 0.0), (3356, 0.0), (3357, 0.0), (3358, 0.0), (3359, 0.0), (3360, 0.0), (3361, 0.0), (3362, 0.0), (3363, 0.0), (3366, 0.0), (3367, 0.0), (3368, 0.0), (3369, 0.0), (3370, 0.0), (3371, 0.0), (3372, 0.0), (3373, 0.0), (3374, 0.0), (3375, 0.0), (3376, 0.0), (3377, 0.0), (3379, 0.0), (3380, 0.0), (3381, 0.0), (3383, 0.0), (3385, 0.0), (3386, 0.0), (3387, 0.0), (3389, 0.0), (3391, 0.0), (3394, 0.0), (3396, 0.0), (3397, 0.0), (3399, 0.0), (3401, 0.0), (3402, 0.0), (3403, 0.0), (3404, 0.0), (3406, 0.0), (3407, 0.0), (3408, 0.0), (3409, 0.0), (3410, 0.0), (3411, 0.0), (3412, 0.0), (3413, 0.0), (3414, 0.0), (3415, 0.0), (3416, 0.0), (3417, 0.0), (3418, 0.0), (3419, 0.0), (3420, 0.0), (3422, 0.0), (3423, 0.0), (3424, 0.0), (3425, 0.0), (3427, 0.0), (3428, 0.0), (3429, 0.0), (3431, 0.0), (3432, 0.0), (3433, 0.0), (3434, 0.0), (3435, 0.0), (3436, 0.0), (3437, 0.0), (3439, 0.0), (3440, 0.0), (3441, 0.0), (3442, 0.0), (3443, 0.0), (3444, 0.0), (3446, 0.0), (3447, 0.0), (3448, 0.0), (3449, 0.0), (3450, 0.0), (3451, 0.0), (3452, 0.0), (3454, 0.0), (3455, 0.0), (3457, 0.0), (3459, 0.0), (3461, 0.0), (3462, 0.0), (3464, 0.0), (3465, 0.0), (3466, 0.0), (3467, 0.0), (3470, 0.0), (3471, 0.0), (3472, 0.0), (3474, 0.0), (3475, 0.0), (3476, 0.0), (3477, 0.0), (3478, 0.0), (3480, 0.0), (3481, 0.0), (3482, 0.0), (3484, 0.0), (3486, 0.0), (3487, 0.0), (3488, 0.0), (3489, 0.0), (3492, 0.0), (3494, 0.0), (3495, 0.0), (3496, 0.0), (3497, 0.0), (3498, 0.0), (3499, 0.0), (3500, 0.0), (3501, 0.0), (3502, 0.0), (3504, 0.0), (3505, 0.0), (3507, 0.0), (3508, 0.0), (3509, 0.0), (3511, 0.0), (3512, 0.0), (3513, 0.0), (3514, 0.0), (3519, 0.0), (3520, 0.0), (3521, 0.0), (3523, 0.0), (3524, 0.0), (3525, 0.0), (3526, 0.0), (3527, 0.0), (3528, 0.0), (3529, 0.0), (3530, 0.0), (3531, 0.0), (3532, 0.0), (3533, 0.0), (3535, 0.0), (3536, 0.0), (3539, 0.0), (3540, 0.0), (3542, 0.0), (3543, 0.0), (3544, 0.0), (3545, 0.0), (3546, 0.0), (3547, 0.0), (3548, 0.0), (3549, 0.0), (3552, 0.0), (3554, 0.0), (3555, 0.0), (3556, 0.0), (3557, 0.0), (3558, 0.0), (3559, 0.0), (3560, 0.0), (3561, 0.0), (3562, 0.0), (3565, 0.0), (3566, 0.0), (3567, 0.0), (3569, 0.0), (3571, 0.0), (3572, 0.0), (3573, 0.0), (3575, 0.0), (3576, 0.0), (3577, 0.0), (3578, 0.0), (3579, 0.0), (3580, 0.0), (3581, 0.0), (3582, 0.0), (3583, 0.0), (3585, 0.0), (3588, 0.0), (3589, 0.0), (3590, 0.0), (3591, 0.0), (3592, 0.0), (3593, 0.0), (3594, 0.0), (3595, 0.0), (3596, 0.0), (3597, 0.0), (3598, 0.0), (3599, 0.0), (3600, 0.0), (3601, 0.0), (3603, 0.0), (3604, 0.0), (3605, 0.0), (3606, 0.0), (3607, 0.0), (3608, 0.0), (3609, 0.0), (3610, 0.0), (3611, 0.0), (3613, 0.0), (3614, 0.0), (3615, 0.0), (3616, 0.0), (3617, 0.0), (3619, 0.0), (3620, 0.0), (3621, 0.0), (3622, 0.0), (3624, 0.0), (3625, 0.0), (3627, 0.0), (3628, 0.0), (3629, 0.0), (3630, 0.0), (3631, 0.0), (3632, 0.0), (3634, 0.0), (3635, 0.0), (3636, 0.0), (3637, 0.0), (3639, 0.0), (3640, 0.0), (3641, 0.0), (3643, 0.0), (3645, 0.0), (3646, 0.0), (3647, 0.0), (3648, 0.0), (3649, 0.0), (3650, 0.0), (3651, 0.0), (3652, 0.0), (3653, 0.0), (3657, 0.0), (3658, 0.0), (3660, 0.0), (3661, 0.0), (3662, 0.0), (3663, 0.0), (3664, 0.0), (3665, 0.0), (3666, 0.0), (3668, 0.0), (3669, 0.0), (3670, 0.0), (3671, 0.0), (3672, 0.0), (3673, 0.0), (3674, 0.0), (3675, 0.0), (3676, 0.0), (3678, 0.0), (3679, 0.0), (3681, 0.0), (3682, 0.0), (3683, 0.0), (3684, 0.0), (3685, 0.0), (3686, 0.0), (3687, 0.0), (3688, 0.0), (3689, 0.0), (3690, 0.0), (3691, 0.0), (3692, 0.0), (3693, 0.0), (3696, 0.0), (3697, 0.0), (3698, 0.0), (3699, 0.0), (3700, 0.0), (3702, 0.0), (3703, 0.0), (3704, 0.0), (3705, 0.0), (3707, 0.0), (3708, 0.0), (3709, 0.0), (3710, 0.0), (3715, 0.0), (3716, 0.0), (3717, 0.0), (3718, 0.0), (3719, 0.0), (3720, 0.0), (3722, 0.0), (3723, 0.0), (3724, 0.0), (3725, 0.0), (3726, 0.0), (3727, 0.0), (3728, 0.0), (3729, 0.0), (3731, 0.0), (3733, 0.0), (3735, 0.0), (3736, 0.0), (3737, 0.0), (3738, 0.0), (3739, 0.0), (3742, 0.0), (3743, 0.0), (3744, 0.0), (3745, 0.0), (3746, 0.0), (3747, 0.0), (3749, 0.0), (3752, 0.0), (3753, 0.0), (3755, 0.0), (3756, 0.0), (3757, 0.0), (3758, 0.0), (3760, 0.0), (3761, 0.0), (3762, 0.0), (3763, 0.0), (3764, 0.0), (3765, 0.0), (3768, 0.0), (3771, 0.0), (3772, 0.0), (3774, 0.0), (3776, 0.0), (3777, 0.0), (3778, 0.0), (3779, 0.0), (3782, 0.0), (3783, 0.0), (3784, 0.0), (3785, 0.0), (3786, 0.0), (3787, 0.0), (3789, 0.0), (3792, 0.0), (3793, 0.0), (3794, 0.0), (3795, 0.0), (3796, 0.0), (3797, 0.0), (3798, 0.0), (3799, 0.0), (3800, 0.0), (3801, 0.0), (3803, 0.0), (3804, 0.0), (3805, 0.0), (3807, 0.0), (3808, 0.0), (3809, 0.0), (3810, 0.0), (3811, 0.0), (3812, 0.0), (3815, 0.0), (3816, 0.0), (3817, 0.0), (3818, 0.0), (3820, 0.0), (3821, 0.0), (3822, 0.0), (3825, 0.0), (3826, 0.0), (3827, 0.0), (3828, 0.0), (3829, 0.0), (3830, 0.0), (3831, 0.0), (3832, 0.0), (3833, 0.0), (3835, 0.0), (3836, 0.0), (3837, 0.0), (3838, 0.0), (3839, 0.0), (3842, 0.0), (3843, 0.0), (3845, 0.0), (3846, 0.0), (3847, 0.0), (3848, 0.0), (3849, 0.0), (3851, 0.0), (3852, 0.0), (3854, 0.0), (3856, 0.0), (3857, 0.0), (3858, 0.0), (3859, 0.0), (3860, 0.0), (3861, 0.0), (3862, 0.0), (3863, 0.0), (3864, 0.0), (3865, 0.0), (3866, 0.0), (3867, 0.0), (3868, 0.0), (3872, 0.0), (3874, 0.0), (3875, 0.0), (3876, 0.0), (3879, 0.0), (3882, 0.0), (3885, 0.0), (3886, 0.0), (3887, 0.0), (3889, 0.0), (3890, 0.0), (3891, 0.0), (3892, 0.0), (3893, 0.0), (3894, 0.0), (3895, 0.0), (3896, 0.0), (3898, 0.0), (3899, 0.0), (3902, 0.0), (3904, 0.0), (3905, 0.0), (3906, 0.0), (3907, 0.0), (3909, 0.0), (3910, 0.0), (3911, 0.0), (3912, 0.0), (3913, 0.0), (3914, 0.0), (3915, 0.0), (3917, 0.0), (3918, 0.0), (3919, 0.0), (3920, 0.0), (3921, 0.0), (3922, 0.0), (3923, 0.0), (3924, 0.0), (3925, 0.0), (3926, 0.0), (3927, 0.0), (3928, 0.0), (3929, 0.0), (3931, 0.0), (3932, 0.0), (3933, 0.0), (3934, 0.0), (3935, 0.0), (3936, 0.0), (3938, 0.0), (3939, 0.0), (3940, 0.0), (3941, 0.0), (3943, 0.0), (3944, 0.0), (3945, 0.0), (3946, 0.0), (3947, 0.0), (3948, 0.0), (3950, 0.0), (3951, 0.0), (3953, 0.0), (3954, 0.0), (3955, 0.0), (3956, 0.0), (3957, 0.0), (3958, 0.0), (3959, 0.0), (3960, 0.0), (3961, 0.0), (3962, 0.0), (3964, 0.0), (3965, 0.0), (3966, 0.0), (3967, 0.0), (3968, 0.0), (3969, 0.0), (3970, 0.0), (3971, 0.0), (3972, 0.0), (3973, 0.0), (3974, 0.0), (3975, 0.0), (3976, 0.0), (3977, 0.0), (3978, 0.0), (3979, 0.0), (3980, 0.0), (3981, 0.0), (3982, 0.0), (3983, 0.0), (3984, 0.0), (3985, 0.0), (3987, 0.0), (3988, 0.0), (3989, 0.0), (3991, 0.0), (3992, 0.0), (3993, 0.0), (3994, 0.0), (3995, 0.0), (3996, 0.0), (3997, 0.0), (3998, 0.0), (3999, 0.0), (4004, 0.0), (4006, 0.0), (4007, 0.0), (4008, 0.0), (4009, 0.0), (4011, 0.0), (4012, 0.0), (4014, 0.0), (4015, 0.0), (4016, 0.0), (4018, 0.0), (4019, 0.0), (4020, 0.0), (4021, 0.0), (4022, 0.0), (4023, 0.0), (4024, 0.0), (4025, 0.0), (4026, 0.0), (4027, 0.0), (4028, 0.0), (4029, 0.0), (4030, 0.0), (4031, 0.0), (4032, 0.0), (4033, 0.0), (4034, 0.0), (4035, 0.0), (4036, 0.0), (4037, 0.0), (4038, 0.0), (4039, 0.0), (4040, 0.0), (4041, 0.0), (4042, 0.0), (4043, 0.0), (4044, 0.0), (4045, 0.0), (4046, 0.0), (4047, 0.0), (4048, 0.0), (4049, 0.0), (4050, 0.0), (4051, 0.0), (4052, 0.0), (4054, 0.0), (4055, 0.0), (4056, 0.0), (4057, 0.0), (4059, 0.0), (4060, 0.0), (4063, 0.0), (4064, 0.0), (4065, 0.0), (4066, 0.0), (4067, 0.0), (4068, 0.0), (4071, 0.0), (4072, 0.0), (4073, 0.0), (4074, 0.0), (4075, 0.0), (4076, 0.0), (4077, 0.0), (4079, 0.0), (4080, 0.0), (4081, 0.0), (4082, 0.0), (4083, 0.0), (4084, 0.0), (4085, 0.0), (4086, 0.0), (4089, 0.0), (4090, 0.0), (4092, 0.0), (4093, 0.0), (4094, 0.0), (4095, 0.0), (4097, 0.0), (4098, 0.0), (4099, 0.0), (4100, 0.0), (4102, 0.0), (4103, 0.0), (4104, 0.0), (4105, 0.0), (4106, 0.0), (4107, 0.0), (4108, 0.0), (4109, 0.0), (4110, 0.0), (4111, 0.0), (4112, 0.0), (4113, 0.0), (4114, 0.0), (4115, 0.0), (4116, 0.0), (4117, 0.0), (4118, 0.0), (4120, 0.0), (4121, 0.0), (4122, 0.0), (4123, 0.0), (4124, 0.0), (4125, 0.0), (4126, 0.0), (4127, 0.0), (4128, 0.0), (4129, 0.0), (4130, 0.0), (4131, 0.0), (4133, 0.0), (4134, 0.0), (4135, 0.0), (4137, 0.0), (4138, 0.0), (4139, 0.0), (4140, 0.0), (4141, 0.0), (4142, 0.0), (4143, 0.0), (4144, 0.0), (4145, 0.0), (4146, 0.0), (4147, 0.0), (4148, 0.0), (4149, 0.0), (4151, 0.0), (4152, 0.0), (4154, 0.0), (4155, 0.0), (4156, 0.0), (4157, 0.0), (4158, 0.0), (4160, 0.0), (4161, 0.0), (4162, 0.0), (4163, 0.0), (4164, 0.0), (4166, 0.0), (4167, 0.0), (4169, 0.0), (4170, 0.0), (4171, 0.0), (4172, 0.0), (4174, 0.0), (4176, 0.0), (4177, 0.0), (4178, 0.0), (4179, 0.0), (4180, 0.0), (4183, 0.0), (4185, 0.0), (4186, 0.0), (4187, 0.0), (4188, 0.0), (4190, 0.0), (4191, 0.0), (4192, 0.0), (4193, 0.0), (4195, 0.0), (4196, 0.0), (4197, 0.0), (4198, 0.0), (4199, 0.0), (4203, 0.0), (4204, 0.0), (4205, 0.0), (4206, 0.0), (4207, 0.0), (4208, 0.0), (4210, 0.0), (4211, 0.0), (4212, 0.0), (4213, 0.0), (4214, 0.0), (4215, 0.0), (4216, 0.0), (4217, 0.0), (4218, 0.0), (4219, 0.0), (4220, 0.0), (4221, 0.0), (4222, 0.0), (4223, 0.0), (4224, 0.0), (4225, 0.0), (4226, 0.0), (4227, 0.0), (4228, 0.0), (4229, 0.0), (4230, 0.0), (4231, 0.0), (4232, 0.0), (4233, 0.0), (4234, 0.0), (4235, 0.0), (4236, 0.0), (4237, 0.0), (4238, 0.0), (4239, 0.0), (4241, 0.0), (4242, 0.0), (4243, 0.0), (4244, 0.0), (4246, 0.0), (4248, 0.0), (4249, 0.0), (4250, 0.0), (4251, 0.0), (4252, 0.0), (4254, 0.0), (4255, 0.0), (4257, 0.0), (4258, 0.0), (4259, 0.0), (4260, 0.0), (4261, 0.0), (4262, 0.0), (4263, 0.0), (4264, 0.0), (4265, 0.0), (4267, 0.0), (4268, 0.0), (4269, 0.0), (4270, 0.0), (4271, 0.0), (4273, 0.0), (4276, 0.0), (4277, 0.0), (4278, 0.0), (4279, 0.0), (4280, 0.0), (4281, 0.0), (4282, 0.0), (4283, 0.0), (4284, 0.0), (4285, 0.0), (4287, 0.0), (4288, 0.0), (4289, 0.0), (4290, 0.0), (4291, 0.0), (4293, 0.0), (4296, 0.0), (4297, 0.0), (4299, 0.0), (4300, 0.0), (4301, 0.0), (4302, 0.0), (4303, 0.0), (4304, 0.0), (4306, 0.0), (4307, 0.0), (4308, 0.0), (4309, 0.0), (4310, 0.0), (4311, 0.0), (4312, 0.0), (4314, 0.0), (4315, 0.0), (4317, 0.0), (4318, 0.0), (4319, 0.0), (4320, 0.0), (4321, 0.0), (4322, 0.0), (4323, 0.0), (4325, 0.0), (4326, 0.0), (4327, 0.0), (4328, 0.0), (4329, 0.0), (4331, 0.0), (4332, 0.0), (4333, 0.0), (4334, 0.0), (4335, 0.0), (4336, 0.0), (4337, 0.0), (4338, 0.0), (4341, 0.0), (4343, 0.0), (4345, 0.0), (4346, 0.0), (4348, 0.0), (4349, 0.0), (4350, 0.0), (4351, 0.0), (4352, 0.0), (4353, 0.0), (4354, 0.0), (4357, 0.0), (4358, 0.0), (4360, 0.0), (4361, 0.0), (4362, 0.0), (4363, 0.0), (4364, 0.0), (4365, 0.0), (4367, 0.0), (4371, 0.0), (4372, 0.0), (4373, 0.0), (4375, 0.0), (4377, 0.0), (4378, 0.0), (4381, 0.0), (4383, 0.0), (4384, 0.0), (4385, 0.0), (4386, 0.0), (4387, 0.0), (4388, 0.0), (4389, 0.0), (4390, 0.0), (4391, 0.0), (4393, 0.0), (4394, 0.0), (4397, 0.0), (4398, 0.0), (4399, 0.0), (4400, 0.0), (4401, 0.0), (4403, 0.0), (4404, 0.0), (4405, 0.0), (4406, 0.0), (4407, 0.0), (4408, 0.0), (4409, 0.0), (4410, 0.0), (4411, 0.0), (4412, 0.0), (4413, 0.0), (4414, 0.0), (4415, 0.0), (4416, 0.0), (4417, 0.0), (4418, 0.0), (4419, 0.0), (4421, 0.0), (4422, 0.0), (4423, 0.0), (4424, 0.0), (4425, 0.0), (4426, 0.0), (4427, 0.0), (4428, 0.0), (4429, 0.0), (4430, 0.0), (4431, 0.0), (4433, 0.0), (4434, 0.0), (4435, 0.0), (4437, 0.0), (4438, 0.0), (4439, 0.0), (4440, 0.0), (4442, 0.0), (4443, 0.0), (4445, 0.0), (4446, 0.0), (4448, 0.0), (4449, 0.0), (4451, 0.0), (4452, 0.0), (4453, 0.0), (4454, 0.0), (4455, 0.0), (4456, 0.0), (4457, 0.0), (4458, 0.0), (4459, 0.0), (4460, 0.0), (4461, 0.0), (4462, 0.0), (4465, 0.0), (4470, 0.0), (4471, 0.0), (4473, 0.0), (4474, 0.0), (4475, 0.0), (4476, 0.0), (4477, 0.0), (4478, 0.0), (4479, 0.0), (4480, 0.0), (4481, 0.0), (4483, 0.0), (4484, 0.0), (4485, 0.0), (4486, 0.0), (4487, 0.0), (4488, 0.0), (4489, 0.0), (4490, 0.0), (4491, 0.0), (4492, 0.0), (4493, 0.0), (4494, 0.0), (4495, 0.0), (4496, 0.0), (4497, 0.0), (4498, 0.0), (4499, 0.0), (4500, 0.0), (4501, 0.0), (4502, 0.0), (4504, 0.0), (4505, 0.0), (4506, 0.0), (4507, 0.0), (4508, 0.0), (4509, 0.0), (4510, 0.0), (4512, 0.0), (4513, 0.0), (4514, 0.0), (4515, 0.0), (4516, 0.0), (4519, 0.0), (4520, 0.0), (4521, 0.0), (4522, 0.0), (4523, 0.0), (4524, 0.0), (4526, 0.0), (4527, 0.0), (4528, 0.0), (4529, 0.0), (4530, 0.0), (4532, 0.0), (4534, 0.0), (4535, 0.0), (4536, 0.0), (4537, 0.0), (4538, 0.0), (4539, 0.0), (4540, 0.0), (4541, 0.0), (4542, 0.0), (4543, 0.0), (4545, 0.0), (4546, 0.0), (4547, 0.0), (4548, 0.0), (4549, 0.0), (4550, 0.0), (4552, 0.0), (4554, 0.0), (4555, 0.0), (4556, 0.0), (4557, 0.0), (4559, 0.0), (4560, 0.0), (4561, 0.0), (4562, 0.0), (4564, 0.0), (4565, 0.0), (4567, 0.0), (4568, 0.0), (4569, 0.0), (4570, 0.0), (4571, 0.0), (4573, 0.0), (4576, 0.0), (4577, 0.0), (4578, 0.0), (4579, 0.0), (4581, 0.0), (4582, 0.0), (4583, 0.0), (4586, 0.0), (4588, 0.0), (4589, 0.0), (4591, 0.0), (4592, 0.0), (4596, 0.0), (4597, 0.0), (4598, 0.0), (4599, 0.0), (4600, 0.0), (4603, 0.0), (4604, 0.0), (4605, 0.0), (4606, 0.0), (4608, 0.0), (4609, 0.0), (4610, 0.0), (4611, 0.0), (4612, 0.0), (4614, 0.0), (4615, 0.0), (4616, 0.0), (4617, 0.0), (4619, 0.0), (4622, 0.0), (4623, 0.0), (4624, 0.0), (4625, 0.0), (4626, 0.0), (4627, 0.0), (4629, 0.0), (4630, 0.0), (4631, 0.0), (4634, 0.0), (4635, 0.0), (4636, 0.0), (4637, 0.0), (4638, 0.0), (4640, 0.0), (4641, 0.0), (4642, 0.0), (4644, 0.0), (4645, 0.0), (4647, 0.0), (4648, 0.0), (4650, 0.0), (4651, 0.0), (4653, 0.0), (4654, 0.0), (4655, 0.0), (4657, 0.0), (4658, 0.0), (4661, 0.0), (4663, 0.0), (4665, 0.0), (4666, 0.0), (4667, 0.0), (4668, 0.0), (4669, 0.0), (4670, 0.0), (4671, 0.0), (4672, 0.0), (4673, 0.0), (4675, 0.0), (4677, 0.0), (4679, 0.0), (4680, 0.0), (4681, 0.0), (4682, 0.0), (4683, 0.0), (4684, 0.0), (4685, 0.0), (4686, 0.0), (4687, 0.0), (4689, 0.0), (4690, 0.0), (4691, 0.0), (4692, 0.0), (4693, 0.0), (4694, 0.0), (4695, 0.0), (4696, 0.0), (4697, 0.0), (4698, 0.0), (4699, 0.0), (4700, 0.0), (4702, 0.0), (4703, 0.0), (4704, 0.0), (4705, 0.0), (4706, 0.0), (4707, 0.0), (4709, 0.0), (4710, 0.0), (4711, 0.0), (4712, 0.0), (4713, 0.0), (4714, 0.0), (4715, 0.0), (4716, 0.0), (4717, 0.0), (4718, 0.0), (4719, 0.0), (4720, 0.0), (4721, 0.0), (4723, 0.0), (4724, 0.0), (4725, 0.0), (4726, 0.0), (4727, 0.0), (4729, 0.0), (4730, 0.0), (4731, 0.0), (4732, 0.0), (4733, 0.0), (4734, 0.0), (4737, 0.0), (4738, 0.0), (4739, 0.0), (4740, 0.0), (4741, 0.0), (4742, 0.0), (4743, 0.0), (4744, 0.0), (4745, 0.0), (4746, 0.0), (4749, 0.0), (4750, 0.0), (4751, 0.0), (4752, 0.0), (4753, 0.0), (4754, 0.0), (4755, 0.0), (4756, 0.0), (4758, 0.0), (4759, 0.0)]\n"
          ]
        }
      ]
    },
    {
      "cell_type": "code",
      "source": [
        "print('Top 30 movies recommended for you are: \\n')\n",
        "i = 1\n",
        "for movie in Sorted_Similar_Movies:\n",
        "  index = movie[0]\n",
        "  title_from_index = df[df.index == index]['Movie_Title'].values[0]\n",
        "  if (i<31):\n",
        "    print(i, '.',title_from_index)\n",
        "    i+=1"
      ],
      "metadata": {
        "id": "pCnbMnfvFJxv",
        "outputId": "9a5147bb-8831-485e-c6c4-551fe236715b",
        "colab": {
          "base_uri": "https://localhost:8080/"
        }
      },
      "execution_count": null,
      "outputs": [
        {
          "metadata": {
            "tags": null
          },
          "name": "stdout",
          "output_type": "stream",
          "text": [
            "Top 30 movies recommended for you are: \n",
            "\n",
            "1 . Home Run\n",
            "2 . Alien³\n",
            "3 . Victor Frankenstein\n",
            "4 . Michael Jackson's This Is It\n",
            "5 . Jane Got a Gun\n",
            "6 . The Express\n",
            "7 . The Skeleton Twins\n",
            "8 . Rampage\n",
            "9 . Winter's Tale\n",
            "10 . Master and Commander: The Far Side of the World\n",
            "11 . E.T. the Extra-Terrestrial\n",
            "12 . The Hours\n",
            "13 . The Sticky Fingers of Time\n",
            "14 . The Great Escape\n",
            "15 . Battle of the Year\n",
            "16 . A.I. Artificial Intelligence\n",
            "17 . Shame\n",
            "18 . How She Move\n",
            "19 . Seed of Chucky\n",
            "20 . 12 Angry Men\n",
            "21 . Mi America\n",
            "22 . After.Life\n",
            "23 . The Adventures of Sharkboy and Lavagirl\n",
            "24 . The Broadway Melody\n",
            "25 . My Name Is Bruce\n",
            "26 . The Legend of Hell's Gate: An American Conspiracy\n",
            "27 . Run All Night\n",
            "28 . The Ballad of Gregorio Cortez\n",
            "29 . Once Upon a Time in the West\n",
            "30 . Two Can Play That Game\n"
          ]
        }
      ]
    }
  ]
}